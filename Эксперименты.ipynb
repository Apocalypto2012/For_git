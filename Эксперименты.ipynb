{
 "cells": [
  {
   "cell_type": "markdown",
   "metadata": {
    "heading_collapsed": true
   },
   "source": [
    "# Блок установок"
   ]
  },
  {
   "cell_type": "code",
   "execution_count": null,
   "metadata": {
    "hidden": true
   },
   "outputs": [],
   "source": [
    "#conda install -c conda-forge jupyter_contrib_nbextensions"
   ]
  },
  {
   "cell_type": "code",
   "execution_count": 5,
   "metadata": {
    "hidden": true
   },
   "outputs": [],
   "source": [
    "#conda update -n base -c defaults conda"
   ]
  },
  {
   "cell_type": "code",
   "execution_count": 1,
   "metadata": {
    "hidden": true
   },
   "outputs": [
    {
     "name": "stdout",
     "output_type": "stream",
     "text": [
      "Requirement already satisfied: jupyter_contrib_nbextensions in e:\\progy\\lib\\site-packages (0.7.0)\n",
      "Requirement already satisfied: jupyter-contrib-core>=0.3.3 in e:\\progy\\lib\\site-packages (from jupyter_contrib_nbextensions) (0.4.0)\n",
      "Requirement already satisfied: nbconvert>=6.0 in e:\\progy\\lib\\site-packages (from jupyter_contrib_nbextensions) (6.0.7)\n",
      "Requirement already satisfied: ipython-genutils in e:\\progy\\lib\\site-packages (from jupyter_contrib_nbextensions) (0.2.0)\n",
      "Requirement already satisfied: jupyter-core in e:\\progy\\lib\\site-packages (from jupyter_contrib_nbextensions) (4.6.3)\n",
      "Requirement already satisfied: tornado in e:\\progy\\lib\\site-packages (from jupyter_contrib_nbextensions) (6.0.4)\n",
      "Requirement already satisfied: notebook>=6.0 in e:\\progy\\lib\\site-packages (from jupyter_contrib_nbextensions) (6.1.4)\n",
      "Requirement already satisfied: jupyter-highlight-selected-word>=0.1.1 in e:\\progy\\lib\\site-packages (from jupyter_contrib_nbextensions) (0.2.0)\n",
      "Requirement already satisfied: traitlets>=4.1 in e:\\progy\\lib\\site-packages (from jupyter_contrib_nbextensions) (5.0.5)\n",
      "Requirement already satisfied: jupyter-nbextensions-configurator>=0.4.0 in e:\\progy\\lib\\site-packages (from jupyter_contrib_nbextensions) (0.6.1)\n",
      "Requirement already satisfied: lxml in e:\\progy\\lib\\site-packages (from jupyter_contrib_nbextensions) (4.6.1)\n",
      "Requirement already satisfied: setuptools in e:\\progy\\lib\\site-packages (from jupyter-contrib-core>=0.3.3->jupyter_contrib_nbextensions) (50.3.1.post20201107)\n",
      "Requirement already satisfied: jinja2>=2.4 in e:\\progy\\lib\\site-packages (from nbconvert>=6.0->jupyter_contrib_nbextensions) (2.11.2)\n",
      "Requirement already satisfied: jupyterlab-pygments in e:\\progy\\lib\\site-packages (from nbconvert>=6.0->jupyter_contrib_nbextensions) (0.1.2)\n",
      "Requirement already satisfied: testpath in e:\\progy\\lib\\site-packages (from nbconvert>=6.0->jupyter_contrib_nbextensions) (0.4.4)\n",
      "Requirement already satisfied: nbclient<0.6.0,>=0.5.0 in e:\\progy\\lib\\site-packages (from nbconvert>=6.0->jupyter_contrib_nbextensions) (0.5.1)\n",
      "Requirement already satisfied: nbformat>=4.4 in e:\\progy\\lib\\site-packages (from nbconvert>=6.0->jupyter_contrib_nbextensions) (5.0.8)\n",
      "Requirement already satisfied: mistune<2,>=0.8.1 in e:\\progy\\lib\\site-packages (from nbconvert>=6.0->jupyter_contrib_nbextensions) (0.8.4)\n",
      "Requirement already satisfied: bleach in e:\\progy\\lib\\site-packages (from nbconvert>=6.0->jupyter_contrib_nbextensions) (3.2.1)\n",
      "Requirement already satisfied: entrypoints>=0.2.2 in e:\\progy\\lib\\site-packages (from nbconvert>=6.0->jupyter_contrib_nbextensions) (0.3)\n",
      "Requirement already satisfied: pandocfilters>=1.4.1 in e:\\progy\\lib\\site-packages (from nbconvert>=6.0->jupyter_contrib_nbextensions) (1.4.3)\n",
      "Requirement already satisfied: defusedxml in e:\\progy\\lib\\site-packages (from nbconvert>=6.0->jupyter_contrib_nbextensions) (0.6.0)\n",
      "Requirement already satisfied: pygments>=2.4.1 in e:\\progy\\lib\\site-packages (from nbconvert>=6.0->jupyter_contrib_nbextensions) (2.7.2)\n",
      "Requirement already satisfied: pywin32>=1.0; sys_platform == \"win32\" in e:\\progy\\lib\\site-packages (from jupyter-core->jupyter_contrib_nbextensions) (227)\n",
      "Requirement already satisfied: jupyter-client>=5.3.4 in e:\\progy\\lib\\site-packages (from notebook>=6.0->jupyter_contrib_nbextensions) (6.1.7)\n",
      "Requirement already satisfied: prometheus-client in e:\\progy\\lib\\site-packages (from notebook>=6.0->jupyter_contrib_nbextensions) (0.8.0)\n",
      "Requirement already satisfied: terminado>=0.8.3 in e:\\progy\\lib\\site-packages (from notebook>=6.0->jupyter_contrib_nbextensions) (0.9.1)\n",
      "Requirement already satisfied: ipykernel in e:\\progy\\lib\\site-packages (from notebook>=6.0->jupyter_contrib_nbextensions) (5.3.4)\n",
      "Requirement already satisfied: pyzmq>=17 in e:\\progy\\lib\\site-packages (from notebook>=6.0->jupyter_contrib_nbextensions) (19.0.2)\n",
      "Requirement already satisfied: Send2Trash in e:\\progy\\lib\\site-packages (from notebook>=6.0->jupyter_contrib_nbextensions) (1.5.0)\n",
      "Requirement already satisfied: argon2-cffi in e:\\progy\\lib\\site-packages (from notebook>=6.0->jupyter_contrib_nbextensions) (20.1.0)\n",
      "Requirement already satisfied: pyyaml in e:\\progy\\lib\\site-packages (from jupyter-nbextensions-configurator>=0.4.0->jupyter_contrib_nbextensions) (5.3.1)\n",
      "Requirement already satisfied: MarkupSafe>=0.23 in e:\\progy\\lib\\site-packages (from jinja2>=2.4->nbconvert>=6.0->jupyter_contrib_nbextensions) (1.1.1)\n",
      "Requirement already satisfied: nest-asyncio in e:\\progy\\lib\\site-packages (from nbclient<0.6.0,>=0.5.0->nbconvert>=6.0->jupyter_contrib_nbextensions) (1.4.2)\n",
      "Requirement already satisfied: async-generator in e:\\progy\\lib\\site-packages (from nbclient<0.6.0,>=0.5.0->nbconvert>=6.0->jupyter_contrib_nbextensions) (1.10)\n",
      "Requirement already satisfied: jsonschema!=2.5.0,>=2.4 in e:\\progy\\lib\\site-packages (from nbformat>=4.4->nbconvert>=6.0->jupyter_contrib_nbextensions) (3.2.0)\n",
      "Requirement already satisfied: webencodings in e:\\progy\\lib\\site-packages (from bleach->nbconvert>=6.0->jupyter_contrib_nbextensions) (0.5.1)\n",
      "Requirement already satisfied: packaging in e:\\progy\\lib\\site-packages (from bleach->nbconvert>=6.0->jupyter_contrib_nbextensions) (20.4)\n",
      "Requirement already satisfied: six>=1.9.0 in e:\\progy\\lib\\site-packages (from bleach->nbconvert>=6.0->jupyter_contrib_nbextensions) (1.15.0)\n",
      "Requirement already satisfied: python-dateutil>=2.1 in e:\\progy\\lib\\site-packages (from jupyter-client>=5.3.4->notebook>=6.0->jupyter_contrib_nbextensions) (2.8.1)\n",
      "Requirement already satisfied: pywinpty>=0.5 in e:\\progy\\lib\\site-packages (from terminado>=0.8.3->notebook>=6.0->jupyter_contrib_nbextensions) (0.5.7)\n",
      "Requirement already satisfied: ipython>=5.0.0 in e:\\progy\\lib\\site-packages (from ipykernel->notebook>=6.0->jupyter_contrib_nbextensions) (7.19.0)\n",
      "Requirement already satisfied: cffi>=1.0.0 in e:\\progy\\lib\\site-packages (from argon2-cffi->notebook>=6.0->jupyter_contrib_nbextensions) (1.14.3)\n",
      "Requirement already satisfied: attrs>=17.4.0 in e:\\progy\\lib\\site-packages (from jsonschema!=2.5.0,>=2.4->nbformat>=4.4->nbconvert>=6.0->jupyter_contrib_nbextensions) (20.3.0)\n",
      "Requirement already satisfied: pyrsistent>=0.14.0 in e:\\progy\\lib\\site-packages (from jsonschema!=2.5.0,>=2.4->nbformat>=4.4->nbconvert>=6.0->jupyter_contrib_nbextensions) (0.17.3)\n",
      "Requirement already satisfied: pyparsing>=2.0.2 in e:\\progy\\lib\\site-packages (from packaging->bleach->nbconvert>=6.0->jupyter_contrib_nbextensions) (2.4.7)\n",
      "Requirement already satisfied: pickleshare in e:\\progy\\lib\\site-packages (from ipython>=5.0.0->ipykernel->notebook>=6.0->jupyter_contrib_nbextensions) (0.7.5)\n",
      "Requirement already satisfied: colorama; sys_platform == \"win32\" in e:\\progy\\lib\\site-packages (from ipython>=5.0.0->ipykernel->notebook>=6.0->jupyter_contrib_nbextensions) (0.4.4)\n",
      "Requirement already satisfied: decorator in e:\\progy\\lib\\site-packages (from ipython>=5.0.0->ipykernel->notebook>=6.0->jupyter_contrib_nbextensions) (4.4.2)\n",
      "Requirement already satisfied: prompt-toolkit!=3.0.0,!=3.0.1,<3.1.0,>=2.0.0 in e:\\progy\\lib\\site-packages (from ipython>=5.0.0->ipykernel->notebook>=6.0->jupyter_contrib_nbextensions) (3.0.8)\n",
      "Requirement already satisfied: backcall in e:\\progy\\lib\\site-packages (from ipython>=5.0.0->ipykernel->notebook>=6.0->jupyter_contrib_nbextensions) (0.2.0)\n",
      "Requirement already satisfied: jedi>=0.10 in e:\\progy\\lib\\site-packages (from ipython>=5.0.0->ipykernel->notebook>=6.0->jupyter_contrib_nbextensions) (0.17.1)\n",
      "Requirement already satisfied: pycparser in e:\\progy\\lib\\site-packages (from cffi>=1.0.0->argon2-cffi->notebook>=6.0->jupyter_contrib_nbextensions) (2.20)\n",
      "Requirement already satisfied: wcwidth in e:\\progy\\lib\\site-packages (from prompt-toolkit!=3.0.0,!=3.0.1,<3.1.0,>=2.0.0->ipython>=5.0.0->ipykernel->notebook>=6.0->jupyter_contrib_nbextensions) (0.2.5)\n",
      "Requirement already satisfied: parso<0.8.0,>=0.7.0 in e:\\progy\\lib\\site-packages (from jedi>=0.10->ipython>=5.0.0->ipykernel->notebook>=6.0->jupyter_contrib_nbextensions) (0.7.0)\n",
      "Note: you may need to restart the kernel to use updated packages.\n"
     ]
    },
    {
     "name": "stderr",
     "output_type": "stream",
     "text": [
      "[I 15:10:34 InstallContribNbextensionsApp] jupyter contrib nbextension install \n",
      "[I 15:10:34 InstallContribNbextensionsApp] Installing jupyter_contrib_nbextensions nbextension files to jupyter data directory\n",
      "[I 15:10:34 InstallContribNbextensionsApp] Installing E:\\progy\\lib\\site-packages\\jupyter_contrib_nbextensions\\nbextensions\\addbefore -> addbefore\n",
      "[I 15:10:34 InstallContribNbextensionsApp] Making directory: C:\\ProgramData\\jupyter\\nbextensions\\addbefore\\\n",
      "[I 15:10:34 InstallContribNbextensionsApp] Copying: E:\\progy\\lib\\site-packages\\jupyter_contrib_nbextensions\\nbextensions\\addbefore\\addbefore.yaml -> C:\\ProgramData\\jupyter\\nbextensions\\addbefore\\addbefore.yaml\n",
      "[I 15:10:34 InstallContribNbextensionsApp] Copying: E:\\progy\\lib\\site-packages\\jupyter_contrib_nbextensions\\nbextensions\\addbefore\\icon.png -> C:\\ProgramData\\jupyter\\nbextensions\\addbefore\\icon.png\n",
      "[I 15:10:34 InstallContribNbextensionsApp] Copying: E:\\progy\\lib\\site-packages\\jupyter_contrib_nbextensions\\nbextensions\\addbefore\\main.js -> C:\\ProgramData\\jupyter\\nbextensions\\addbefore\\main.js\n",
      "[I 15:10:34 InstallContribNbextensionsApp] Copying: E:\\progy\\lib\\site-packages\\jupyter_contrib_nbextensions\\nbextensions\\addbefore\\readme.md -> C:\\ProgramData\\jupyter\\nbextensions\\addbefore\\readme.md\n",
      "[I 15:10:34 InstallContribNbextensionsApp] - Validating: ok\n",
      "[I 15:10:34 InstallContribNbextensionsApp] Installing E:\\progy\\lib\\site-packages\\jupyter_contrib_nbextensions\\nbextensions\\autosavetime -> autosavetime\n",
      "[I 15:10:34 InstallContribNbextensionsApp] Making directory: C:\\ProgramData\\jupyter\\nbextensions\\autosavetime\\\n",
      "[I 15:10:34 InstallContribNbextensionsApp] Copying: E:\\progy\\lib\\site-packages\\jupyter_contrib_nbextensions\\nbextensions\\autosavetime\\autosavetime.yaml -> C:\\ProgramData\\jupyter\\nbextensions\\autosavetime\\autosavetime.yaml\n",
      "[I 15:10:34 InstallContribNbextensionsApp] Copying: E:\\progy\\lib\\site-packages\\jupyter_contrib_nbextensions\\nbextensions\\autosavetime\\icon.png -> C:\\ProgramData\\jupyter\\nbextensions\\autosavetime\\icon.png\n",
      "[I 15:10:34 InstallContribNbextensionsApp] Copying: E:\\progy\\lib\\site-packages\\jupyter_contrib_nbextensions\\nbextensions\\autosavetime\\main.js -> C:\\ProgramData\\jupyter\\nbextensions\\autosavetime\\main.js\n",
      "[I 15:10:34 InstallContribNbextensionsApp] Copying: E:\\progy\\lib\\site-packages\\jupyter_contrib_nbextensions\\nbextensions\\autosavetime\\README.md -> C:\\ProgramData\\jupyter\\nbextensions\\autosavetime\\README.md\n",
      "[I 15:10:34 InstallContribNbextensionsApp] - Validating: ok\n",
      "[I 15:10:34 InstallContribNbextensionsApp] Installing E:\\progy\\lib\\site-packages\\jupyter_contrib_nbextensions\\nbextensions\\autoscroll -> autoscroll\n",
      "[I 15:10:34 InstallContribNbextensionsApp] Making directory: C:\\ProgramData\\jupyter\\nbextensions\\autoscroll\\\n",
      "[I 15:10:34 InstallContribNbextensionsApp] Copying: E:\\progy\\lib\\site-packages\\jupyter_contrib_nbextensions\\nbextensions\\autoscroll\\autoscroll.yaml -> C:\\ProgramData\\jupyter\\nbextensions\\autoscroll\\autoscroll.yaml\n",
      "[I 15:10:34 InstallContribNbextensionsApp] Copying: E:\\progy\\lib\\site-packages\\jupyter_contrib_nbextensions\\nbextensions\\autoscroll\\icon.png -> C:\\ProgramData\\jupyter\\nbextensions\\autoscroll\\icon.png\n",
      "[I 15:10:34 InstallContribNbextensionsApp] Copying: E:\\progy\\lib\\site-packages\\jupyter_contrib_nbextensions\\nbextensions\\autoscroll\\main.js -> C:\\ProgramData\\jupyter\\nbextensions\\autoscroll\\main.js\n",
      "[I 15:10:34 InstallContribNbextensionsApp] Copying: E:\\progy\\lib\\site-packages\\jupyter_contrib_nbextensions\\nbextensions\\autoscroll\\README.md -> C:\\ProgramData\\jupyter\\nbextensions\\autoscroll\\README.md\n",
      "[I 15:10:34 InstallContribNbextensionsApp] - Validating: ok\n",
      "[I 15:10:34 InstallContribNbextensionsApp] Installing E:\\progy\\lib\\site-packages\\jupyter_contrib_nbextensions\\nbextensions\\cell_filter -> cell_filter\n",
      "[I 15:10:34 InstallContribNbextensionsApp] Making directory: C:\\ProgramData\\jupyter\\nbextensions\\cell_filter\\\n",
      "[I 15:10:34 InstallContribNbextensionsApp] Copying: E:\\progy\\lib\\site-packages\\jupyter_contrib_nbextensions\\nbextensions\\cell_filter\\cell_filter.js -> C:\\ProgramData\\jupyter\\nbextensions\\cell_filter\\cell_filter.js\n",
      "[I 15:10:34 InstallContribNbextensionsApp] Copying: E:\\progy\\lib\\site-packages\\jupyter_contrib_nbextensions\\nbextensions\\cell_filter\\cell_filter.yml -> C:\\ProgramData\\jupyter\\nbextensions\\cell_filter\\cell_filter.yml\n",
      "[I 15:10:34 InstallContribNbextensionsApp] Copying: E:\\progy\\lib\\site-packages\\jupyter_contrib_nbextensions\\nbextensions\\cell_filter\\README.md -> C:\\ProgramData\\jupyter\\nbextensions\\cell_filter\\README.md\n",
      "[I 15:10:34 InstallContribNbextensionsApp] - Validating: ok\n",
      "[I 15:10:34 InstallContribNbextensionsApp] Installing E:\\progy\\lib\\site-packages\\jupyter_contrib_nbextensions\\nbextensions\\codefolding -> codefolding\n",
      "[I 15:10:34 InstallContribNbextensionsApp] Making directory: C:\\ProgramData\\jupyter\\nbextensions\\codefolding\\\n",
      "[I 15:10:34 InstallContribNbextensionsApp] Copying: E:\\progy\\lib\\site-packages\\jupyter_contrib_nbextensions\\nbextensions\\codefolding\\blockcomment-fold.js -> C:\\ProgramData\\jupyter\\nbextensions\\codefolding\\blockcomment-fold.js\n",
      "[I 15:10:34 InstallContribNbextensionsApp] Copying: E:\\progy\\lib\\site-packages\\jupyter_contrib_nbextensions\\nbextensions\\codefolding\\codefolding.yaml -> C:\\ProgramData\\jupyter\\nbextensions\\codefolding\\codefolding.yaml\n",
      "[I 15:10:34 InstallContribNbextensionsApp] Copying: E:\\progy\\lib\\site-packages\\jupyter_contrib_nbextensions\\nbextensions\\codefolding\\codefolding_editor.png -> C:\\ProgramData\\jupyter\\nbextensions\\codefolding\\codefolding_editor.png\n",
      "[I 15:10:34 InstallContribNbextensionsApp] Copying: E:\\progy\\lib\\site-packages\\jupyter_contrib_nbextensions\\nbextensions\\codefolding\\codefolding_editor.yaml -> C:\\ProgramData\\jupyter\\nbextensions\\codefolding\\codefolding_editor.yaml\n",
      "[I 15:10:34 InstallContribNbextensionsApp] Copying: E:\\progy\\lib\\site-packages\\jupyter_contrib_nbextensions\\nbextensions\\codefolding\\codefolding_firstline_folded.png -> C:\\ProgramData\\jupyter\\nbextensions\\codefolding\\codefolding_firstline_folded.png\n",
      "[I 15:10:34 InstallContribNbextensionsApp] Copying: E:\\progy\\lib\\site-packages\\jupyter_contrib_nbextensions\\nbextensions\\codefolding\\codefolding_firstline_unfolded.png -> C:\\ProgramData\\jupyter\\nbextensions\\codefolding\\codefolding_firstline_unfolded.png\n",
      "[I 15:10:34 InstallContribNbextensionsApp] Copying: E:\\progy\\lib\\site-packages\\jupyter_contrib_nbextensions\\nbextensions\\codefolding\\codefolding_indent_folded_1.png -> C:\\ProgramData\\jupyter\\nbextensions\\codefolding\\codefolding_indent_folded_1.png\n",
      "[I 15:10:34 InstallContribNbextensionsApp] Copying: E:\\progy\\lib\\site-packages\\jupyter_contrib_nbextensions\\nbextensions\\codefolding\\codefolding_indent_folded_2.png -> C:\\ProgramData\\jupyter\\nbextensions\\codefolding\\codefolding_indent_folded_2.png\n",
      "[I 15:10:34 InstallContribNbextensionsApp] Copying: E:\\progy\\lib\\site-packages\\jupyter_contrib_nbextensions\\nbextensions\\codefolding\\codefolding_indent_unfolded.png -> C:\\ProgramData\\jupyter\\nbextensions\\codefolding\\codefolding_indent_unfolded.png\n",
      "[I 15:10:34 InstallContribNbextensionsApp] Copying: E:\\progy\\lib\\site-packages\\jupyter_contrib_nbextensions\\nbextensions\\codefolding\\edit.js -> C:\\ProgramData\\jupyter\\nbextensions\\codefolding\\edit.js\n",
      "[I 15:10:34 InstallContribNbextensionsApp] Copying: E:\\progy\\lib\\site-packages\\jupyter_contrib_nbextensions\\nbextensions\\codefolding\\firstline-fold.js -> C:\\ProgramData\\jupyter\\nbextensions\\codefolding\\firstline-fold.js\n",
      "[I 15:10:34 InstallContribNbextensionsApp] Copying: E:\\progy\\lib\\site-packages\\jupyter_contrib_nbextensions\\nbextensions\\codefolding\\foldgutter.css -> C:\\ProgramData\\jupyter\\nbextensions\\codefolding\\foldgutter.css\n",
      "[I 15:10:34 InstallContribNbextensionsApp] Copying: E:\\progy\\lib\\site-packages\\jupyter_contrib_nbextensions\\nbextensions\\codefolding\\icon.png -> C:\\ProgramData\\jupyter\\nbextensions\\codefolding\\icon.png\n",
      "[I 15:10:34 InstallContribNbextensionsApp] Copying: E:\\progy\\lib\\site-packages\\jupyter_contrib_nbextensions\\nbextensions\\codefolding\\magic-fold.js -> C:\\ProgramData\\jupyter\\nbextensions\\codefolding\\magic-fold.js\n",
      "[I 15:10:34 InstallContribNbextensionsApp] Copying: E:\\progy\\lib\\site-packages\\jupyter_contrib_nbextensions\\nbextensions\\codefolding\\magic-folded.png -> C:\\ProgramData\\jupyter\\nbextensions\\codefolding\\magic-folded.png\n",
      "[I 15:10:34 InstallContribNbextensionsApp] Copying: E:\\progy\\lib\\site-packages\\jupyter_contrib_nbextensions\\nbextensions\\codefolding\\magic-unfolded.png -> C:\\ProgramData\\jupyter\\nbextensions\\codefolding\\magic-unfolded.png\n",
      "[I 15:10:34 InstallContribNbextensionsApp] Copying: E:\\progy\\lib\\site-packages\\jupyter_contrib_nbextensions\\nbextensions\\codefolding\\main.js -> C:\\ProgramData\\jupyter\\nbextensions\\codefolding\\main.js\n",
      "[I 15:10:34 InstallContribNbextensionsApp] Copying: E:\\progy\\lib\\site-packages\\jupyter_contrib_nbextensions\\nbextensions\\codefolding\\readme.md -> C:\\ProgramData\\jupyter\\nbextensions\\codefolding\\readme.md\n",
      "[I 15:10:34 InstallContribNbextensionsApp] - Validating: ok\n",
      "[I 15:10:34 InstallContribNbextensionsApp] Installing E:\\progy\\lib\\site-packages\\jupyter_contrib_nbextensions\\nbextensions\\codefolding -> codefolding\n",
      "[I 15:10:34 InstallContribNbextensionsApp] Up to date: C:\\ProgramData\\jupyter\\nbextensions\\codefolding\\blockcomment-fold.js\n",
      "[I 15:10:34 InstallContribNbextensionsApp] Up to date: C:\\ProgramData\\jupyter\\nbextensions\\codefolding\\codefolding.yaml\n",
      "[I 15:10:34 InstallContribNbextensionsApp] Up to date: C:\\ProgramData\\jupyter\\nbextensions\\codefolding\\codefolding_editor.png\n",
      "[I 15:10:34 InstallContribNbextensionsApp] Up to date: C:\\ProgramData\\jupyter\\nbextensions\\codefolding\\codefolding_editor.yaml\n",
      "[I 15:10:34 InstallContribNbextensionsApp] Up to date: C:\\ProgramData\\jupyter\\nbextensions\\codefolding\\codefolding_firstline_folded.png\n",
      "[I 15:10:34 InstallContribNbextensionsApp] Up to date: C:\\ProgramData\\jupyter\\nbextensions\\codefolding\\codefolding_firstline_unfolded.png\n",
      "[I 15:10:34 InstallContribNbextensionsApp] Up to date: C:\\ProgramData\\jupyter\\nbextensions\\codefolding\\codefolding_indent_folded_1.png\n",
      "[I 15:10:34 InstallContribNbextensionsApp] Up to date: C:\\ProgramData\\jupyter\\nbextensions\\codefolding\\codefolding_indent_folded_2.png\n",
      "[I 15:10:34 InstallContribNbextensionsApp] Up to date: C:\\ProgramData\\jupyter\\nbextensions\\codefolding\\codefolding_indent_unfolded.png\n",
      "[I 15:10:34 InstallContribNbextensionsApp] Up to date: C:\\ProgramData\\jupyter\\nbextensions\\codefolding\\edit.js\n",
      "[I 15:10:34 InstallContribNbextensionsApp] Up to date: C:\\ProgramData\\jupyter\\nbextensions\\codefolding\\firstline-fold.js\n",
      "[I 15:10:34 InstallContribNbextensionsApp] Up to date: C:\\ProgramData\\jupyter\\nbextensions\\codefolding\\foldgutter.css\n",
      "[I 15:10:34 InstallContribNbextensionsApp] Up to date: C:\\ProgramData\\jupyter\\nbextensions\\codefolding\\icon.png\n",
      "[I 15:10:34 InstallContribNbextensionsApp] Up to date: C:\\ProgramData\\jupyter\\nbextensions\\codefolding\\magic-fold.js\n",
      "[I 15:10:34 InstallContribNbextensionsApp] Up to date: C:\\ProgramData\\jupyter\\nbextensions\\codefolding\\magic-folded.png\n",
      "[I 15:10:34 InstallContribNbextensionsApp] Up to date: C:\\ProgramData\\jupyter\\nbextensions\\codefolding\\magic-unfolded.png\n",
      "[I 15:10:34 InstallContribNbextensionsApp] Up to date: C:\\ProgramData\\jupyter\\nbextensions\\codefolding\\main.js\n",
      "[I 15:10:34 InstallContribNbextensionsApp] Up to date: C:\\ProgramData\\jupyter\\nbextensions\\codefolding\\readme.md\n",
      "[I 15:10:34 InstallContribNbextensionsApp] - Validating: ok\n",
      "[I 15:10:34 InstallContribNbextensionsApp] Installing E:\\progy\\lib\\site-packages\\jupyter_contrib_nbextensions\\nbextensions\\codemirror_mode_extensions -> codemirror_mode_extensions\n",
      "[I 15:10:34 InstallContribNbextensionsApp] Making directory: C:\\ProgramData\\jupyter\\nbextensions\\codemirror_mode_extensions\\\n",
      "[I 15:10:34 InstallContribNbextensionsApp] Copying: E:\\progy\\lib\\site-packages\\jupyter_contrib_nbextensions\\nbextensions\\codemirror_mode_extensions\\codemirror_mode_extensions.yaml -> C:\\ProgramData\\jupyter\\nbextensions\\codemirror_mode_extensions\\codemirror_mode_extensions.yaml\n",
      "[I 15:10:34 InstallContribNbextensionsApp] Copying: E:\\progy\\lib\\site-packages\\jupyter_contrib_nbextensions\\nbextensions\\codemirror_mode_extensions\\main.js -> C:\\ProgramData\\jupyter\\nbextensions\\codemirror_mode_extensions\\main.js\n",
      "[I 15:10:34 InstallContribNbextensionsApp] - Validating: ok\n",
      "[I 15:10:34 InstallContribNbextensionsApp] Installing E:\\progy\\lib\\site-packages\\jupyter_contrib_nbextensions\\nbextensions\\code_font_size -> code_font_size\n",
      "[I 15:10:34 InstallContribNbextensionsApp] Making directory: C:\\ProgramData\\jupyter\\nbextensions\\code_font_size\\\n",
      "[I 15:10:34 InstallContribNbextensionsApp] Copying: E:\\progy\\lib\\site-packages\\jupyter_contrib_nbextensions\\nbextensions\\code_font_size\\code_font_size.js -> C:\\ProgramData\\jupyter\\nbextensions\\code_font_size\\code_font_size.js\n",
      "[I 15:10:34 InstallContribNbextensionsApp] Copying: E:\\progy\\lib\\site-packages\\jupyter_contrib_nbextensions\\nbextensions\\code_font_size\\code_font_size.yaml -> C:\\ProgramData\\jupyter\\nbextensions\\code_font_size\\code_font_size.yaml\n",
      "[I 15:10:34 InstallContribNbextensionsApp] Copying: E:\\progy\\lib\\site-packages\\jupyter_contrib_nbextensions\\nbextensions\\code_font_size\\README.md -> C:\\ProgramData\\jupyter\\nbextensions\\code_font_size\\README.md\n",
      "[I 15:10:34 InstallContribNbextensionsApp] - Validating: ok\n",
      "[I 15:10:34 InstallContribNbextensionsApp] Installing E:\\progy\\lib\\site-packages\\jupyter_contrib_nbextensions\\nbextensions\\code_prettify -> code_prettify\n",
      "[I 15:10:34 InstallContribNbextensionsApp] Making directory: C:\\ProgramData\\jupyter\\nbextensions\\code_prettify\\\n",
      "[I 15:10:34 InstallContribNbextensionsApp] Copying: E:\\progy\\lib\\site-packages\\jupyter_contrib_nbextensions\\nbextensions\\code_prettify\\2to3.js -> C:\\ProgramData\\jupyter\\nbextensions\\code_prettify\\2to3.js\n",
      "[I 15:10:34 InstallContribNbextensionsApp] Copying: E:\\progy\\lib\\site-packages\\jupyter_contrib_nbextensions\\nbextensions\\code_prettify\\2to3.yaml -> C:\\ProgramData\\jupyter\\nbextensions\\code_prettify\\2to3.yaml\n",
      "[I 15:10:34 InstallContribNbextensionsApp] Copying: E:\\progy\\lib\\site-packages\\jupyter_contrib_nbextensions\\nbextensions\\code_prettify\\autopep8.js -> C:\\ProgramData\\jupyter\\nbextensions\\code_prettify\\autopep8.js\n",
      "[I 15:10:34 InstallContribNbextensionsApp] Copying: E:\\progy\\lib\\site-packages\\jupyter_contrib_nbextensions\\nbextensions\\code_prettify\\autopep8.yaml -> C:\\ProgramData\\jupyter\\nbextensions\\code_prettify\\autopep8.yaml\n",
      "[I 15:10:34 InstallContribNbextensionsApp] Copying: E:\\progy\\lib\\site-packages\\jupyter_contrib_nbextensions\\nbextensions\\code_prettify\\code_prettify.js -> C:\\ProgramData\\jupyter\\nbextensions\\code_prettify\\code_prettify.js\n",
      "[I 15:10:34 InstallContribNbextensionsApp] Copying: E:\\progy\\lib\\site-packages\\jupyter_contrib_nbextensions\\nbextensions\\code_prettify\\code_prettify.yaml -> C:\\ProgramData\\jupyter\\nbextensions\\code_prettify\\code_prettify.yaml\n",
      "[I 15:10:34 InstallContribNbextensionsApp] Copying: E:\\progy\\lib\\site-packages\\jupyter_contrib_nbextensions\\nbextensions\\code_prettify\\demo-jv.gif -> C:\\ProgramData\\jupyter\\nbextensions\\code_prettify\\demo-jv.gif\n",
      "[I 15:10:34 InstallContribNbextensionsApp] Copying: E:\\progy\\lib\\site-packages\\jupyter_contrib_nbextensions\\nbextensions\\code_prettify\\demo-py.gif -> C:\\ProgramData\\jupyter\\nbextensions\\code_prettify\\demo-py.gif\n",
      "[I 15:10:34 InstallContribNbextensionsApp] Copying: E:\\progy\\lib\\site-packages\\jupyter_contrib_nbextensions\\nbextensions\\code_prettify\\demo-R.gif -> C:\\ProgramData\\jupyter\\nbextensions\\code_prettify\\demo-R.gif\n",
      "[I 15:10:34 InstallContribNbextensionsApp] Copying: E:\\progy\\lib\\site-packages\\jupyter_contrib_nbextensions\\nbextensions\\code_prettify\\demo_2to3.gif -> C:\\ProgramData\\jupyter\\nbextensions\\code_prettify\\demo_2to3.gif\n",
      "[I 15:10:34 InstallContribNbextensionsApp] Copying: E:\\progy\\lib\\site-packages\\jupyter_contrib_nbextensions\\nbextensions\\code_prettify\\isort.js -> C:\\ProgramData\\jupyter\\nbextensions\\code_prettify\\isort.js\n",
      "[I 15:10:34 InstallContribNbextensionsApp] Copying: E:\\progy\\lib\\site-packages\\jupyter_contrib_nbextensions\\nbextensions\\code_prettify\\isort.yaml -> C:\\ProgramData\\jupyter\\nbextensions\\code_prettify\\isort.yaml\n",
      "[I 15:10:34 InstallContribNbextensionsApp] Copying: E:\\progy\\lib\\site-packages\\jupyter_contrib_nbextensions\\nbextensions\\code_prettify\\kernel_exec_on_cell.js -> C:\\ProgramData\\jupyter\\nbextensions\\code_prettify\\kernel_exec_on_cell.js\n",
      "[I 15:10:34 InstallContribNbextensionsApp] Copying: E:\\progy\\lib\\site-packages\\jupyter_contrib_nbextensions\\nbextensions\\code_prettify\\README.md -> C:\\ProgramData\\jupyter\\nbextensions\\code_prettify\\README.md\n",
      "[I 15:10:35 InstallContribNbextensionsApp] Copying: E:\\progy\\lib\\site-packages\\jupyter_contrib_nbextensions\\nbextensions\\code_prettify\\README_2to3.md -> C:\\ProgramData\\jupyter\\nbextensions\\code_prettify\\README_2to3.md\n",
      "[I 15:10:35 InstallContribNbextensionsApp] Copying: E:\\progy\\lib\\site-packages\\jupyter_contrib_nbextensions\\nbextensions\\code_prettify\\README_autopep8.md -> C:\\ProgramData\\jupyter\\nbextensions\\code_prettify\\README_autopep8.md\n",
      "[I 15:10:35 InstallContribNbextensionsApp] Copying: E:\\progy\\lib\\site-packages\\jupyter_contrib_nbextensions\\nbextensions\\code_prettify\\README_code_prettify.md -> C:\\ProgramData\\jupyter\\nbextensions\\code_prettify\\README_code_prettify.md\n",
      "[I 15:10:35 InstallContribNbextensionsApp] Copying: E:\\progy\\lib\\site-packages\\jupyter_contrib_nbextensions\\nbextensions\\code_prettify\\README_isort.md -> C:\\ProgramData\\jupyter\\nbextensions\\code_prettify\\README_isort.md\n",
      "[I 15:10:35 InstallContribNbextensionsApp] - Validating: ok\n",
      "[I 15:10:35 InstallContribNbextensionsApp] Installing E:\\progy\\lib\\site-packages\\jupyter_contrib_nbextensions\\nbextensions\\code_prettify -> code_prettify\n",
      "[I 15:10:35 InstallContribNbextensionsApp] Up to date: C:\\ProgramData\\jupyter\\nbextensions\\code_prettify\\2to3.js\n",
      "[I 15:10:35 InstallContribNbextensionsApp] Up to date: C:\\ProgramData\\jupyter\\nbextensions\\code_prettify\\2to3.yaml\n",
      "[I 15:10:35 InstallContribNbextensionsApp] Up to date: C:\\ProgramData\\jupyter\\nbextensions\\code_prettify\\autopep8.js\n",
      "[I 15:10:35 InstallContribNbextensionsApp] Up to date: C:\\ProgramData\\jupyter\\nbextensions\\code_prettify\\autopep8.yaml\n",
      "[I 15:10:35 InstallContribNbextensionsApp] Up to date: C:\\ProgramData\\jupyter\\nbextensions\\code_prettify\\code_prettify.js\n",
      "[I 15:10:35 InstallContribNbextensionsApp] Up to date: C:\\ProgramData\\jupyter\\nbextensions\\code_prettify\\code_prettify.yaml\n",
      "[I 15:10:35 InstallContribNbextensionsApp] Up to date: C:\\ProgramData\\jupyter\\nbextensions\\code_prettify\\demo-jv.gif\n",
      "[I 15:10:35 InstallContribNbextensionsApp] Up to date: C:\\ProgramData\\jupyter\\nbextensions\\code_prettify\\demo-py.gif\n",
      "[I 15:10:35 InstallContribNbextensionsApp] Up to date: C:\\ProgramData\\jupyter\\nbextensions\\code_prettify\\demo-R.gif\n",
      "[I 15:10:35 InstallContribNbextensionsApp] Up to date: C:\\ProgramData\\jupyter\\nbextensions\\code_prettify\\demo_2to3.gif\n",
      "[I 15:10:35 InstallContribNbextensionsApp] Up to date: C:\\ProgramData\\jupyter\\nbextensions\\code_prettify\\isort.js\n",
      "[I 15:10:35 InstallContribNbextensionsApp] Up to date: C:\\ProgramData\\jupyter\\nbextensions\\code_prettify\\isort.yaml\n",
      "[I 15:10:35 InstallContribNbextensionsApp] Up to date: C:\\ProgramData\\jupyter\\nbextensions\\code_prettify\\kernel_exec_on_cell.js\n",
      "[I 15:10:35 InstallContribNbextensionsApp] Up to date: C:\\ProgramData\\jupyter\\nbextensions\\code_prettify\\README.md\n",
      "[I 15:10:35 InstallContribNbextensionsApp] Up to date: C:\\ProgramData\\jupyter\\nbextensions\\code_prettify\\README_2to3.md\n",
      "[I 15:10:35 InstallContribNbextensionsApp] Up to date: C:\\ProgramData\\jupyter\\nbextensions\\code_prettify\\README_autopep8.md\n",
      "[I 15:10:35 InstallContribNbextensionsApp] Up to date: C:\\ProgramData\\jupyter\\nbextensions\\code_prettify\\README_code_prettify.md\n",
      "[I 15:10:35 InstallContribNbextensionsApp] Up to date: C:\\ProgramData\\jupyter\\nbextensions\\code_prettify\\README_isort.md\n",
      "[I 15:10:35 InstallContribNbextensionsApp] - Validating: ok\n",
      "[I 15:10:35 InstallContribNbextensionsApp] Installing E:\\progy\\lib\\site-packages\\jupyter_contrib_nbextensions\\nbextensions\\code_prettify -> code_prettify\n",
      "[I 15:10:35 InstallContribNbextensionsApp] Up to date: C:\\ProgramData\\jupyter\\nbextensions\\code_prettify\\2to3.js\n",
      "[I 15:10:35 InstallContribNbextensionsApp] Up to date: C:\\ProgramData\\jupyter\\nbextensions\\code_prettify\\2to3.yaml\n",
      "[I 15:10:35 InstallContribNbextensionsApp] Up to date: C:\\ProgramData\\jupyter\\nbextensions\\code_prettify\\autopep8.js\n",
      "[I 15:10:35 InstallContribNbextensionsApp] Up to date: C:\\ProgramData\\jupyter\\nbextensions\\code_prettify\\autopep8.yaml\n",
      "[I 15:10:35 InstallContribNbextensionsApp] Up to date: C:\\ProgramData\\jupyter\\nbextensions\\code_prettify\\code_prettify.js\n",
      "[I 15:10:35 InstallContribNbextensionsApp] Up to date: C:\\ProgramData\\jupyter\\nbextensions\\code_prettify\\code_prettify.yaml\n",
      "[I 15:10:35 InstallContribNbextensionsApp] Up to date: C:\\ProgramData\\jupyter\\nbextensions\\code_prettify\\demo-jv.gif\n",
      "[I 15:10:35 InstallContribNbextensionsApp] Up to date: C:\\ProgramData\\jupyter\\nbextensions\\code_prettify\\demo-py.gif\n",
      "[I 15:10:35 InstallContribNbextensionsApp] Up to date: C:\\ProgramData\\jupyter\\nbextensions\\code_prettify\\demo-R.gif\n",
      "[I 15:10:35 InstallContribNbextensionsApp] Up to date: C:\\ProgramData\\jupyter\\nbextensions\\code_prettify\\demo_2to3.gif\n",
      "[I 15:10:35 InstallContribNbextensionsApp] Up to date: C:\\ProgramData\\jupyter\\nbextensions\\code_prettify\\isort.js\n",
      "[I 15:10:35 InstallContribNbextensionsApp] Up to date: C:\\ProgramData\\jupyter\\nbextensions\\code_prettify\\isort.yaml\n",
      "[I 15:10:35 InstallContribNbextensionsApp] Up to date: C:\\ProgramData\\jupyter\\nbextensions\\code_prettify\\kernel_exec_on_cell.js\n",
      "[I 15:10:35 InstallContribNbextensionsApp] Up to date: C:\\ProgramData\\jupyter\\nbextensions\\code_prettify\\README.md\n",
      "[I 15:10:35 InstallContribNbextensionsApp] Up to date: C:\\ProgramData\\jupyter\\nbextensions\\code_prettify\\README_2to3.md\n",
      "[I 15:10:35 InstallContribNbextensionsApp] Up to date: C:\\ProgramData\\jupyter\\nbextensions\\code_prettify\\README_autopep8.md\n",
      "[I 15:10:35 InstallContribNbextensionsApp] Up to date: C:\\ProgramData\\jupyter\\nbextensions\\code_prettify\\README_code_prettify.md\n",
      "[I 15:10:35 InstallContribNbextensionsApp] Up to date: C:\\ProgramData\\jupyter\\nbextensions\\code_prettify\\README_isort.md\n",
      "[I 15:10:35 InstallContribNbextensionsApp] - Validating: ok\n",
      "[I 15:10:35 InstallContribNbextensionsApp] Installing E:\\progy\\lib\\site-packages\\jupyter_contrib_nbextensions\\nbextensions\\code_prettify -> code_prettify\n",
      "[I 15:10:35 InstallContribNbextensionsApp] Up to date: C:\\ProgramData\\jupyter\\nbextensions\\code_prettify\\2to3.js\n",
      "[I 15:10:35 InstallContribNbextensionsApp] Up to date: C:\\ProgramData\\jupyter\\nbextensions\\code_prettify\\2to3.yaml\n",
      "[I 15:10:35 InstallContribNbextensionsApp] Up to date: C:\\ProgramData\\jupyter\\nbextensions\\code_prettify\\autopep8.js\n",
      "[I 15:10:35 InstallContribNbextensionsApp] Up to date: C:\\ProgramData\\jupyter\\nbextensions\\code_prettify\\autopep8.yaml\n",
      "[I 15:10:35 InstallContribNbextensionsApp] Up to date: C:\\ProgramData\\jupyter\\nbextensions\\code_prettify\\code_prettify.js\n",
      "[I 15:10:35 InstallContribNbextensionsApp] Up to date: C:\\ProgramData\\jupyter\\nbextensions\\code_prettify\\code_prettify.yaml\n",
      "[I 15:10:35 InstallContribNbextensionsApp] Up to date: C:\\ProgramData\\jupyter\\nbextensions\\code_prettify\\demo-jv.gif\n",
      "[I 15:10:35 InstallContribNbextensionsApp] Up to date: C:\\ProgramData\\jupyter\\nbextensions\\code_prettify\\demo-py.gif\n",
      "[I 15:10:35 InstallContribNbextensionsApp] Up to date: C:\\ProgramData\\jupyter\\nbextensions\\code_prettify\\demo-R.gif\n",
      "[I 15:10:35 InstallContribNbextensionsApp] Up to date: C:\\ProgramData\\jupyter\\nbextensions\\code_prettify\\demo_2to3.gif\n",
      "[I 15:10:35 InstallContribNbextensionsApp] Up to date: C:\\ProgramData\\jupyter\\nbextensions\\code_prettify\\isort.js\n",
      "[I 15:10:35 InstallContribNbextensionsApp] Up to date: C:\\ProgramData\\jupyter\\nbextensions\\code_prettify\\isort.yaml\n",
      "[I 15:10:35 InstallContribNbextensionsApp] Up to date: C:\\ProgramData\\jupyter\\nbextensions\\code_prettify\\kernel_exec_on_cell.js\n",
      "[I 15:10:35 InstallContribNbextensionsApp] Up to date: C:\\ProgramData\\jupyter\\nbextensions\\code_prettify\\README.md\n",
      "[I 15:10:35 InstallContribNbextensionsApp] Up to date: C:\\ProgramData\\jupyter\\nbextensions\\code_prettify\\README_2to3.md\n",
      "[I 15:10:35 InstallContribNbextensionsApp] Up to date: C:\\ProgramData\\jupyter\\nbextensions\\code_prettify\\README_autopep8.md\n",
      "[I 15:10:35 InstallContribNbextensionsApp] Up to date: C:\\ProgramData\\jupyter\\nbextensions\\code_prettify\\README_code_prettify.md\n",
      "[I 15:10:35 InstallContribNbextensionsApp] Up to date: C:\\ProgramData\\jupyter\\nbextensions\\code_prettify\\README_isort.md\n",
      "[I 15:10:35 InstallContribNbextensionsApp] - Validating: ok\n",
      "[I 15:10:35 InstallContribNbextensionsApp] Installing E:\\progy\\lib\\site-packages\\jupyter_contrib_nbextensions\\nbextensions\\collapsible_headings -> collapsible_headings\n",
      "[I 15:10:35 InstallContribNbextensionsApp] Making directory: C:\\ProgramData\\jupyter\\nbextensions\\collapsible_headings\\\n",
      "[I 15:10:35 InstallContribNbextensionsApp] Copying: E:\\progy\\lib\\site-packages\\jupyter_contrib_nbextensions\\nbextensions\\collapsible_headings\\collapsible_headings.yaml -> C:\\ProgramData\\jupyter\\nbextensions\\collapsible_headings\\collapsible_headings.yaml\n",
      "[I 15:10:35 InstallContribNbextensionsApp] Copying: E:\\progy\\lib\\site-packages\\jupyter_contrib_nbextensions\\nbextensions\\collapsible_headings\\icon.png -> C:\\ProgramData\\jupyter\\nbextensions\\collapsible_headings\\icon.png\n",
      "[I 15:10:35 InstallContribNbextensionsApp] Copying: E:\\progy\\lib\\site-packages\\jupyter_contrib_nbextensions\\nbextensions\\collapsible_headings\\main.css -> C:\\ProgramData\\jupyter\\nbextensions\\collapsible_headings\\main.css\n",
      "[I 15:10:35 InstallContribNbextensionsApp] Copying: E:\\progy\\lib\\site-packages\\jupyter_contrib_nbextensions\\nbextensions\\collapsible_headings\\main.js -> C:\\ProgramData\\jupyter\\nbextensions\\collapsible_headings\\main.js\n",
      "[I 15:10:35 InstallContribNbextensionsApp] Copying: E:\\progy\\lib\\site-packages\\jupyter_contrib_nbextensions\\nbextensions\\collapsible_headings\\readme.md -> C:\\ProgramData\\jupyter\\nbextensions\\collapsible_headings\\readme.md\n",
      "[I 15:10:35 InstallContribNbextensionsApp] Copying: E:\\progy\\lib\\site-packages\\jupyter_contrib_nbextensions\\nbextensions\\collapsible_headings\\screenshot.png -> C:\\ProgramData\\jupyter\\nbextensions\\collapsible_headings\\screenshot.png\n",
      "[I 15:10:35 InstallContribNbextensionsApp] - Validating: ok\n",
      "[I 15:10:35 InstallContribNbextensionsApp] Installing E:\\progy\\lib\\site-packages\\jupyter_contrib_nbextensions\\nbextensions\\comment-uncomment -> comment-uncomment\n",
      "[I 15:10:35 InstallContribNbextensionsApp] Making directory: C:\\ProgramData\\jupyter\\nbextensions\\comment-uncomment\\\n",
      "[I 15:10:35 InstallContribNbextensionsApp] Copying: E:\\progy\\lib\\site-packages\\jupyter_contrib_nbextensions\\nbextensions\\comment-uncomment\\comment-uncomment.yaml -> C:\\ProgramData\\jupyter\\nbextensions\\comment-uncomment\\comment-uncomment.yaml\n",
      "[I 15:10:35 InstallContribNbextensionsApp] Copying: E:\\progy\\lib\\site-packages\\jupyter_contrib_nbextensions\\nbextensions\\comment-uncomment\\icon.png -> C:\\ProgramData\\jupyter\\nbextensions\\comment-uncomment\\icon.png\n",
      "[I 15:10:35 InstallContribNbextensionsApp] Copying: E:\\progy\\lib\\site-packages\\jupyter_contrib_nbextensions\\nbextensions\\comment-uncomment\\main.js -> C:\\ProgramData\\jupyter\\nbextensions\\comment-uncomment\\main.js\n",
      "[I 15:10:35 InstallContribNbextensionsApp] Copying: E:\\progy\\lib\\site-packages\\jupyter_contrib_nbextensions\\nbextensions\\comment-uncomment\\readme.md -> C:\\ProgramData\\jupyter\\nbextensions\\comment-uncomment\\readme.md\n",
      "[I 15:10:35 InstallContribNbextensionsApp] - Validating: ok\n",
      "[I 15:10:35 InstallContribNbextensionsApp] Installing E:\\progy\\lib\\site-packages\\jupyter_contrib_nbextensions\\nbextensions\\contrib_nbextensions_help_item -> contrib_nbextensions_help_item\n",
      "[I 15:10:35 InstallContribNbextensionsApp] Making directory: C:\\ProgramData\\jupyter\\nbextensions\\contrib_nbextensions_help_item\\\n",
      "[I 15:10:35 InstallContribNbextensionsApp] Copying: E:\\progy\\lib\\site-packages\\jupyter_contrib_nbextensions\\nbextensions\\contrib_nbextensions_help_item\\contrib_nbextensions_help_item.yaml -> C:\\ProgramData\\jupyter\\nbextensions\\contrib_nbextensions_help_item\\contrib_nbextensions_help_item.yaml\n",
      "[I 15:10:35 InstallContribNbextensionsApp] Copying: E:\\progy\\lib\\site-packages\\jupyter_contrib_nbextensions\\nbextensions\\contrib_nbextensions_help_item\\main.js -> C:\\ProgramData\\jupyter\\nbextensions\\contrib_nbextensions_help_item\\main.js\n",
      "[I 15:10:35 InstallContribNbextensionsApp] Copying: E:\\progy\\lib\\site-packages\\jupyter_contrib_nbextensions\\nbextensions\\contrib_nbextensions_help_item\\README.md -> C:\\ProgramData\\jupyter\\nbextensions\\contrib_nbextensions_help_item\\README.md\n",
      "[I 15:10:35 InstallContribNbextensionsApp] - Validating: ok\n",
      "[I 15:10:35 InstallContribNbextensionsApp] Installing E:\\progy\\lib\\site-packages\\jupyter_contrib_nbextensions\\nbextensions\\datestamper -> datestamper\n",
      "[I 15:10:35 InstallContribNbextensionsApp] Making directory: C:\\ProgramData\\jupyter\\nbextensions\\datestamper\\\n",
      "[I 15:10:35 InstallContribNbextensionsApp] Copying: E:\\progy\\lib\\site-packages\\jupyter_contrib_nbextensions\\nbextensions\\datestamper\\icon.png -> C:\\ProgramData\\jupyter\\nbextensions\\datestamper\\icon.png\n",
      "[I 15:10:35 InstallContribNbextensionsApp] Copying: E:\\progy\\lib\\site-packages\\jupyter_contrib_nbextensions\\nbextensions\\datestamper\\main.js -> C:\\ProgramData\\jupyter\\nbextensions\\datestamper\\main.js\n",
      "[I 15:10:35 InstallContribNbextensionsApp] Copying: E:\\progy\\lib\\site-packages\\jupyter_contrib_nbextensions\\nbextensions\\datestamper\\main.yaml -> C:\\ProgramData\\jupyter\\nbextensions\\datestamper\\main.yaml\n",
      "[I 15:10:35 InstallContribNbextensionsApp] Copying: E:\\progy\\lib\\site-packages\\jupyter_contrib_nbextensions\\nbextensions\\datestamper\\readme.md -> C:\\ProgramData\\jupyter\\nbextensions\\datestamper\\readme.md\n",
      "[I 15:10:35 InstallContribNbextensionsApp] - Validating: ok\n",
      "[I 15:10:35 InstallContribNbextensionsApp] Installing E:\\progy\\lib\\site-packages\\jupyter_contrib_nbextensions\\nbextensions\\equation-numbering -> equation-numbering\n",
      "[I 15:10:35 InstallContribNbextensionsApp] Making directory: C:\\ProgramData\\jupyter\\nbextensions\\equation-numbering\\\n",
      "[I 15:10:35 InstallContribNbextensionsApp] Copying: E:\\progy\\lib\\site-packages\\jupyter_contrib_nbextensions\\nbextensions\\equation-numbering\\button.png -> C:\\ProgramData\\jupyter\\nbextensions\\equation-numbering\\button.png\n",
      "[I 15:10:35 InstallContribNbextensionsApp] Copying: E:\\progy\\lib\\site-packages\\jupyter_contrib_nbextensions\\nbextensions\\equation-numbering\\icon.png -> C:\\ProgramData\\jupyter\\nbextensions\\equation-numbering\\icon.png\n",
      "[I 15:10:35 InstallContribNbextensionsApp] Copying: E:\\progy\\lib\\site-packages\\jupyter_contrib_nbextensions\\nbextensions\\equation-numbering\\info.yaml -> C:\\ProgramData\\jupyter\\nbextensions\\equation-numbering\\info.yaml\n",
      "[I 15:10:35 InstallContribNbextensionsApp] Copying: E:\\progy\\lib\\site-packages\\jupyter_contrib_nbextensions\\nbextensions\\equation-numbering\\main.js -> C:\\ProgramData\\jupyter\\nbextensions\\equation-numbering\\main.js\n",
      "[I 15:10:35 InstallContribNbextensionsApp] Copying: E:\\progy\\lib\\site-packages\\jupyter_contrib_nbextensions\\nbextensions\\equation-numbering\\readme.md -> C:\\ProgramData\\jupyter\\nbextensions\\equation-numbering\\readme.md\n",
      "[I 15:10:35 InstallContribNbextensionsApp] - Validating: ok\n",
      "[I 15:10:35 InstallContribNbextensionsApp] Installing E:\\progy\\lib\\site-packages\\jupyter_contrib_nbextensions\\nbextensions\\execute_time -> execute_time\n",
      "[I 15:10:35 InstallContribNbextensionsApp] Making directory: C:\\ProgramData\\jupyter\\nbextensions\\execute_time\\\n",
      "[I 15:10:35 InstallContribNbextensionsApp] Copying: E:\\progy\\lib\\site-packages\\jupyter_contrib_nbextensions\\nbextensions\\execute_time\\ExecuteTime.css -> C:\\ProgramData\\jupyter\\nbextensions\\execute_time\\ExecuteTime.css\n",
      "[I 15:10:35 InstallContribNbextensionsApp] Copying: E:\\progy\\lib\\site-packages\\jupyter_contrib_nbextensions\\nbextensions\\execute_time\\ExecuteTime.js -> C:\\ProgramData\\jupyter\\nbextensions\\execute_time\\ExecuteTime.js\n",
      "[I 15:10:35 InstallContribNbextensionsApp] Copying: E:\\progy\\lib\\site-packages\\jupyter_contrib_nbextensions\\nbextensions\\execute_time\\ExecuteTime.yaml -> C:\\ProgramData\\jupyter\\nbextensions\\execute_time\\ExecuteTime.yaml\n",
      "[I 15:10:35 InstallContribNbextensionsApp] Copying: E:\\progy\\lib\\site-packages\\jupyter_contrib_nbextensions\\nbextensions\\execute_time\\execution-timings-box.png -> C:\\ProgramData\\jupyter\\nbextensions\\execute_time\\execution-timings-box.png\n",
      "[I 15:10:35 InstallContribNbextensionsApp] Copying: E:\\progy\\lib\\site-packages\\jupyter_contrib_nbextensions\\nbextensions\\execute_time\\execution-timings-menu.png -> C:\\ProgramData\\jupyter\\nbextensions\\execute_time\\execution-timings-menu.png\n",
      "[I 15:10:35 InstallContribNbextensionsApp] Copying: E:\\progy\\lib\\site-packages\\jupyter_contrib_nbextensions\\nbextensions\\execute_time\\icon.png -> C:\\ProgramData\\jupyter\\nbextensions\\execute_time\\icon.png\n",
      "[I 15:10:35 InstallContribNbextensionsApp] Copying: E:\\progy\\lib\\site-packages\\jupyter_contrib_nbextensions\\nbextensions\\execute_time\\readme.md -> C:\\ProgramData\\jupyter\\nbextensions\\execute_time\\readme.md\n",
      "[I 15:10:35 InstallContribNbextensionsApp] - Validating: ok\n",
      "[I 15:10:35 InstallContribNbextensionsApp] Installing E:\\progy\\lib\\site-packages\\jupyter_contrib_nbextensions\\nbextensions\\execution_dependencies -> execution_dependencies\n",
      "[I 15:10:35 InstallContribNbextensionsApp] Making directory: C:\\ProgramData\\jupyter\\nbextensions\\execution_dependencies\\\n",
      "[I 15:10:35 InstallContribNbextensionsApp] Copying: E:\\progy\\lib\\site-packages\\jupyter_contrib_nbextensions\\nbextensions\\execution_dependencies\\execution_dependencies.js -> C:\\ProgramData\\jupyter\\nbextensions\\execution_dependencies\\execution_dependencies.js\n",
      "[I 15:10:35 InstallContribNbextensionsApp] Copying: E:\\progy\\lib\\site-packages\\jupyter_contrib_nbextensions\\nbextensions\\execution_dependencies\\execution_dependencies.yml -> C:\\ProgramData\\jupyter\\nbextensions\\execution_dependencies\\execution_dependencies.yml\n",
      "[I 15:10:35 InstallContribNbextensionsApp] Copying: E:\\progy\\lib\\site-packages\\jupyter_contrib_nbextensions\\nbextensions\\execution_dependencies\\README.md -> C:\\ProgramData\\jupyter\\nbextensions\\execution_dependencies\\README.md\n",
      "[I 15:10:35 InstallContribNbextensionsApp] - Validating: ok\n",
      "[I 15:10:35 InstallContribNbextensionsApp] Installing E:\\progy\\lib\\site-packages\\jupyter_contrib_nbextensions\\nbextensions\\exercise -> exercise\n",
      "[I 15:10:35 InstallContribNbextensionsApp] Making directory: C:\\ProgramData\\jupyter\\nbextensions\\exercise\\\n",
      "[I 15:10:35 InstallContribNbextensionsApp] Copying: E:\\progy\\lib\\site-packages\\jupyter_contrib_nbextensions\\nbextensions\\exercise\\exercise.yaml -> C:\\ProgramData\\jupyter\\nbextensions\\exercise\\exercise.yaml\n",
      "[I 15:10:35 InstallContribNbextensionsApp] Copying: E:\\progy\\lib\\site-packages\\jupyter_contrib_nbextensions\\nbextensions\\exercise\\history.md -> C:\\ProgramData\\jupyter\\nbextensions\\exercise\\history.md\n",
      "[I 15:10:35 InstallContribNbextensionsApp] Copying: E:\\progy\\lib\\site-packages\\jupyter_contrib_nbextensions\\nbextensions\\exercise\\icon.png -> C:\\ProgramData\\jupyter\\nbextensions\\exercise\\icon.png\n",
      "[I 15:10:35 InstallContribNbextensionsApp] Copying: E:\\progy\\lib\\site-packages\\jupyter_contrib_nbextensions\\nbextensions\\exercise\\image.gif -> C:\\ProgramData\\jupyter\\nbextensions\\exercise\\image.gif\n",
      "[I 15:10:35 InstallContribNbextensionsApp] Copying: E:\\progy\\lib\\site-packages\\jupyter_contrib_nbextensions\\nbextensions\\exercise\\main.css -> C:\\ProgramData\\jupyter\\nbextensions\\exercise\\main.css\n",
      "[I 15:10:35 InstallContribNbextensionsApp] Copying: E:\\progy\\lib\\site-packages\\jupyter_contrib_nbextensions\\nbextensions\\exercise\\main.js -> C:\\ProgramData\\jupyter\\nbextensions\\exercise\\main.js\n",
      "[I 15:10:35 InstallContribNbextensionsApp] Copying: E:\\progy\\lib\\site-packages\\jupyter_contrib_nbextensions\\nbextensions\\exercise\\readme.md -> C:\\ProgramData\\jupyter\\nbextensions\\exercise\\readme.md\n",
      "[I 15:10:35 InstallContribNbextensionsApp] - Validating: ok\n",
      "[I 15:10:35 InstallContribNbextensionsApp] Installing E:\\progy\\lib\\site-packages\\jupyter_contrib_nbextensions\\nbextensions\\exercise2 -> exercise2\n",
      "[I 15:10:35 InstallContribNbextensionsApp] Making directory: C:\\ProgramData\\jupyter\\nbextensions\\exercise2\\\n",
      "[I 15:10:35 InstallContribNbextensionsApp] Copying: E:\\progy\\lib\\site-packages\\jupyter_contrib_nbextensions\\nbextensions\\exercise2\\exercise2.yaml -> C:\\ProgramData\\jupyter\\nbextensions\\exercise2\\exercise2.yaml\n",
      "[I 15:10:35 InstallContribNbextensionsApp] Copying: E:\\progy\\lib\\site-packages\\jupyter_contrib_nbextensions\\nbextensions\\exercise2\\icon.png -> C:\\ProgramData\\jupyter\\nbextensions\\exercise2\\icon.png\n",
      "[I 15:10:35 InstallContribNbextensionsApp] Copying: E:\\progy\\lib\\site-packages\\jupyter_contrib_nbextensions\\nbextensions\\exercise2\\image.gif -> C:\\ProgramData\\jupyter\\nbextensions\\exercise2\\image.gif\n",
      "[I 15:10:35 InstallContribNbextensionsApp] Copying: E:\\progy\\lib\\site-packages\\jupyter_contrib_nbextensions\\nbextensions\\exercise2\\main.css -> C:\\ProgramData\\jupyter\\nbextensions\\exercise2\\main.css\n",
      "[I 15:10:35 InstallContribNbextensionsApp] Copying: E:\\progy\\lib\\site-packages\\jupyter_contrib_nbextensions\\nbextensions\\exercise2\\main.js -> C:\\ProgramData\\jupyter\\nbextensions\\exercise2\\main.js\n",
      "[I 15:10:35 InstallContribNbextensionsApp] Copying: E:\\progy\\lib\\site-packages\\jupyter_contrib_nbextensions\\nbextensions\\exercise2\\readme.md -> C:\\ProgramData\\jupyter\\nbextensions\\exercise2\\readme.md\n",
      "[I 15:10:35 InstallContribNbextensionsApp] - Validating: ok\n",
      "[I 15:10:35 InstallContribNbextensionsApp] Installing E:\\progy\\lib\\site-packages\\jupyter_contrib_nbextensions\\nbextensions\\export_embedded -> export_embedded\n",
      "[I 15:10:35 InstallContribNbextensionsApp] Making directory: C:\\ProgramData\\jupyter\\nbextensions\\export_embedded\\\n",
      "[I 15:10:35 InstallContribNbextensionsApp] Copying: E:\\progy\\lib\\site-packages\\jupyter_contrib_nbextensions\\nbextensions\\export_embedded\\export_embedded.yaml -> C:\\ProgramData\\jupyter\\nbextensions\\export_embedded\\export_embedded.yaml\n",
      "[I 15:10:35 InstallContribNbextensionsApp] Copying: E:\\progy\\lib\\site-packages\\jupyter_contrib_nbextensions\\nbextensions\\export_embedded\\icon.png -> C:\\ProgramData\\jupyter\\nbextensions\\export_embedded\\icon.png\n",
      "[I 15:10:35 InstallContribNbextensionsApp] Copying: E:\\progy\\lib\\site-packages\\jupyter_contrib_nbextensions\\nbextensions\\export_embedded\\main.js -> C:\\ProgramData\\jupyter\\nbextensions\\export_embedded\\main.js\n",
      "[I 15:10:35 InstallContribNbextensionsApp] Copying: E:\\progy\\lib\\site-packages\\jupyter_contrib_nbextensions\\nbextensions\\export_embedded\\readme.md -> C:\\ProgramData\\jupyter\\nbextensions\\export_embedded\\readme.md\n",
      "[I 15:10:35 InstallContribNbextensionsApp] - Validating: ok\n",
      "[I 15:10:35 InstallContribNbextensionsApp] Installing E:\\progy\\lib\\site-packages\\jupyter_contrib_nbextensions\\nbextensions\\freeze -> freeze\n",
      "[I 15:10:35 InstallContribNbextensionsApp] Making directory: C:\\ProgramData\\jupyter\\nbextensions\\freeze\\\n",
      "[I 15:10:35 InstallContribNbextensionsApp] Copying: E:\\progy\\lib\\site-packages\\jupyter_contrib_nbextensions\\nbextensions\\freeze\\config.yaml -> C:\\ProgramData\\jupyter\\nbextensions\\freeze\\config.yaml\n",
      "[I 15:10:35 InstallContribNbextensionsApp] Copying: E:\\progy\\lib\\site-packages\\jupyter_contrib_nbextensions\\nbextensions\\freeze\\icon.png -> C:\\ProgramData\\jupyter\\nbextensions\\freeze\\icon.png\n",
      "[I 15:10:35 InstallContribNbextensionsApp] Copying: E:\\progy\\lib\\site-packages\\jupyter_contrib_nbextensions\\nbextensions\\freeze\\main.js -> C:\\ProgramData\\jupyter\\nbextensions\\freeze\\main.js\n",
      "[I 15:10:35 InstallContribNbextensionsApp] Copying: E:\\progy\\lib\\site-packages\\jupyter_contrib_nbextensions\\nbextensions\\freeze\\readme.md -> C:\\ProgramData\\jupyter\\nbextensions\\freeze\\readme.md\n",
      "[I 15:10:35 InstallContribNbextensionsApp] - Validating: ok\n",
      "[I 15:10:35 InstallContribNbextensionsApp] Installing E:\\progy\\lib\\site-packages\\jupyter_contrib_nbextensions\\nbextensions\\gist_it -> gist_it\n",
      "[I 15:10:35 InstallContribNbextensionsApp] Making directory: C:\\ProgramData\\jupyter\\nbextensions\\gist_it\\\n",
      "[I 15:10:35 InstallContribNbextensionsApp] Copying: E:\\progy\\lib\\site-packages\\jupyter_contrib_nbextensions\\nbextensions\\gist_it\\gist_it.yaml -> C:\\ProgramData\\jupyter\\nbextensions\\gist_it\\gist_it.yaml\n",
      "[I 15:10:35 InstallContribNbextensionsApp] Copying: E:\\progy\\lib\\site-packages\\jupyter_contrib_nbextensions\\nbextensions\\gist_it\\icon.png -> C:\\ProgramData\\jupyter\\nbextensions\\gist_it\\icon.png\n",
      "[I 15:10:35 InstallContribNbextensionsApp] Copying: E:\\progy\\lib\\site-packages\\jupyter_contrib_nbextensions\\nbextensions\\gist_it\\main.js -> C:\\ProgramData\\jupyter\\nbextensions\\gist_it\\main.js\n",
      "[I 15:10:35 InstallContribNbextensionsApp] Copying: E:\\progy\\lib\\site-packages\\jupyter_contrib_nbextensions\\nbextensions\\gist_it\\readme.md -> C:\\ProgramData\\jupyter\\nbextensions\\gist_it\\readme.md\n",
      "[I 15:10:35 InstallContribNbextensionsApp] - Validating: ok\n",
      "[I 15:10:35 InstallContribNbextensionsApp] Installing E:\\progy\\lib\\site-packages\\jupyter_contrib_nbextensions\\nbextensions\\go_to_current_running_cell -> go_to_current_running_cell\n",
      "[I 15:10:35 InstallContribNbextensionsApp] Making directory: C:\\ProgramData\\jupyter\\nbextensions\\go_to_current_running_cell\\\n",
      "[I 15:10:35 InstallContribNbextensionsApp] Copying: E:\\progy\\lib\\site-packages\\jupyter_contrib_nbextensions\\nbextensions\\go_to_current_running_cell\\anchor.png -> C:\\ProgramData\\jupyter\\nbextensions\\go_to_current_running_cell\\anchor.png\n",
      "[I 15:10:35 InstallContribNbextensionsApp] Copying: E:\\progy\\lib\\site-packages\\jupyter_contrib_nbextensions\\nbextensions\\go_to_current_running_cell\\auto_focus.gif -> C:\\ProgramData\\jupyter\\nbextensions\\go_to_current_running_cell\\auto_focus.gif\n",
      "[I 15:10:35 InstallContribNbextensionsApp] Copying: E:\\progy\\lib\\site-packages\\jupyter_contrib_nbextensions\\nbextensions\\go_to_current_running_cell\\eye.png -> C:\\ProgramData\\jupyter\\nbextensions\\go_to_current_running_cell\\eye.png\n",
      "[I 15:10:35 InstallContribNbextensionsApp] Copying: E:\\progy\\lib\\site-packages\\jupyter_contrib_nbextensions\\nbextensions\\go_to_current_running_cell\\go_to_current_running_cell.yaml -> C:\\ProgramData\\jupyter\\nbextensions\\go_to_current_running_cell\\go_to_current_running_cell.yaml\n",
      "[I 15:10:35 InstallContribNbextensionsApp] Copying: E:\\progy\\lib\\site-packages\\jupyter_contrib_nbextensions\\nbextensions\\go_to_current_running_cell\\jump_to_cell.gif -> C:\\ProgramData\\jupyter\\nbextensions\\go_to_current_running_cell\\jump_to_cell.gif\n",
      "[I 15:10:35 InstallContribNbextensionsApp] Copying: E:\\progy\\lib\\site-packages\\jupyter_contrib_nbextensions\\nbextensions\\go_to_current_running_cell\\main.js -> C:\\ProgramData\\jupyter\\nbextensions\\go_to_current_running_cell\\main.js\n",
      "[I 15:10:35 InstallContribNbextensionsApp] Copying: E:\\progy\\lib\\site-packages\\jupyter_contrib_nbextensions\\nbextensions\\go_to_current_running_cell\\README.md -> C:\\ProgramData\\jupyter\\nbextensions\\go_to_current_running_cell\\README.md\n",
      "[I 15:10:35 InstallContribNbextensionsApp] - Validating: ok\n",
      "[I 15:10:35 InstallContribNbextensionsApp] Installing E:\\progy\\lib\\site-packages\\jupyter_contrib_nbextensions\\nbextensions\\help_panel -> help_panel\n",
      "[I 15:10:35 InstallContribNbextensionsApp] Making directory: C:\\ProgramData\\jupyter\\nbextensions\\help_panel\\\n",
      "[I 15:10:35 InstallContribNbextensionsApp] Copying: E:\\progy\\lib\\site-packages\\jupyter_contrib_nbextensions\\nbextensions\\help_panel\\help_panel.css -> C:\\ProgramData\\jupyter\\nbextensions\\help_panel\\help_panel.css\n",
      "[I 15:10:35 InstallContribNbextensionsApp] Copying: E:\\progy\\lib\\site-packages\\jupyter_contrib_nbextensions\\nbextensions\\help_panel\\help_panel.js -> C:\\ProgramData\\jupyter\\nbextensions\\help_panel\\help_panel.js\n",
      "[I 15:10:35 InstallContribNbextensionsApp] Copying: E:\\progy\\lib\\site-packages\\jupyter_contrib_nbextensions\\nbextensions\\help_panel\\help_panel.yaml -> C:\\ProgramData\\jupyter\\nbextensions\\help_panel\\help_panel.yaml\n",
      "[I 15:10:35 InstallContribNbextensionsApp] Copying: E:\\progy\\lib\\site-packages\\jupyter_contrib_nbextensions\\nbextensions\\help_panel\\help_panel_ext.png -> C:\\ProgramData\\jupyter\\nbextensions\\help_panel\\help_panel_ext.png\n",
      "[I 15:10:35 InstallContribNbextensionsApp] Copying: E:\\progy\\lib\\site-packages\\jupyter_contrib_nbextensions\\nbextensions\\help_panel\\help_panel_ext_fullscreen.png -> C:\\ProgramData\\jupyter\\nbextensions\\help_panel\\help_panel_ext_fullscreen.png\n",
      "[I 15:10:35 InstallContribNbextensionsApp] Copying: E:\\progy\\lib\\site-packages\\jupyter_contrib_nbextensions\\nbextensions\\help_panel\\icon.png -> C:\\ProgramData\\jupyter\\nbextensions\\help_panel\\icon.png\n",
      "[I 15:10:35 InstallContribNbextensionsApp] Copying: E:\\progy\\lib\\site-packages\\jupyter_contrib_nbextensions\\nbextensions\\help_panel\\readme.md -> C:\\ProgramData\\jupyter\\nbextensions\\help_panel\\readme.md\n",
      "[I 15:10:35 InstallContribNbextensionsApp] Making directory: C:\\ProgramData\\jupyter\\nbextensions\\help_panel\\img\n",
      "[I 15:10:35 InstallContribNbextensionsApp] Copying: E:\\progy\\lib\\site-packages\\jupyter_contrib_nbextensions\\nbextensions\\help_panel\\img\\handle-v.png -> C:\\ProgramData\\jupyter\\nbextensions\\help_panel\\img\\handle-v.png\n",
      "[I 15:10:35 InstallContribNbextensionsApp] - Validating: ok\n",
      "[I 15:10:35 InstallContribNbextensionsApp] Installing E:\\progy\\lib\\site-packages\\jupyter_contrib_nbextensions\\nbextensions\\hide_header -> hide_header\n",
      "[I 15:10:35 InstallContribNbextensionsApp] Making directory: C:\\ProgramData\\jupyter\\nbextensions\\hide_header\\\n",
      "[I 15:10:35 InstallContribNbextensionsApp] Copying: E:\\progy\\lib\\site-packages\\jupyter_contrib_nbextensions\\nbextensions\\hide_header\\hide_header.yaml -> C:\\ProgramData\\jupyter\\nbextensions\\hide_header\\hide_header.yaml\n",
      "[I 15:10:35 InstallContribNbextensionsApp] Copying: E:\\progy\\lib\\site-packages\\jupyter_contrib_nbextensions\\nbextensions\\hide_header\\main.js -> C:\\ProgramData\\jupyter\\nbextensions\\hide_header\\main.js\n",
      "[I 15:10:35 InstallContribNbextensionsApp] Copying: E:\\progy\\lib\\site-packages\\jupyter_contrib_nbextensions\\nbextensions\\hide_header\\README.md -> C:\\ProgramData\\jupyter\\nbextensions\\hide_header\\README.md\n",
      "[I 15:10:35 InstallContribNbextensionsApp] - Validating: ok\n",
      "[I 15:10:35 InstallContribNbextensionsApp] Installing E:\\progy\\lib\\site-packages\\jupyter_contrib_nbextensions\\nbextensions\\hide_input -> hide_input\n",
      "[I 15:10:35 InstallContribNbextensionsApp] Making directory: C:\\ProgramData\\jupyter\\nbextensions\\hide_input\\\n",
      "[I 15:10:35 InstallContribNbextensionsApp] Copying: E:\\progy\\lib\\site-packages\\jupyter_contrib_nbextensions\\nbextensions\\hide_input\\hide-input.yaml -> C:\\ProgramData\\jupyter\\nbextensions\\hide_input\\hide-input.yaml\n",
      "[I 15:10:35 InstallContribNbextensionsApp] Copying: E:\\progy\\lib\\site-packages\\jupyter_contrib_nbextensions\\nbextensions\\hide_input\\icon.png -> C:\\ProgramData\\jupyter\\nbextensions\\hide_input\\icon.png\n",
      "[I 15:10:35 InstallContribNbextensionsApp] Copying: E:\\progy\\lib\\site-packages\\jupyter_contrib_nbextensions\\nbextensions\\hide_input\\main.js -> C:\\ProgramData\\jupyter\\nbextensions\\hide_input\\main.js\n",
      "[I 15:10:35 InstallContribNbextensionsApp] Copying: E:\\progy\\lib\\site-packages\\jupyter_contrib_nbextensions\\nbextensions\\hide_input\\readme.md -> C:\\ProgramData\\jupyter\\nbextensions\\hide_input\\readme.md\n",
      "[I 15:10:35 InstallContribNbextensionsApp] - Validating: ok\n",
      "[I 15:10:35 InstallContribNbextensionsApp] Installing E:\\progy\\lib\\site-packages\\jupyter_contrib_nbextensions\\nbextensions\\hide_input_all -> hide_input_all\n",
      "[I 15:10:35 InstallContribNbextensionsApp] Making directory: C:\\ProgramData\\jupyter\\nbextensions\\hide_input_all\\\n",
      "[I 15:10:35 InstallContribNbextensionsApp] Copying: E:\\progy\\lib\\site-packages\\jupyter_contrib_nbextensions\\nbextensions\\hide_input_all\\hide_input_all.yaml -> C:\\ProgramData\\jupyter\\nbextensions\\hide_input_all\\hide_input_all.yaml\n",
      "[I 15:10:35 InstallContribNbextensionsApp] Copying: E:\\progy\\lib\\site-packages\\jupyter_contrib_nbextensions\\nbextensions\\hide_input_all\\hide_input_all_hide.png -> C:\\ProgramData\\jupyter\\nbextensions\\hide_input_all\\hide_input_all_hide.png\n",
      "[I 15:10:35 InstallContribNbextensionsApp] Copying: E:\\progy\\lib\\site-packages\\jupyter_contrib_nbextensions\\nbextensions\\hide_input_all\\hide_input_all_show.png -> C:\\ProgramData\\jupyter\\nbextensions\\hide_input_all\\hide_input_all_show.png\n",
      "[I 15:10:35 InstallContribNbextensionsApp] Copying: E:\\progy\\lib\\site-packages\\jupyter_contrib_nbextensions\\nbextensions\\hide_input_all\\icon.png -> C:\\ProgramData\\jupyter\\nbextensions\\hide_input_all\\icon.png\n",
      "[I 15:10:35 InstallContribNbextensionsApp] Copying: E:\\progy\\lib\\site-packages\\jupyter_contrib_nbextensions\\nbextensions\\hide_input_all\\main.js -> C:\\ProgramData\\jupyter\\nbextensions\\hide_input_all\\main.js\n",
      "[I 15:10:35 InstallContribNbextensionsApp] Copying: E:\\progy\\lib\\site-packages\\jupyter_contrib_nbextensions\\nbextensions\\hide_input_all\\readme.md -> C:\\ProgramData\\jupyter\\nbextensions\\hide_input_all\\readme.md\n",
      "[I 15:10:35 InstallContribNbextensionsApp] - Validating: ok\n",
      "[I 15:10:35 InstallContribNbextensionsApp] Installing E:\\progy\\lib\\site-packages\\jupyter_contrib_nbextensions\\nbextensions\\highlighter -> highlighter\n",
      "[I 15:10:35 InstallContribNbextensionsApp] Making directory: C:\\ProgramData\\jupyter\\nbextensions\\highlighter\\\n",
      "[I 15:10:35 InstallContribNbextensionsApp] Copying: E:\\progy\\lib\\site-packages\\jupyter_contrib_nbextensions\\nbextensions\\highlighter\\demo_highlighter.html -> C:\\ProgramData\\jupyter\\nbextensions\\highlighter\\demo_highlighter.html\n",
      "[I 15:10:35 InstallContribNbextensionsApp] Copying: E:\\progy\\lib\\site-packages\\jupyter_contrib_nbextensions\\nbextensions\\highlighter\\demo_highlighter.ipynb -> C:\\ProgramData\\jupyter\\nbextensions\\highlighter\\demo_highlighter.ipynb\n",
      "[I 15:10:35 InstallContribNbextensionsApp] Copying: E:\\progy\\lib\\site-packages\\jupyter_contrib_nbextensions\\nbextensions\\highlighter\\export_highlights.html -> C:\\ProgramData\\jupyter\\nbextensions\\highlighter\\export_highlights.html\n",
      "[I 15:10:35 InstallContribNbextensionsApp] Copying: E:\\progy\\lib\\site-packages\\jupyter_contrib_nbextensions\\nbextensions\\highlighter\\export_highlights.ipynb -> C:\\ProgramData\\jupyter\\nbextensions\\highlighter\\export_highlights.ipynb\n",
      "[I 15:10:35 InstallContribNbextensionsApp] Copying: E:\\progy\\lib\\site-packages\\jupyter_contrib_nbextensions\\nbextensions\\highlighter\\export_highlights.pdf -> C:\\ProgramData\\jupyter\\nbextensions\\highlighter\\export_highlights.pdf\n",
      "[I 15:10:35 InstallContribNbextensionsApp] Copying: E:\\progy\\lib\\site-packages\\jupyter_contrib_nbextensions\\nbextensions\\highlighter\\export_highlights.tex -> C:\\ProgramData\\jupyter\\nbextensions\\highlighter\\export_highlights.tex\n",
      "[I 15:10:35 InstallContribNbextensionsApp] Copying: E:\\progy\\lib\\site-packages\\jupyter_contrib_nbextensions\\nbextensions\\highlighter\\highlighter.css -> C:\\ProgramData\\jupyter\\nbextensions\\highlighter\\highlighter.css\n",
      "[I 15:10:35 InstallContribNbextensionsApp] Copying: E:\\progy\\lib\\site-packages\\jupyter_contrib_nbextensions\\nbextensions\\highlighter\\highlighter.js -> C:\\ProgramData\\jupyter\\nbextensions\\highlighter\\highlighter.js\n",
      "[I 15:10:35 InstallContribNbextensionsApp] Copying: E:\\progy\\lib\\site-packages\\jupyter_contrib_nbextensions\\nbextensions\\highlighter\\highlighter.yaml -> C:\\ProgramData\\jupyter\\nbextensions\\highlighter\\highlighter.yaml\n",
      "[I 15:10:35 InstallContribNbextensionsApp] Copying: E:\\progy\\lib\\site-packages\\jupyter_contrib_nbextensions\\nbextensions\\highlighter\\icon.png -> C:\\ProgramData\\jupyter\\nbextensions\\highlighter\\icon.png\n",
      "[I 15:10:35 InstallContribNbextensionsApp] Copying: E:\\progy\\lib\\site-packages\\jupyter_contrib_nbextensions\\nbextensions\\highlighter\\image.gif -> C:\\ProgramData\\jupyter\\nbextensions\\highlighter\\image.gif\n",
      "[I 15:10:35 InstallContribNbextensionsApp] Copying: E:\\progy\\lib\\site-packages\\jupyter_contrib_nbextensions\\nbextensions\\highlighter\\readme.md -> C:\\ProgramData\\jupyter\\nbextensions\\highlighter\\readme.md\n",
      "[I 15:10:35 InstallContribNbextensionsApp] Copying: E:\\progy\\lib\\site-packages\\jupyter_contrib_nbextensions\\nbextensions\\highlighter\\tst_highlights.html -> C:\\ProgramData\\jupyter\\nbextensions\\highlighter\\tst_highlights.html\n",
      "[I 15:10:35 InstallContribNbextensionsApp] Copying: E:\\progy\\lib\\site-packages\\jupyter_contrib_nbextensions\\nbextensions\\highlighter\\tst_highlights.ipynb -> C:\\ProgramData\\jupyter\\nbextensions\\highlighter\\tst_highlights.ipynb\n",
      "[I 15:10:35 InstallContribNbextensionsApp] Copying: E:\\progy\\lib\\site-packages\\jupyter_contrib_nbextensions\\nbextensions\\highlighter\\tst_highlights.pdf -> C:\\ProgramData\\jupyter\\nbextensions\\highlighter\\tst_highlights.pdf\n",
      "[I 15:10:35 InstallContribNbextensionsApp] Copying: E:\\progy\\lib\\site-packages\\jupyter_contrib_nbextensions\\nbextensions\\highlighter\\tst_highlights.tex -> C:\\ProgramData\\jupyter\\nbextensions\\highlighter\\tst_highlights.tex\n",
      "[I 15:10:35 InstallContribNbextensionsApp] - Validating: ok\n",
      "[I 15:10:35 InstallContribNbextensionsApp] Installing E:\\progy\\lib\\site-packages\\jupyter_contrib_nbextensions\\nbextensions\\hinterland -> hinterland\n",
      "[I 15:10:35 InstallContribNbextensionsApp] Making directory: C:\\ProgramData\\jupyter\\nbextensions\\hinterland\\\n",
      "[I 15:10:35 InstallContribNbextensionsApp] Copying: E:\\progy\\lib\\site-packages\\jupyter_contrib_nbextensions\\nbextensions\\hinterland\\hinterland.js -> C:\\ProgramData\\jupyter\\nbextensions\\hinterland\\hinterland.js\n",
      "[I 15:10:35 InstallContribNbextensionsApp] Copying: E:\\progy\\lib\\site-packages\\jupyter_contrib_nbextensions\\nbextensions\\hinterland\\hinterland.yaml -> C:\\ProgramData\\jupyter\\nbextensions\\hinterland\\hinterland.yaml\n",
      "[I 15:10:35 InstallContribNbextensionsApp] Copying: E:\\progy\\lib\\site-packages\\jupyter_contrib_nbextensions\\nbextensions\\hinterland\\README.md -> C:\\ProgramData\\jupyter\\nbextensions\\hinterland\\README.md\n",
      "[I 15:10:35 InstallContribNbextensionsApp] - Validating: ok\n",
      "[I 15:10:35 InstallContribNbextensionsApp] Installing E:\\progy\\lib\\site-packages\\jupyter_contrib_nbextensions\\nbextensions\\init_cell -> init_cell\n",
      "[I 15:10:35 InstallContribNbextensionsApp] Making directory: C:\\ProgramData\\jupyter\\nbextensions\\init_cell\\\n",
      "[I 15:10:35 InstallContribNbextensionsApp] Copying: E:\\progy\\lib\\site-packages\\jupyter_contrib_nbextensions\\nbextensions\\init_cell\\cell_toolbar_menu.png -> C:\\ProgramData\\jupyter\\nbextensions\\init_cell\\cell_toolbar_menu.png\n",
      "[I 15:10:35 InstallContribNbextensionsApp] Copying: E:\\progy\\lib\\site-packages\\jupyter_contrib_nbextensions\\nbextensions\\init_cell\\icon.png -> C:\\ProgramData\\jupyter\\nbextensions\\init_cell\\icon.png\n",
      "[I 15:10:35 InstallContribNbextensionsApp] Copying: E:\\progy\\lib\\site-packages\\jupyter_contrib_nbextensions\\nbextensions\\init_cell\\init_cell.yaml -> C:\\ProgramData\\jupyter\\nbextensions\\init_cell\\init_cell.yaml\n",
      "[I 15:10:35 InstallContribNbextensionsApp] Copying: E:\\progy\\lib\\site-packages\\jupyter_contrib_nbextensions\\nbextensions\\init_cell\\main.js -> C:\\ProgramData\\jupyter\\nbextensions\\init_cell\\main.js\n",
      "[I 15:10:35 InstallContribNbextensionsApp] Copying: E:\\progy\\lib\\site-packages\\jupyter_contrib_nbextensions\\nbextensions\\init_cell\\README.md -> C:\\ProgramData\\jupyter\\nbextensions\\init_cell\\README.md\n",
      "[I 15:10:35 InstallContribNbextensionsApp] - Validating: ok\n",
      "[I 15:10:35 InstallContribNbextensionsApp] Installing E:\\progy\\lib\\site-packages\\jupyter_contrib_nbextensions\\nbextensions\\keyboard_shortcut_editor -> keyboard_shortcut_editor\n",
      "[I 15:10:35 InstallContribNbextensionsApp] Making directory: C:\\ProgramData\\jupyter\\nbextensions\\keyboard_shortcut_editor\\\n",
      "[I 15:10:35 InstallContribNbextensionsApp] Copying: E:\\progy\\lib\\site-packages\\jupyter_contrib_nbextensions\\nbextensions\\keyboard_shortcut_editor\\icon.png -> C:\\ProgramData\\jupyter\\nbextensions\\keyboard_shortcut_editor\\icon.png\n",
      "[I 15:10:35 InstallContribNbextensionsApp] Copying: E:\\progy\\lib\\site-packages\\jupyter_contrib_nbextensions\\nbextensions\\keyboard_shortcut_editor\\keyboard_shortcut_editor.yaml -> C:\\ProgramData\\jupyter\\nbextensions\\keyboard_shortcut_editor\\keyboard_shortcut_editor.yaml\n",
      "[I 15:10:35 InstallContribNbextensionsApp] Copying: E:\\progy\\lib\\site-packages\\jupyter_contrib_nbextensions\\nbextensions\\keyboard_shortcut_editor\\kse_components.js -> C:\\ProgramData\\jupyter\\nbextensions\\keyboard_shortcut_editor\\kse_components.js\n",
      "[I 15:10:36 InstallContribNbextensionsApp] Copying: E:\\progy\\lib\\site-packages\\jupyter_contrib_nbextensions\\nbextensions\\keyboard_shortcut_editor\\main.css -> C:\\ProgramData\\jupyter\\nbextensions\\keyboard_shortcut_editor\\main.css\n",
      "[I 15:10:36 InstallContribNbextensionsApp] Copying: E:\\progy\\lib\\site-packages\\jupyter_contrib_nbextensions\\nbextensions\\keyboard_shortcut_editor\\main.js -> C:\\ProgramData\\jupyter\\nbextensions\\keyboard_shortcut_editor\\main.js\n",
      "[I 15:10:36 InstallContribNbextensionsApp] Copying: E:\\progy\\lib\\site-packages\\jupyter_contrib_nbextensions\\nbextensions\\keyboard_shortcut_editor\\quickhelp_shim.js -> C:\\ProgramData\\jupyter\\nbextensions\\keyboard_shortcut_editor\\quickhelp_shim.js\n",
      "[I 15:10:36 InstallContribNbextensionsApp] Copying: E:\\progy\\lib\\site-packages\\jupyter_contrib_nbextensions\\nbextensions\\keyboard_shortcut_editor\\README.md -> C:\\ProgramData\\jupyter\\nbextensions\\keyboard_shortcut_editor\\README.md\n",
      "[I 15:10:36 InstallContribNbextensionsApp] Copying: E:\\progy\\lib\\site-packages\\jupyter_contrib_nbextensions\\nbextensions\\keyboard_shortcut_editor\\readme_add_new_link.png -> C:\\ProgramData\\jupyter\\nbextensions\\keyboard_shortcut_editor\\readme_add_new_link.png\n",
      "[I 15:10:36 InstallContribNbextensionsApp] Copying: E:\\progy\\lib\\site-packages\\jupyter_contrib_nbextensions\\nbextensions\\keyboard_shortcut_editor\\readme_add_new_select_action.png -> C:\\ProgramData\\jupyter\\nbextensions\\keyboard_shortcut_editor\\readme_add_new_select_action.png\n",
      "[I 15:10:36 InstallContribNbextensionsApp] Copying: E:\\progy\\lib\\site-packages\\jupyter_contrib_nbextensions\\nbextensions\\keyboard_shortcut_editor\\readme_comma.png -> C:\\ProgramData\\jupyter\\nbextensions\\keyboard_shortcut_editor\\readme_comma.png\n",
      "[I 15:10:36 InstallContribNbextensionsApp] Copying: E:\\progy\\lib\\site-packages\\jupyter_contrib_nbextensions\\nbextensions\\keyboard_shortcut_editor\\readme_conflict.png -> C:\\ProgramData\\jupyter\\nbextensions\\keyboard_shortcut_editor\\readme_conflict.png\n",
      "[I 15:10:36 InstallContribNbextensionsApp] Copying: E:\\progy\\lib\\site-packages\\jupyter_contrib_nbextensions\\nbextensions\\keyboard_shortcut_editor\\readme_dropdown.png -> C:\\ProgramData\\jupyter\\nbextensions\\keyboard_shortcut_editor\\readme_dropdown.png\n",
      "[I 15:10:36 InstallContribNbextensionsApp] Copying: E:\\progy\\lib\\site-packages\\jupyter_contrib_nbextensions\\nbextensions\\keyboard_shortcut_editor\\readme_menu_item.png -> C:\\ProgramData\\jupyter\\nbextensions\\keyboard_shortcut_editor\\readme_menu_item.png\n",
      "[I 15:10:36 InstallContribNbextensionsApp] Copying: E:\\progy\\lib\\site-packages\\jupyter_contrib_nbextensions\\nbextensions\\keyboard_shortcut_editor\\readme_reset_disabled.png -> C:\\ProgramData\\jupyter\\nbextensions\\keyboard_shortcut_editor\\readme_reset_disabled.png\n",
      "[I 15:10:36 InstallContribNbextensionsApp] Copying: E:\\progy\\lib\\site-packages\\jupyter_contrib_nbextensions\\nbextensions\\keyboard_shortcut_editor\\readme_shortcut_editor_blank.png -> C:\\ProgramData\\jupyter\\nbextensions\\keyboard_shortcut_editor\\readme_shortcut_editor_blank.png\n",
      "[I 15:10:36 InstallContribNbextensionsApp] Copying: E:\\progy\\lib\\site-packages\\jupyter_contrib_nbextensions\\nbextensions\\keyboard_shortcut_editor\\readme_shortcut_editor_success.png -> C:\\ProgramData\\jupyter\\nbextensions\\keyboard_shortcut_editor\\readme_shortcut_editor_success.png\n",
      "[I 15:10:36 InstallContribNbextensionsApp] Copying: E:\\progy\\lib\\site-packages\\jupyter_contrib_nbextensions\\nbextensions\\keyboard_shortcut_editor\\readme_undefined_key.png -> C:\\ProgramData\\jupyter\\nbextensions\\keyboard_shortcut_editor\\readme_undefined_key.png\n",
      "[I 15:10:36 InstallContribNbextensionsApp] - Validating: ok\n",
      "[I 15:10:36 InstallContribNbextensionsApp] Installing E:\\progy\\lib\\site-packages\\jupyter_contrib_nbextensions\\nbextensions\\limit_output -> limit_output\n",
      "[I 15:10:36 InstallContribNbextensionsApp] Making directory: C:\\ProgramData\\jupyter\\nbextensions\\limit_output\\\n",
      "[I 15:10:36 InstallContribNbextensionsApp] Copying: E:\\progy\\lib\\site-packages\\jupyter_contrib_nbextensions\\nbextensions\\limit_output\\icon.png -> C:\\ProgramData\\jupyter\\nbextensions\\limit_output\\icon.png\n",
      "[I 15:10:36 InstallContribNbextensionsApp] Copying: E:\\progy\\lib\\site-packages\\jupyter_contrib_nbextensions\\nbextensions\\limit_output\\limit-output.yaml -> C:\\ProgramData\\jupyter\\nbextensions\\limit_output\\limit-output.yaml\n",
      "[I 15:10:36 InstallContribNbextensionsApp] Copying: E:\\progy\\lib\\site-packages\\jupyter_contrib_nbextensions\\nbextensions\\limit_output\\main.js -> C:\\ProgramData\\jupyter\\nbextensions\\limit_output\\main.js\n",
      "[I 15:10:36 InstallContribNbextensionsApp] Copying: E:\\progy\\lib\\site-packages\\jupyter_contrib_nbextensions\\nbextensions\\limit_output\\readme.md -> C:\\ProgramData\\jupyter\\nbextensions\\limit_output\\readme.md\n",
      "[I 15:10:36 InstallContribNbextensionsApp] - Validating: ok\n",
      "[I 15:10:36 InstallContribNbextensionsApp] Installing E:\\progy\\lib\\site-packages\\jupyter_contrib_nbextensions\\nbextensions\\livemdpreview -> livemdpreview\n",
      "[I 15:10:36 InstallContribNbextensionsApp] Making directory: C:\\ProgramData\\jupyter\\nbextensions\\livemdpreview\\\n",
      "[I 15:10:36 InstallContribNbextensionsApp] Copying: E:\\progy\\lib\\site-packages\\jupyter_contrib_nbextensions\\nbextensions\\livemdpreview\\livemdpreview.js -> C:\\ProgramData\\jupyter\\nbextensions\\livemdpreview\\livemdpreview.js\n",
      "[I 15:10:36 InstallContribNbextensionsApp] Copying: E:\\progy\\lib\\site-packages\\jupyter_contrib_nbextensions\\nbextensions\\livemdpreview\\livemdpreview.yml -> C:\\ProgramData\\jupyter\\nbextensions\\livemdpreview\\livemdpreview.yml\n",
      "[I 15:10:36 InstallContribNbextensionsApp] - Validating: ok\n",
      "[I 15:10:36 InstallContribNbextensionsApp] Installing E:\\progy\\lib\\site-packages\\jupyter_contrib_nbextensions\\nbextensions\\load_tex_macros -> load_tex_macros\n",
      "[I 15:10:36 InstallContribNbextensionsApp] Making directory: C:\\ProgramData\\jupyter\\nbextensions\\load_tex_macros\\\n",
      "[I 15:10:36 InstallContribNbextensionsApp] Copying: E:\\progy\\lib\\site-packages\\jupyter_contrib_nbextensions\\nbextensions\\load_tex_macros\\icon.png -> C:\\ProgramData\\jupyter\\nbextensions\\load_tex_macros\\icon.png\n",
      "[I 15:10:36 InstallContribNbextensionsApp] Copying: E:\\progy\\lib\\site-packages\\jupyter_contrib_nbextensions\\nbextensions\\load_tex_macros\\load_tex_macros.yaml -> C:\\ProgramData\\jupyter\\nbextensions\\load_tex_macros\\load_tex_macros.yaml\n",
      "[I 15:10:36 InstallContribNbextensionsApp] Copying: E:\\progy\\lib\\site-packages\\jupyter_contrib_nbextensions\\nbextensions\\load_tex_macros\\main.js -> C:\\ProgramData\\jupyter\\nbextensions\\load_tex_macros\\main.js\n",
      "[I 15:10:36 InstallContribNbextensionsApp] Copying: E:\\progy\\lib\\site-packages\\jupyter_contrib_nbextensions\\nbextensions\\load_tex_macros\\readme.md -> C:\\ProgramData\\jupyter\\nbextensions\\load_tex_macros\\readme.md\n",
      "[I 15:10:36 InstallContribNbextensionsApp] - Validating: ok\n",
      "[I 15:10:36 InstallContribNbextensionsApp] Installing E:\\progy\\lib\\site-packages\\jupyter_contrib_nbextensions\\nbextensions\\move_selected_cells -> move_selected_cells\n",
      "[I 15:10:36 InstallContribNbextensionsApp] Making directory: C:\\ProgramData\\jupyter\\nbextensions\\move_selected_cells\\\n",
      "[I 15:10:36 InstallContribNbextensionsApp] Copying: E:\\progy\\lib\\site-packages\\jupyter_contrib_nbextensions\\nbextensions\\move_selected_cells\\main.js -> C:\\ProgramData\\jupyter\\nbextensions\\move_selected_cells\\main.js\n",
      "[I 15:10:36 InstallContribNbextensionsApp] Copying: E:\\progy\\lib\\site-packages\\jupyter_contrib_nbextensions\\nbextensions\\move_selected_cells\\move_selected_cells.yaml -> C:\\ProgramData\\jupyter\\nbextensions\\move_selected_cells\\move_selected_cells.yaml\n",
      "[I 15:10:36 InstallContribNbextensionsApp] Copying: E:\\progy\\lib\\site-packages\\jupyter_contrib_nbextensions\\nbextensions\\move_selected_cells\\README.md -> C:\\ProgramData\\jupyter\\nbextensions\\move_selected_cells\\README.md\n",
      "[I 15:10:36 InstallContribNbextensionsApp] - Validating: ok\n",
      "[I 15:10:36 InstallContribNbextensionsApp] Installing E:\\progy\\lib\\site-packages\\jupyter_contrib_nbextensions\\nbextensions\\navigation-hotkeys -> navigation-hotkeys\n",
      "[I 15:10:36 InstallContribNbextensionsApp] Making directory: C:\\ProgramData\\jupyter\\nbextensions\\navigation-hotkeys\\\n",
      "[I 15:10:36 InstallContribNbextensionsApp] Copying: E:\\progy\\lib\\site-packages\\jupyter_contrib_nbextensions\\nbextensions\\navigation-hotkeys\\hotkeys.yaml -> C:\\ProgramData\\jupyter\\nbextensions\\navigation-hotkeys\\hotkeys.yaml\n",
      "[I 15:10:36 InstallContribNbextensionsApp] Copying: E:\\progy\\lib\\site-packages\\jupyter_contrib_nbextensions\\nbextensions\\navigation-hotkeys\\icon.png -> C:\\ProgramData\\jupyter\\nbextensions\\navigation-hotkeys\\icon.png\n",
      "[I 15:10:36 InstallContribNbextensionsApp] Copying: E:\\progy\\lib\\site-packages\\jupyter_contrib_nbextensions\\nbextensions\\navigation-hotkeys\\main.js -> C:\\ProgramData\\jupyter\\nbextensions\\navigation-hotkeys\\main.js\n",
      "[I 15:10:36 InstallContribNbextensionsApp] Copying: E:\\progy\\lib\\site-packages\\jupyter_contrib_nbextensions\\nbextensions\\navigation-hotkeys\\readme.md -> C:\\ProgramData\\jupyter\\nbextensions\\navigation-hotkeys\\readme.md\n",
      "[I 15:10:36 InstallContribNbextensionsApp] - Validating: ok\n",
      "[I 15:10:36 InstallContribNbextensionsApp] Installing E:\\progy\\lib\\site-packages\\jupyter_contrib_nbextensions\\nbextensions\\nbTranslate -> nbTranslate\n",
      "[I 15:10:36 InstallContribNbextensionsApp] Making directory: C:\\ProgramData\\jupyter\\nbextensions\\nbTranslate\\\n",
      "[I 15:10:36 InstallContribNbextensionsApp] Copying: E:\\progy\\lib\\site-packages\\jupyter_contrib_nbextensions\\nbextensions\\nbTranslate\\demo1.gif -> C:\\ProgramData\\jupyter\\nbextensions\\nbTranslate\\demo1.gif\n",
      "[I 15:10:36 InstallContribNbextensionsApp] Copying: E:\\progy\\lib\\site-packages\\jupyter_contrib_nbextensions\\nbextensions\\nbTranslate\\demo2.gif -> C:\\ProgramData\\jupyter\\nbextensions\\nbTranslate\\demo2.gif\n",
      "[I 15:10:36 InstallContribNbextensionsApp] Copying: E:\\progy\\lib\\site-packages\\jupyter_contrib_nbextensions\\nbextensions\\nbTranslate\\languages.js -> C:\\ProgramData\\jupyter\\nbextensions\\nbTranslate\\languages.js\n",
      "[I 15:10:36 InstallContribNbextensionsApp] Copying: E:\\progy\\lib\\site-packages\\jupyter_contrib_nbextensions\\nbextensions\\nbTranslate\\main.js -> C:\\ProgramData\\jupyter\\nbextensions\\nbTranslate\\main.js\n",
      "[I 15:10:36 InstallContribNbextensionsApp] Copying: E:\\progy\\lib\\site-packages\\jupyter_contrib_nbextensions\\nbextensions\\nbTranslate\\mutils.js -> C:\\ProgramData\\jupyter\\nbextensions\\nbTranslate\\mutils.js\n",
      "[I 15:10:36 InstallContribNbextensionsApp] Copying: E:\\progy\\lib\\site-packages\\jupyter_contrib_nbextensions\\nbextensions\\nbTranslate\\nbTranslate.js -> C:\\ProgramData\\jupyter\\nbextensions\\nbTranslate\\nbTranslate.js\n",
      "[I 15:10:36 InstallContribNbextensionsApp] Copying: E:\\progy\\lib\\site-packages\\jupyter_contrib_nbextensions\\nbextensions\\nbTranslate\\nbTranslate.yaml -> C:\\ProgramData\\jupyter\\nbextensions\\nbTranslate\\nbTranslate.yaml\n",
      "[I 15:10:36 InstallContribNbextensionsApp] Copying: E:\\progy\\lib\\site-packages\\jupyter_contrib_nbextensions\\nbextensions\\nbTranslate\\README.md -> C:\\ProgramData\\jupyter\\nbextensions\\nbTranslate\\README.md\n",
      "[I 15:10:36 InstallContribNbextensionsApp] - Validating: ok\n",
      "[I 15:10:36 InstallContribNbextensionsApp] Installing E:\\progy\\lib\\site-packages\\jupyter_contrib_nbextensions\\nbextensions\\notify -> notify\n",
      "[I 15:10:36 InstallContribNbextensionsApp] Making directory: C:\\ProgramData\\jupyter\\nbextensions\\notify\\\n",
      "[I 15:10:36 InstallContribNbextensionsApp] Copying: E:\\progy\\lib\\site-packages\\jupyter_contrib_nbextensions\\nbextensions\\notify\\notification.png -> C:\\ProgramData\\jupyter\\nbextensions\\notify\\notification.png\n",
      "[I 15:10:36 InstallContribNbextensionsApp] Copying: E:\\progy\\lib\\site-packages\\jupyter_contrib_nbextensions\\nbextensions\\notify\\notify.js -> C:\\ProgramData\\jupyter\\nbextensions\\notify\\notify.js\n",
      "[I 15:10:36 InstallContribNbextensionsApp] Copying: E:\\progy\\lib\\site-packages\\jupyter_contrib_nbextensions\\nbextensions\\notify\\notify.mp3 -> C:\\ProgramData\\jupyter\\nbextensions\\notify\\notify.mp3\n",
      "[I 15:10:36 InstallContribNbextensionsApp] Copying: E:\\progy\\lib\\site-packages\\jupyter_contrib_nbextensions\\nbextensions\\notify\\notify.yaml -> C:\\ProgramData\\jupyter\\nbextensions\\notify\\notify.yaml\n",
      "[I 15:10:36 InstallContribNbextensionsApp] Copying: E:\\progy\\lib\\site-packages\\jupyter_contrib_nbextensions\\nbextensions\\notify\\readme.md -> C:\\ProgramData\\jupyter\\nbextensions\\notify\\readme.md\n",
      "[I 15:10:36 InstallContribNbextensionsApp] - Validating: ok\n",
      "[I 15:10:36 InstallContribNbextensionsApp] Installing E:\\progy\\lib\\site-packages\\jupyter_contrib_nbextensions\\nbextensions\\printview -> printview\n",
      "[I 15:10:36 InstallContribNbextensionsApp] Making directory: C:\\ProgramData\\jupyter\\nbextensions\\printview\\\n",
      "[I 15:10:36 InstallContribNbextensionsApp] Copying: E:\\progy\\lib\\site-packages\\jupyter_contrib_nbextensions\\nbextensions\\printview\\icon.png -> C:\\ProgramData\\jupyter\\nbextensions\\printview\\icon.png\n",
      "[I 15:10:36 InstallContribNbextensionsApp] Copying: E:\\progy\\lib\\site-packages\\jupyter_contrib_nbextensions\\nbextensions\\printview\\main.js -> C:\\ProgramData\\jupyter\\nbextensions\\printview\\main.js\n",
      "[I 15:10:36 InstallContribNbextensionsApp] Copying: E:\\progy\\lib\\site-packages\\jupyter_contrib_nbextensions\\nbextensions\\printview\\printview-button.png -> C:\\ProgramData\\jupyter\\nbextensions\\printview\\printview-button.png\n",
      "[I 15:10:36 InstallContribNbextensionsApp] Copying: E:\\progy\\lib\\site-packages\\jupyter_contrib_nbextensions\\nbextensions\\printview\\printview.yaml -> C:\\ProgramData\\jupyter\\nbextensions\\printview\\printview.yaml\n",
      "[I 15:10:36 InstallContribNbextensionsApp] Copying: E:\\progy\\lib\\site-packages\\jupyter_contrib_nbextensions\\nbextensions\\printview\\readme.md -> C:\\ProgramData\\jupyter\\nbextensions\\printview\\readme.md\n",
      "[I 15:10:36 InstallContribNbextensionsApp] - Validating: ok\n",
      "[I 15:10:36 InstallContribNbextensionsApp] Installing E:\\progy\\lib\\site-packages\\jupyter_contrib_nbextensions\\nbextensions\\python-markdown -> python-markdown\n",
      "[I 15:10:36 InstallContribNbextensionsApp] Making directory: C:\\ProgramData\\jupyter\\nbextensions\\python-markdown\\\n",
      "[I 15:10:36 InstallContribNbextensionsApp] Copying: E:\\progy\\lib\\site-packages\\jupyter_contrib_nbextensions\\nbextensions\\python-markdown\\main.css -> C:\\ProgramData\\jupyter\\nbextensions\\python-markdown\\main.css\n",
      "[I 15:10:36 InstallContribNbextensionsApp] Copying: E:\\progy\\lib\\site-packages\\jupyter_contrib_nbextensions\\nbextensions\\python-markdown\\main.js -> C:\\ProgramData\\jupyter\\nbextensions\\python-markdown\\main.js\n",
      "[I 15:10:36 InstallContribNbextensionsApp] Copying: E:\\progy\\lib\\site-packages\\jupyter_contrib_nbextensions\\nbextensions\\python-markdown\\python-markdown-post.png -> C:\\ProgramData\\jupyter\\nbextensions\\python-markdown\\python-markdown-post.png\n",
      "[I 15:10:36 InstallContribNbextensionsApp] Copying: E:\\progy\\lib\\site-packages\\jupyter_contrib_nbextensions\\nbextensions\\python-markdown\\python-markdown-pre.png -> C:\\ProgramData\\jupyter\\nbextensions\\python-markdown\\python-markdown-pre.png\n",
      "[I 15:10:36 InstallContribNbextensionsApp] Copying: E:\\progy\\lib\\site-packages\\jupyter_contrib_nbextensions\\nbextensions\\python-markdown\\python-markdown.png -> C:\\ProgramData\\jupyter\\nbextensions\\python-markdown\\python-markdown.png\n",
      "[I 15:10:36 InstallContribNbextensionsApp] Copying: E:\\progy\\lib\\site-packages\\jupyter_contrib_nbextensions\\nbextensions\\python-markdown\\python-markdown.yaml -> C:\\ProgramData\\jupyter\\nbextensions\\python-markdown\\python-markdown.yaml\n",
      "[I 15:10:36 InstallContribNbextensionsApp] Copying: E:\\progy\\lib\\site-packages\\jupyter_contrib_nbextensions\\nbextensions\\python-markdown\\readme.md -> C:\\ProgramData\\jupyter\\nbextensions\\python-markdown\\readme.md\n",
      "[I 15:10:36 InstallContribNbextensionsApp] Copying: E:\\progy\\lib\\site-packages\\jupyter_contrib_nbextensions\\nbextensions\\python-markdown\\trusted.png -> C:\\ProgramData\\jupyter\\nbextensions\\python-markdown\\trusted.png\n",
      "[I 15:10:36 InstallContribNbextensionsApp] Copying: E:\\progy\\lib\\site-packages\\jupyter_contrib_nbextensions\\nbextensions\\python-markdown\\untrusted.png -> C:\\ProgramData\\jupyter\\nbextensions\\python-markdown\\untrusted.png\n",
      "[I 15:10:36 InstallContribNbextensionsApp] - Validating: ok\n",
      "[I 15:10:36 InstallContribNbextensionsApp] Installing E:\\progy\\lib\\site-packages\\jupyter_contrib_nbextensions\\nbextensions\\qtconsole -> qtconsole\n",
      "[I 15:10:36 InstallContribNbextensionsApp] Making directory: C:\\ProgramData\\jupyter\\nbextensions\\qtconsole\\\n",
      "[I 15:10:36 InstallContribNbextensionsApp] Copying: E:\\progy\\lib\\site-packages\\jupyter_contrib_nbextensions\\nbextensions\\qtconsole\\qtconsole.js -> C:\\ProgramData\\jupyter\\nbextensions\\qtconsole\\qtconsole.js\n",
      "[I 15:10:36 InstallContribNbextensionsApp] Copying: E:\\progy\\lib\\site-packages\\jupyter_contrib_nbextensions\\nbextensions\\qtconsole\\qtconsole.yaml -> C:\\ProgramData\\jupyter\\nbextensions\\qtconsole\\qtconsole.yaml\n",
      "[I 15:10:36 InstallContribNbextensionsApp] Copying: E:\\progy\\lib\\site-packages\\jupyter_contrib_nbextensions\\nbextensions\\qtconsole\\README.md -> C:\\ProgramData\\jupyter\\nbextensions\\qtconsole\\README.md\n",
      "[I 15:10:36 InstallContribNbextensionsApp] - Validating: ok\n",
      "[I 15:10:36 InstallContribNbextensionsApp] Installing E:\\progy\\lib\\site-packages\\jupyter_contrib_nbextensions\\nbextensions\\rubberband -> rubberband\n",
      "[I 15:10:36 InstallContribNbextensionsApp] Making directory: C:\\ProgramData\\jupyter\\nbextensions\\rubberband\\\n",
      "[I 15:10:36 InstallContribNbextensionsApp] Copying: E:\\progy\\lib\\site-packages\\jupyter_contrib_nbextensions\\nbextensions\\rubberband\\icon.png -> C:\\ProgramData\\jupyter\\nbextensions\\rubberband\\icon.png\n",
      "[I 15:10:36 InstallContribNbextensionsApp] Copying: E:\\progy\\lib\\site-packages\\jupyter_contrib_nbextensions\\nbextensions\\rubberband\\main.css -> C:\\ProgramData\\jupyter\\nbextensions\\rubberband\\main.css\n",
      "[I 15:10:36 InstallContribNbextensionsApp] Copying: E:\\progy\\lib\\site-packages\\jupyter_contrib_nbextensions\\nbextensions\\rubberband\\main.js -> C:\\ProgramData\\jupyter\\nbextensions\\rubberband\\main.js\n",
      "[I 15:10:36 InstallContribNbextensionsApp] Copying: E:\\progy\\lib\\site-packages\\jupyter_contrib_nbextensions\\nbextensions\\rubberband\\readme.md -> C:\\ProgramData\\jupyter\\nbextensions\\rubberband\\readme.md\n",
      "[I 15:10:36 InstallContribNbextensionsApp] Copying: E:\\progy\\lib\\site-packages\\jupyter_contrib_nbextensions\\nbextensions\\rubberband\\rubberband.yaml -> C:\\ProgramData\\jupyter\\nbextensions\\rubberband\\rubberband.yaml\n",
      "[I 15:10:36 InstallContribNbextensionsApp] - Validating: ok\n",
      "[I 15:10:36 InstallContribNbextensionsApp] Installing E:\\progy\\lib\\site-packages\\jupyter_contrib_nbextensions\\nbextensions\\ruler -> ruler\n",
      "[I 15:10:36 InstallContribNbextensionsApp] Making directory: C:\\ProgramData\\jupyter\\nbextensions\\ruler\\\n",
      "[I 15:10:36 InstallContribNbextensionsApp] Copying: E:\\progy\\lib\\site-packages\\jupyter_contrib_nbextensions\\nbextensions\\ruler\\edit.js -> C:\\ProgramData\\jupyter\\nbextensions\\ruler\\edit.js\n",
      "[I 15:10:36 InstallContribNbextensionsApp] Copying: E:\\progy\\lib\\site-packages\\jupyter_contrib_nbextensions\\nbextensions\\ruler\\icon.png -> C:\\ProgramData\\jupyter\\nbextensions\\ruler\\icon.png\n",
      "[I 15:10:36 InstallContribNbextensionsApp] Copying: E:\\progy\\lib\\site-packages\\jupyter_contrib_nbextensions\\nbextensions\\ruler\\main.js -> C:\\ProgramData\\jupyter\\nbextensions\\ruler\\main.js\n",
      "[I 15:10:36 InstallContribNbextensionsApp] Copying: E:\\progy\\lib\\site-packages\\jupyter_contrib_nbextensions\\nbextensions\\ruler\\readme.md -> C:\\ProgramData\\jupyter\\nbextensions\\ruler\\readme.md\n",
      "[I 15:10:36 InstallContribNbextensionsApp] Copying: E:\\progy\\lib\\site-packages\\jupyter_contrib_nbextensions\\nbextensions\\ruler\\ruler.yaml -> C:\\ProgramData\\jupyter\\nbextensions\\ruler\\ruler.yaml\n",
      "[I 15:10:36 InstallContribNbextensionsApp] Copying: E:\\progy\\lib\\site-packages\\jupyter_contrib_nbextensions\\nbextensions\\ruler\\ruler_editor.yaml -> C:\\ProgramData\\jupyter\\nbextensions\\ruler\\ruler_editor.yaml\n",
      "[I 15:10:36 InstallContribNbextensionsApp] - Validating: ok\n",
      "[I 15:10:36 InstallContribNbextensionsApp] Installing E:\\progy\\lib\\site-packages\\jupyter_contrib_nbextensions\\nbextensions\\ruler -> ruler\n",
      "[I 15:10:36 InstallContribNbextensionsApp] Up to date: C:\\ProgramData\\jupyter\\nbextensions\\ruler\\edit.js\n",
      "[I 15:10:36 InstallContribNbextensionsApp] Up to date: C:\\ProgramData\\jupyter\\nbextensions\\ruler\\icon.png\n",
      "[I 15:10:36 InstallContribNbextensionsApp] Up to date: C:\\ProgramData\\jupyter\\nbextensions\\ruler\\main.js\n",
      "[I 15:10:36 InstallContribNbextensionsApp] Up to date: C:\\ProgramData\\jupyter\\nbextensions\\ruler\\readme.md\n",
      "[I 15:10:36 InstallContribNbextensionsApp] Up to date: C:\\ProgramData\\jupyter\\nbextensions\\ruler\\ruler.yaml\n",
      "[I 15:10:36 InstallContribNbextensionsApp] Up to date: C:\\ProgramData\\jupyter\\nbextensions\\ruler\\ruler_editor.yaml\n",
      "[I 15:10:36 InstallContribNbextensionsApp] - Validating: ok\n",
      "[I 15:10:36 InstallContribNbextensionsApp] Installing E:\\progy\\lib\\site-packages\\jupyter_contrib_nbextensions\\nbextensions\\runtools -> runtools\n",
      "[I 15:10:36 InstallContribNbextensionsApp] Making directory: C:\\ProgramData\\jupyter\\nbextensions\\runtools\\\n",
      "[I 15:10:36 InstallContribNbextensionsApp] Copying: E:\\progy\\lib\\site-packages\\jupyter_contrib_nbextensions\\nbextensions\\runtools\\annotations.odg -> C:\\ProgramData\\jupyter\\nbextensions\\runtools\\annotations.odg\n",
      "[I 15:10:36 InstallContribNbextensionsApp] Copying: E:\\progy\\lib\\site-packages\\jupyter_contrib_nbextensions\\nbextensions\\runtools\\cellstate.js -> C:\\ProgramData\\jupyter\\nbextensions\\runtools\\cellstate.js\n",
      "[I 15:10:36 InstallContribNbextensionsApp] Copying: E:\\progy\\lib\\site-packages\\jupyter_contrib_nbextensions\\nbextensions\\runtools\\demo.gif -> C:\\ProgramData\\jupyter\\nbextensions\\runtools\\demo.gif\n",
      "[I 15:10:36 InstallContribNbextensionsApp] Copying: E:\\progy\\lib\\site-packages\\jupyter_contrib_nbextensions\\nbextensions\\runtools\\gutter.css -> C:\\ProgramData\\jupyter\\nbextensions\\runtools\\gutter.css\n",
      "[I 15:10:36 InstallContribNbextensionsApp] Copying: E:\\progy\\lib\\site-packages\\jupyter_contrib_nbextensions\\nbextensions\\runtools\\icon.png -> C:\\ProgramData\\jupyter\\nbextensions\\runtools\\icon.png\n",
      "[I 15:10:36 InstallContribNbextensionsApp] Copying: E:\\progy\\lib\\site-packages\\jupyter_contrib_nbextensions\\nbextensions\\runtools\\main.css -> C:\\ProgramData\\jupyter\\nbextensions\\runtools\\main.css\n",
      "[I 15:10:36 InstallContribNbextensionsApp] Copying: E:\\progy\\lib\\site-packages\\jupyter_contrib_nbextensions\\nbextensions\\runtools\\main.js -> C:\\ProgramData\\jupyter\\nbextensions\\runtools\\main.js\n",
      "[I 15:10:36 InstallContribNbextensionsApp] Copying: E:\\progy\\lib\\site-packages\\jupyter_contrib_nbextensions\\nbextensions\\runtools\\readme.md -> C:\\ProgramData\\jupyter\\nbextensions\\runtools\\readme.md\n",
      "[I 15:10:36 InstallContribNbextensionsApp] Copying: E:\\progy\\lib\\site-packages\\jupyter_contrib_nbextensions\\nbextensions\\runtools\\runtools.yaml -> C:\\ProgramData\\jupyter\\nbextensions\\runtools\\runtools.yaml\n",
      "[I 15:10:36 InstallContribNbextensionsApp] Copying: E:\\progy\\lib\\site-packages\\jupyter_contrib_nbextensions\\nbextensions\\runtools\\runtools_execute.png -> C:\\ProgramData\\jupyter\\nbextensions\\runtools\\runtools_execute.png\n",
      "[I 15:10:36 InstallContribNbextensionsApp] Copying: E:\\progy\\lib\\site-packages\\jupyter_contrib_nbextensions\\nbextensions\\runtools\\runtools_lock.png -> C:\\ProgramData\\jupyter\\nbextensions\\runtools\\runtools_lock.png\n",
      "[I 15:10:36 InstallContribNbextensionsApp] Copying: E:\\progy\\lib\\site-packages\\jupyter_contrib_nbextensions\\nbextensions\\runtools\\runtools_marker.png -> C:\\ProgramData\\jupyter\\nbextensions\\runtools\\runtools_marker.png\n",
      "[I 15:10:36 InstallContribNbextensionsApp] Copying: E:\\progy\\lib\\site-packages\\jupyter_contrib_nbextensions\\nbextensions\\runtools\\runtools_nb.png -> C:\\ProgramData\\jupyter\\nbextensions\\runtools\\runtools_nb.png\n",
      "[I 15:10:36 InstallContribNbextensionsApp] Copying: E:\\progy\\lib\\site-packages\\jupyter_contrib_nbextensions\\nbextensions\\runtools\\runtools_show_hide.png -> C:\\ProgramData\\jupyter\\nbextensions\\runtools\\runtools_show_hide.png\n",
      "[I 15:10:36 InstallContribNbextensionsApp] - Validating: ok\n",
      "[I 15:10:36 InstallContribNbextensionsApp] Installing E:\\progy\\lib\\site-packages\\jupyter_contrib_nbextensions\\nbextensions\\scratchpad -> scratchpad\n",
      "[I 15:10:36 InstallContribNbextensionsApp] Making directory: C:\\ProgramData\\jupyter\\nbextensions\\scratchpad\\\n",
      "[I 15:10:36 InstallContribNbextensionsApp] Copying: E:\\progy\\lib\\site-packages\\jupyter_contrib_nbextensions\\nbextensions\\scratchpad\\demo.gif -> C:\\ProgramData\\jupyter\\nbextensions\\scratchpad\\demo.gif\n",
      "[I 15:10:36 InstallContribNbextensionsApp] Copying: E:\\progy\\lib\\site-packages\\jupyter_contrib_nbextensions\\nbextensions\\scratchpad\\LICENSE -> C:\\ProgramData\\jupyter\\nbextensions\\scratchpad\\LICENSE\n",
      "[I 15:10:36 InstallContribNbextensionsApp] Copying: E:\\progy\\lib\\site-packages\\jupyter_contrib_nbextensions\\nbextensions\\scratchpad\\main.js -> C:\\ProgramData\\jupyter\\nbextensions\\scratchpad\\main.js\n",
      "[I 15:10:36 InstallContribNbextensionsApp] Copying: E:\\progy\\lib\\site-packages\\jupyter_contrib_nbextensions\\nbextensions\\scratchpad\\README.md -> C:\\ProgramData\\jupyter\\nbextensions\\scratchpad\\README.md\n",
      "[I 15:10:36 InstallContribNbextensionsApp] Copying: E:\\progy\\lib\\site-packages\\jupyter_contrib_nbextensions\\nbextensions\\scratchpad\\scratchpad.css -> C:\\ProgramData\\jupyter\\nbextensions\\scratchpad\\scratchpad.css\n",
      "[I 15:10:36 InstallContribNbextensionsApp] Copying: E:\\progy\\lib\\site-packages\\jupyter_contrib_nbextensions\\nbextensions\\scratchpad\\scratchpad.yaml -> C:\\ProgramData\\jupyter\\nbextensions\\scratchpad\\scratchpad.yaml\n",
      "[I 15:10:36 InstallContribNbextensionsApp] - Validating: ok\n",
      "[I 15:10:36 InstallContribNbextensionsApp] Installing E:\\progy\\lib\\site-packages\\jupyter_contrib_nbextensions\\nbextensions\\scroll_down -> scroll_down\n",
      "[I 15:10:36 InstallContribNbextensionsApp] Making directory: C:\\ProgramData\\jupyter\\nbextensions\\scroll_down\\\n",
      "[I 15:10:36 InstallContribNbextensionsApp] Copying: E:\\progy\\lib\\site-packages\\jupyter_contrib_nbextensions\\nbextensions\\scroll_down\\config.yaml -> C:\\ProgramData\\jupyter\\nbextensions\\scroll_down\\config.yaml\n",
      "[I 15:10:36 InstallContribNbextensionsApp] Copying: E:\\progy\\lib\\site-packages\\jupyter_contrib_nbextensions\\nbextensions\\scroll_down\\icon.png -> C:\\ProgramData\\jupyter\\nbextensions\\scroll_down\\icon.png\n",
      "[I 15:10:36 InstallContribNbextensionsApp] Copying: E:\\progy\\lib\\site-packages\\jupyter_contrib_nbextensions\\nbextensions\\scroll_down\\main.js -> C:\\ProgramData\\jupyter\\nbextensions\\scroll_down\\main.js\n",
      "[I 15:10:36 InstallContribNbextensionsApp] Copying: E:\\progy\\lib\\site-packages\\jupyter_contrib_nbextensions\\nbextensions\\scroll_down\\readme.md -> C:\\ProgramData\\jupyter\\nbextensions\\scroll_down\\readme.md\n",
      "[I 15:10:36 InstallContribNbextensionsApp] - Validating: ok\n",
      "[I 15:10:36 InstallContribNbextensionsApp] Installing E:\\progy\\lib\\site-packages\\jupyter_contrib_nbextensions\\nbextensions\\select_keymap -> select_keymap\n",
      "[I 15:10:36 InstallContribNbextensionsApp] Making directory: C:\\ProgramData\\jupyter\\nbextensions\\select_keymap\\\n",
      "[I 15:10:36 InstallContribNbextensionsApp] Copying: E:\\progy\\lib\\site-packages\\jupyter_contrib_nbextensions\\nbextensions\\select_keymap\\main.js -> C:\\ProgramData\\jupyter\\nbextensions\\select_keymap\\main.js\n",
      "[I 15:10:36 InstallContribNbextensionsApp] Copying: E:\\progy\\lib\\site-packages\\jupyter_contrib_nbextensions\\nbextensions\\select_keymap\\README.md -> C:\\ProgramData\\jupyter\\nbextensions\\select_keymap\\README.md\n",
      "[I 15:10:36 InstallContribNbextensionsApp] Copying: E:\\progy\\lib\\site-packages\\jupyter_contrib_nbextensions\\nbextensions\\select_keymap\\select_keymap.png -> C:\\ProgramData\\jupyter\\nbextensions\\select_keymap\\select_keymap.png\n",
      "[I 15:10:36 InstallContribNbextensionsApp] Copying: E:\\progy\\lib\\site-packages\\jupyter_contrib_nbextensions\\nbextensions\\select_keymap\\select_keymap.yaml -> C:\\ProgramData\\jupyter\\nbextensions\\select_keymap\\select_keymap.yaml\n",
      "[I 15:10:36 InstallContribNbextensionsApp] - Validating: ok\n",
      "[I 15:10:36 InstallContribNbextensionsApp] Installing E:\\progy\\lib\\site-packages\\jupyter_contrib_nbextensions\\nbextensions\\skill -> skill\n",
      "[I 15:10:36 InstallContribNbextensionsApp] Making directory: C:\\ProgramData\\jupyter\\nbextensions\\skill\\\n",
      "[I 15:10:36 InstallContribNbextensionsApp] Copying: E:\\progy\\lib\\site-packages\\jupyter_contrib_nbextensions\\nbextensions\\skill\\main.js -> C:\\ProgramData\\jupyter\\nbextensions\\skill\\main.js\n",
      "[I 15:10:36 InstallContribNbextensionsApp] Copying: E:\\progy\\lib\\site-packages\\jupyter_contrib_nbextensions\\nbextensions\\skill\\README.md -> C:\\ProgramData\\jupyter\\nbextensions\\skill\\README.md\n",
      "[I 15:10:36 InstallContribNbextensionsApp] Copying: E:\\progy\\lib\\site-packages\\jupyter_contrib_nbextensions\\nbextensions\\skill\\skill.js -> C:\\ProgramData\\jupyter\\nbextensions\\skill\\skill.js\n",
      "[I 15:10:36 InstallContribNbextensionsApp] Copying: E:\\progy\\lib\\site-packages\\jupyter_contrib_nbextensions\\nbextensions\\skill\\skill.yaml -> C:\\ProgramData\\jupyter\\nbextensions\\skill\\skill.yaml\n",
      "[I 15:10:36 InstallContribNbextensionsApp] - Validating: ok\n",
      "[I 15:10:36 InstallContribNbextensionsApp] Installing E:\\progy\\lib\\site-packages\\jupyter_contrib_nbextensions\\nbextensions\\skip-traceback -> skip-traceback\n",
      "[I 15:10:36 InstallContribNbextensionsApp] Making directory: C:\\ProgramData\\jupyter\\nbextensions\\skip-traceback\\\n",
      "[I 15:10:36 InstallContribNbextensionsApp] Copying: E:\\progy\\lib\\site-packages\\jupyter_contrib_nbextensions\\nbextensions\\skip-traceback\\icon.png -> C:\\ProgramData\\jupyter\\nbextensions\\skip-traceback\\icon.png\n",
      "[I 15:10:36 InstallContribNbextensionsApp] Copying: E:\\progy\\lib\\site-packages\\jupyter_contrib_nbextensions\\nbextensions\\skip-traceback\\main.js -> C:\\ProgramData\\jupyter\\nbextensions\\skip-traceback\\main.js\n",
      "[I 15:10:36 InstallContribNbextensionsApp] Copying: E:\\progy\\lib\\site-packages\\jupyter_contrib_nbextensions\\nbextensions\\skip-traceback\\readme.md -> C:\\ProgramData\\jupyter\\nbextensions\\skip-traceback\\readme.md\n",
      "[I 15:10:36 InstallContribNbextensionsApp] Copying: E:\\progy\\lib\\site-packages\\jupyter_contrib_nbextensions\\nbextensions\\skip-traceback\\skip-traceback.png -> C:\\ProgramData\\jupyter\\nbextensions\\skip-traceback\\skip-traceback.png\n",
      "[I 15:10:36 InstallContribNbextensionsApp] Copying: E:\\progy\\lib\\site-packages\\jupyter_contrib_nbextensions\\nbextensions\\skip-traceback\\skip-traceback.yaml -> C:\\ProgramData\\jupyter\\nbextensions\\skip-traceback\\skip-traceback.yaml\n",
      "[I 15:10:36 InstallContribNbextensionsApp] Copying: E:\\progy\\lib\\site-packages\\jupyter_contrib_nbextensions\\nbextensions\\skip-traceback\\traceback.png -> C:\\ProgramData\\jupyter\\nbextensions\\skip-traceback\\traceback.png\n",
      "[I 15:10:36 InstallContribNbextensionsApp] - Validating: ok\n",
      "[I 15:10:36 InstallContribNbextensionsApp] Installing E:\\progy\\lib\\site-packages\\jupyter_contrib_nbextensions\\nbextensions\\snippets -> snippets\n",
      "[I 15:10:36 InstallContribNbextensionsApp] Making directory: C:\\ProgramData\\jupyter\\nbextensions\\snippets\\\n",
      "[I 15:10:36 InstallContribNbextensionsApp] Copying: E:\\progy\\lib\\site-packages\\jupyter_contrib_nbextensions\\nbextensions\\snippets\\main.js -> C:\\ProgramData\\jupyter\\nbextensions\\snippets\\main.js\n",
      "[I 15:10:36 InstallContribNbextensionsApp] Copying: E:\\progy\\lib\\site-packages\\jupyter_contrib_nbextensions\\nbextensions\\snippets\\README.md -> C:\\ProgramData\\jupyter\\nbextensions\\snippets\\README.md\n",
      "[I 15:10:36 InstallContribNbextensionsApp] Copying: E:\\progy\\lib\\site-packages\\jupyter_contrib_nbextensions\\nbextensions\\snippets\\snippets-demo.gif -> C:\\ProgramData\\jupyter\\nbextensions\\snippets\\snippets-demo.gif\n",
      "[I 15:10:36 InstallContribNbextensionsApp] Copying: E:\\progy\\lib\\site-packages\\jupyter_contrib_nbextensions\\nbextensions\\snippets\\snippets.json -> C:\\ProgramData\\jupyter\\nbextensions\\snippets\\snippets.json\n",
      "[I 15:10:36 InstallContribNbextensionsApp] Copying: E:\\progy\\lib\\site-packages\\jupyter_contrib_nbextensions\\nbextensions\\snippets\\snippets.yaml -> C:\\ProgramData\\jupyter\\nbextensions\\snippets\\snippets.yaml\n",
      "[I 15:10:36 InstallContribNbextensionsApp] - Validating: ok\n",
      "[I 15:10:36 InstallContribNbextensionsApp] Installing E:\\progy\\lib\\site-packages\\jupyter_contrib_nbextensions\\nbextensions\\snippets_menu -> snippets_menu\n",
      "[I 15:10:36 InstallContribNbextensionsApp] Making directory: C:\\ProgramData\\jupyter\\nbextensions\\snippets_menu\\\n",
      "[I 15:10:36 InstallContribNbextensionsApp] Copying: E:\\progy\\lib\\site-packages\\jupyter_contrib_nbextensions\\nbextensions\\snippets_menu\\config.yaml -> C:\\ProgramData\\jupyter\\nbextensions\\snippets_menu\\config.yaml\n",
      "[I 15:10:36 InstallContribNbextensionsApp] Copying: E:\\progy\\lib\\site-packages\\jupyter_contrib_nbextensions\\nbextensions\\snippets_menu\\examples_for_custom.js -> C:\\ProgramData\\jupyter\\nbextensions\\snippets_menu\\examples_for_custom.js\n",
      "[I 15:10:36 InstallContribNbextensionsApp] Copying: E:\\progy\\lib\\site-packages\\jupyter_contrib_nbextensions\\nbextensions\\snippets_menu\\main.js -> C:\\ProgramData\\jupyter\\nbextensions\\snippets_menu\\main.js\n",
      "[I 15:10:36 InstallContribNbextensionsApp] Copying: E:\\progy\\lib\\site-packages\\jupyter_contrib_nbextensions\\nbextensions\\snippets_menu\\readme.md -> C:\\ProgramData\\jupyter\\nbextensions\\snippets_menu\\readme.md\n",
      "[I 15:10:36 InstallContribNbextensionsApp] Copying: E:\\progy\\lib\\site-packages\\jupyter_contrib_nbextensions\\nbextensions\\snippets_menu\\screenshot1.png -> C:\\ProgramData\\jupyter\\nbextensions\\snippets_menu\\screenshot1.png\n",
      "[I 15:10:36 InstallContribNbextensionsApp] Copying: E:\\progy\\lib\\site-packages\\jupyter_contrib_nbextensions\\nbextensions\\snippets_menu\\screenshot2.png -> C:\\ProgramData\\jupyter\\nbextensions\\snippets_menu\\screenshot2.png\n",
      "[I 15:10:36 InstallContribNbextensionsApp] Copying: E:\\progy\\lib\\site-packages\\jupyter_contrib_nbextensions\\nbextensions\\snippets_menu\\screenshot3.png -> C:\\ProgramData\\jupyter\\nbextensions\\snippets_menu\\screenshot3.png\n",
      "[I 15:10:36 InstallContribNbextensionsApp] Copying: E:\\progy\\lib\\site-packages\\jupyter_contrib_nbextensions\\nbextensions\\snippets_menu\\snippets_menu.css -> C:\\ProgramData\\jupyter\\nbextensions\\snippets_menu\\snippets_menu.css\n",
      "[I 15:10:36 InstallContribNbextensionsApp] Copying: E:\\progy\\lib\\site-packages\\jupyter_contrib_nbextensions\\nbextensions\\snippets_menu\\snippets_submenu_markdown.js -> C:\\ProgramData\\jupyter\\nbextensions\\snippets_menu\\snippets_submenu_markdown.js\n",
      "[I 15:10:36 InstallContribNbextensionsApp] Copying: E:\\progy\\lib\\site-packages\\jupyter_contrib_nbextensions\\nbextensions\\snippets_menu\\snippets_submenu_python.js -> C:\\ProgramData\\jupyter\\nbextensions\\snippets_menu\\snippets_submenu_python.js\n",
      "[I 15:10:36 InstallContribNbextensionsApp] Copying: E:\\progy\\lib\\site-packages\\jupyter_contrib_nbextensions\\nbextensions\\snippets_menu\\thumbnail.png -> C:\\ProgramData\\jupyter\\nbextensions\\snippets_menu\\thumbnail.png\n",
      "[I 15:10:36 InstallContribNbextensionsApp] Making directory: C:\\ProgramData\\jupyter\\nbextensions\\snippets_menu\\snippets_submenus_python\n",
      "[I 15:10:36 InstallContribNbextensionsApp] Copying: E:\\progy\\lib\\site-packages\\jupyter_contrib_nbextensions\\nbextensions\\snippets_menu\\snippets_submenus_python\\astropy.js -> C:\\ProgramData\\jupyter\\nbextensions\\snippets_menu\\snippets_submenus_python\\astropy.js\n",
      "[I 15:10:36 InstallContribNbextensionsApp] Copying: E:\\progy\\lib\\site-packages\\jupyter_contrib_nbextensions\\nbextensions\\snippets_menu\\snippets_submenus_python\\h5py.js -> C:\\ProgramData\\jupyter\\nbextensions\\snippets_menu\\snippets_submenus_python\\h5py.js\n",
      "[I 15:10:36 InstallContribNbextensionsApp] Copying: E:\\progy\\lib\\site-packages\\jupyter_contrib_nbextensions\\nbextensions\\snippets_menu\\snippets_submenus_python\\matplotlib.js -> C:\\ProgramData\\jupyter\\nbextensions\\snippets_menu\\snippets_submenus_python\\matplotlib.js\n",
      "[I 15:10:36 InstallContribNbextensionsApp] Copying: E:\\progy\\lib\\site-packages\\jupyter_contrib_nbextensions\\nbextensions\\snippets_menu\\snippets_submenus_python\\numba.js -> C:\\ProgramData\\jupyter\\nbextensions\\snippets_menu\\snippets_submenus_python\\numba.js\n",
      "[I 15:10:36 InstallContribNbextensionsApp] Copying: E:\\progy\\lib\\site-packages\\jupyter_contrib_nbextensions\\nbextensions\\snippets_menu\\snippets_submenus_python\\numpy.js -> C:\\ProgramData\\jupyter\\nbextensions\\snippets_menu\\snippets_submenus_python\\numpy.js\n",
      "[I 15:10:36 InstallContribNbextensionsApp] Copying: E:\\progy\\lib\\site-packages\\jupyter_contrib_nbextensions\\nbextensions\\snippets_menu\\snippets_submenus_python\\numpy_polynomial.js -> C:\\ProgramData\\jupyter\\nbextensions\\snippets_menu\\snippets_submenus_python\\numpy_polynomial.js\n",
      "[I 15:10:37 InstallContribNbextensionsApp] Copying: E:\\progy\\lib\\site-packages\\jupyter_contrib_nbextensions\\nbextensions\\snippets_menu\\snippets_submenus_python\\numpy_ufuncs.js -> C:\\ProgramData\\jupyter\\nbextensions\\snippets_menu\\snippets_submenus_python\\numpy_ufuncs.js\n",
      "[I 15:10:37 InstallContribNbextensionsApp] Copying: E:\\progy\\lib\\site-packages\\jupyter_contrib_nbextensions\\nbextensions\\snippets_menu\\snippets_submenus_python\\pandas.js -> C:\\ProgramData\\jupyter\\nbextensions\\snippets_menu\\snippets_submenus_python\\pandas.js\n",
      "[I 15:10:37 InstallContribNbextensionsApp] Copying: E:\\progy\\lib\\site-packages\\jupyter_contrib_nbextensions\\nbextensions\\snippets_menu\\snippets_submenus_python\\python.js -> C:\\ProgramData\\jupyter\\nbextensions\\snippets_menu\\snippets_submenus_python\\python.js\n",
      "[I 15:10:37 InstallContribNbextensionsApp] Copying: E:\\progy\\lib\\site-packages\\jupyter_contrib_nbextensions\\nbextensions\\snippets_menu\\snippets_submenus_python\\python_regex.js -> C:\\ProgramData\\jupyter\\nbextensions\\snippets_menu\\snippets_submenus_python\\python_regex.js\n",
      "[I 15:10:37 InstallContribNbextensionsApp] Copying: E:\\progy\\lib\\site-packages\\jupyter_contrib_nbextensions\\nbextensions\\snippets_menu\\snippets_submenus_python\\scipy.js -> C:\\ProgramData\\jupyter\\nbextensions\\snippets_menu\\snippets_submenus_python\\scipy.js\n",
      "[I 15:10:37 InstallContribNbextensionsApp] Copying: E:\\progy\\lib\\site-packages\\jupyter_contrib_nbextensions\\nbextensions\\snippets_menu\\snippets_submenus_python\\scipy_constants.js -> C:\\ProgramData\\jupyter\\nbextensions\\snippets_menu\\snippets_submenus_python\\scipy_constants.js\n",
      "[I 15:10:37 InstallContribNbextensionsApp] Copying: E:\\progy\\lib\\site-packages\\jupyter_contrib_nbextensions\\nbextensions\\snippets_menu\\snippets_submenus_python\\scipy_special.js -> C:\\ProgramData\\jupyter\\nbextensions\\snippets_menu\\snippets_submenus_python\\scipy_special.js\n",
      "[I 15:10:37 InstallContribNbextensionsApp] Copying: E:\\progy\\lib\\site-packages\\jupyter_contrib_nbextensions\\nbextensions\\snippets_menu\\snippets_submenus_python\\sympy.js -> C:\\ProgramData\\jupyter\\nbextensions\\snippets_menu\\snippets_submenus_python\\sympy.js\n",
      "[I 15:10:37 InstallContribNbextensionsApp] Copying: E:\\progy\\lib\\site-packages\\jupyter_contrib_nbextensions\\nbextensions\\snippets_menu\\snippets_submenus_python\\sympy_assumptions.js -> C:\\ProgramData\\jupyter\\nbextensions\\snippets_menu\\snippets_submenus_python\\sympy_assumptions.js\n",
      "[I 15:10:37 InstallContribNbextensionsApp] Copying: E:\\progy\\lib\\site-packages\\jupyter_contrib_nbextensions\\nbextensions\\snippets_menu\\snippets_submenus_python\\sympy_functions.js -> C:\\ProgramData\\jupyter\\nbextensions\\snippets_menu\\snippets_submenus_python\\sympy_functions.js\n",
      "[I 15:10:37 InstallContribNbextensionsApp] - Validating: ok\n",
      "[I 15:10:37 InstallContribNbextensionsApp] Installing E:\\progy\\lib\\site-packages\\jupyter_contrib_nbextensions\\nbextensions\\spellchecker -> spellchecker\n",
      "[I 15:10:37 InstallContribNbextensionsApp] Making directory: C:\\ProgramData\\jupyter\\nbextensions\\spellchecker\\\n",
      "[I 15:10:37 InstallContribNbextensionsApp] Copying: E:\\progy\\lib\\site-packages\\jupyter_contrib_nbextensions\\nbextensions\\spellchecker\\config.yaml -> C:\\ProgramData\\jupyter\\nbextensions\\spellchecker\\config.yaml\n",
      "[I 15:10:37 InstallContribNbextensionsApp] Copying: E:\\progy\\lib\\site-packages\\jupyter_contrib_nbextensions\\nbextensions\\spellchecker\\download_new_dict.py -> C:\\ProgramData\\jupyter\\nbextensions\\spellchecker\\download_new_dict.py\n",
      "[I 15:10:37 InstallContribNbextensionsApp] Copying: E:\\progy\\lib\\site-packages\\jupyter_contrib_nbextensions\\nbextensions\\spellchecker\\main.css -> C:\\ProgramData\\jupyter\\nbextensions\\spellchecker\\main.css\n",
      "[I 15:10:37 InstallContribNbextensionsApp] Copying: E:\\progy\\lib\\site-packages\\jupyter_contrib_nbextensions\\nbextensions\\spellchecker\\main.js -> C:\\ProgramData\\jupyter\\nbextensions\\spellchecker\\main.js\n",
      "[I 15:10:37 InstallContribNbextensionsApp] Copying: E:\\progy\\lib\\site-packages\\jupyter_contrib_nbextensions\\nbextensions\\spellchecker\\README.md -> C:\\ProgramData\\jupyter\\nbextensions\\spellchecker\\README.md\n",
      "[I 15:10:37 InstallContribNbextensionsApp] Copying: E:\\progy\\lib\\site-packages\\jupyter_contrib_nbextensions\\nbextensions\\spellchecker\\screenshot.png -> C:\\ProgramData\\jupyter\\nbextensions\\spellchecker\\screenshot.png\n",
      "[I 15:10:37 InstallContribNbextensionsApp] Making directory: C:\\ProgramData\\jupyter\\nbextensions\\spellchecker\\typo\n",
      "[I 15:10:37 InstallContribNbextensionsApp] Copying: E:\\progy\\lib\\site-packages\\jupyter_contrib_nbextensions\\nbextensions\\spellchecker\\typo\\LICENSE.txt -> C:\\ProgramData\\jupyter\\nbextensions\\spellchecker\\typo\\LICENSE.txt\n",
      "[I 15:10:37 InstallContribNbextensionsApp] Copying: E:\\progy\\lib\\site-packages\\jupyter_contrib_nbextensions\\nbextensions\\spellchecker\\typo\\typo.js -> C:\\ProgramData\\jupyter\\nbextensions\\spellchecker\\typo\\typo.js\n",
      "[I 15:10:37 InstallContribNbextensionsApp] Making directory: C:\\ProgramData\\jupyter\\nbextensions\\spellchecker\\__pycache__\n",
      "[I 15:10:37 InstallContribNbextensionsApp] Copying: E:\\progy\\lib\\site-packages\\jupyter_contrib_nbextensions\\nbextensions\\spellchecker\\__pycache__\\download_new_dict.cpython-38.pyc -> C:\\ProgramData\\jupyter\\nbextensions\\spellchecker\\__pycache__\\download_new_dict.cpython-38.pyc\n",
      "[I 15:10:37 InstallContribNbextensionsApp] - Validating: ok\n",
      "[I 15:10:37 InstallContribNbextensionsApp] Installing E:\\progy\\lib\\site-packages\\jupyter_contrib_nbextensions\\nbextensions\\splitcell -> splitcell\n",
      "[I 15:10:37 InstallContribNbextensionsApp] Making directory: C:\\ProgramData\\jupyter\\nbextensions\\splitcell\\\n",
      "[I 15:10:37 InstallContribNbextensionsApp] Copying: E:\\progy\\lib\\site-packages\\jupyter_contrib_nbextensions\\nbextensions\\splitcell\\icon.png -> C:\\ProgramData\\jupyter\\nbextensions\\splitcell\\icon.png\n",
      "[I 15:10:37 InstallContribNbextensionsApp] Copying: E:\\progy\\lib\\site-packages\\jupyter_contrib_nbextensions\\nbextensions\\splitcell\\readme.md -> C:\\ProgramData\\jupyter\\nbextensions\\splitcell\\readme.md\n",
      "[I 15:10:37 InstallContribNbextensionsApp] Copying: E:\\progy\\lib\\site-packages\\jupyter_contrib_nbextensions\\nbextensions\\splitcell\\splitcell.js -> C:\\ProgramData\\jupyter\\nbextensions\\splitcell\\splitcell.js\n",
      "[I 15:10:37 InstallContribNbextensionsApp] Copying: E:\\progy\\lib\\site-packages\\jupyter_contrib_nbextensions\\nbextensions\\splitcell\\splitcell.yaml -> C:\\ProgramData\\jupyter\\nbextensions\\splitcell\\splitcell.yaml\n",
      "[I 15:10:37 InstallContribNbextensionsApp] - Validating: ok\n",
      "[I 15:10:37 InstallContribNbextensionsApp] Installing E:\\progy\\lib\\site-packages\\jupyter_contrib_nbextensions\\nbextensions\\table_beautifier -> table_beautifier\n",
      "[I 15:10:37 InstallContribNbextensionsApp] Making directory: C:\\ProgramData\\jupyter\\nbextensions\\table_beautifier\\\n",
      "[I 15:10:37 InstallContribNbextensionsApp] Copying: E:\\progy\\lib\\site-packages\\jupyter_contrib_nbextensions\\nbextensions\\table_beautifier\\main.css -> C:\\ProgramData\\jupyter\\nbextensions\\table_beautifier\\main.css\n",
      "[I 15:10:37 InstallContribNbextensionsApp] Copying: E:\\progy\\lib\\site-packages\\jupyter_contrib_nbextensions\\nbextensions\\table_beautifier\\main.js -> C:\\ProgramData\\jupyter\\nbextensions\\table_beautifier\\main.js\n",
      "[I 15:10:37 InstallContribNbextensionsApp] Copying: E:\\progy\\lib\\site-packages\\jupyter_contrib_nbextensions\\nbextensions\\table_beautifier\\README.md -> C:\\ProgramData\\jupyter\\nbextensions\\table_beautifier\\README.md\n",
      "[I 15:10:37 InstallContribNbextensionsApp] Copying: E:\\progy\\lib\\site-packages\\jupyter_contrib_nbextensions\\nbextensions\\table_beautifier\\table_beautifier.yaml -> C:\\ProgramData\\jupyter\\nbextensions\\table_beautifier\\table_beautifier.yaml\n",
      "[I 15:10:37 InstallContribNbextensionsApp] - Validating: ok\n",
      "[I 15:10:37 InstallContribNbextensionsApp] Installing E:\\progy\\lib\\site-packages\\jupyter_contrib_nbextensions\\nbextensions\\toc2 -> toc2\n",
      "[I 15:10:37 InstallContribNbextensionsApp] Making directory: C:\\ProgramData\\jupyter\\nbextensions\\toc2\\\n",
      "[I 15:10:37 InstallContribNbextensionsApp] Copying: E:\\progy\\lib\\site-packages\\jupyter_contrib_nbextensions\\nbextensions\\toc2\\demo.gif -> C:\\ProgramData\\jupyter\\nbextensions\\toc2\\demo.gif\n",
      "[I 15:10:37 InstallContribNbextensionsApp] Copying: E:\\progy\\lib\\site-packages\\jupyter_contrib_nbextensions\\nbextensions\\toc2\\demo2.gif -> C:\\ProgramData\\jupyter\\nbextensions\\toc2\\demo2.gif\n",
      "[I 15:10:37 InstallContribNbextensionsApp] Copying: E:\\progy\\lib\\site-packages\\jupyter_contrib_nbextensions\\nbextensions\\toc2\\demo3.gif -> C:\\ProgramData\\jupyter\\nbextensions\\toc2\\demo3.gif\n",
      "[I 15:10:37 InstallContribNbextensionsApp] Copying: E:\\progy\\lib\\site-packages\\jupyter_contrib_nbextensions\\nbextensions\\toc2\\demo_dark.png -> C:\\ProgramData\\jupyter\\nbextensions\\toc2\\demo_dark.png\n",
      "[I 15:10:37 InstallContribNbextensionsApp] Copying: E:\\progy\\lib\\site-packages\\jupyter_contrib_nbextensions\\nbextensions\\toc2\\icon.png -> C:\\ProgramData\\jupyter\\nbextensions\\toc2\\icon.png\n",
      "[I 15:10:37 InstallContribNbextensionsApp] Copying: E:\\progy\\lib\\site-packages\\jupyter_contrib_nbextensions\\nbextensions\\toc2\\image.png -> C:\\ProgramData\\jupyter\\nbextensions\\toc2\\image.png\n",
      "[I 15:10:37 InstallContribNbextensionsApp] Copying: E:\\progy\\lib\\site-packages\\jupyter_contrib_nbextensions\\nbextensions\\toc2\\main.css -> C:\\ProgramData\\jupyter\\nbextensions\\toc2\\main.css\n",
      "[I 15:10:37 InstallContribNbextensionsApp] Copying: E:\\progy\\lib\\site-packages\\jupyter_contrib_nbextensions\\nbextensions\\toc2\\main.js -> C:\\ProgramData\\jupyter\\nbextensions\\toc2\\main.js\n",
      "[I 15:10:37 InstallContribNbextensionsApp] Copying: E:\\progy\\lib\\site-packages\\jupyter_contrib_nbextensions\\nbextensions\\toc2\\README.md -> C:\\ProgramData\\jupyter\\nbextensions\\toc2\\README.md\n",
      "[I 15:10:37 InstallContribNbextensionsApp] Copying: E:\\progy\\lib\\site-packages\\jupyter_contrib_nbextensions\\nbextensions\\toc2\\toc2.js -> C:\\ProgramData\\jupyter\\nbextensions\\toc2\\toc2.js\n",
      "[I 15:10:37 InstallContribNbextensionsApp] Copying: E:\\progy\\lib\\site-packages\\jupyter_contrib_nbextensions\\nbextensions\\toc2\\toc2.yaml -> C:\\ProgramData\\jupyter\\nbextensions\\toc2\\toc2.yaml\n",
      "[I 15:10:37 InstallContribNbextensionsApp] - Validating: ok\n",
      "[I 15:10:37 InstallContribNbextensionsApp] Installing E:\\progy\\lib\\site-packages\\jupyter_contrib_nbextensions\\nbextensions\\toggle_all_line_numbers -> toggle_all_line_numbers\n",
      "[I 15:10:37 InstallContribNbextensionsApp] Making directory: C:\\ProgramData\\jupyter\\nbextensions\\toggle_all_line_numbers\\\n",
      "[I 15:10:37 InstallContribNbextensionsApp] Copying: E:\\progy\\lib\\site-packages\\jupyter_contrib_nbextensions\\nbextensions\\toggle_all_line_numbers\\icon.png -> C:\\ProgramData\\jupyter\\nbextensions\\toggle_all_line_numbers\\icon.png\n",
      "[I 15:10:37 InstallContribNbextensionsApp] Copying: E:\\progy\\lib\\site-packages\\jupyter_contrib_nbextensions\\nbextensions\\toggle_all_line_numbers\\main.js -> C:\\ProgramData\\jupyter\\nbextensions\\toggle_all_line_numbers\\main.js\n",
      "[I 15:10:37 InstallContribNbextensionsApp] Copying: E:\\progy\\lib\\site-packages\\jupyter_contrib_nbextensions\\nbextensions\\toggle_all_line_numbers\\main.yaml -> C:\\ProgramData\\jupyter\\nbextensions\\toggle_all_line_numbers\\main.yaml\n",
      "[I 15:10:37 InstallContribNbextensionsApp] Copying: E:\\progy\\lib\\site-packages\\jupyter_contrib_nbextensions\\nbextensions\\toggle_all_line_numbers\\readme.md -> C:\\ProgramData\\jupyter\\nbextensions\\toggle_all_line_numbers\\readme.md\n",
      "[I 15:10:37 InstallContribNbextensionsApp] - Validating: ok\n",
      "[I 15:10:37 InstallContribNbextensionsApp] Installing E:\\progy\\lib\\site-packages\\jupyter_contrib_nbextensions\\nbextensions\\tree-filter -> tree-filter\n",
      "[I 15:10:37 InstallContribNbextensionsApp] Making directory: C:\\ProgramData\\jupyter\\nbextensions\\tree-filter\\\n",
      "[I 15:10:37 InstallContribNbextensionsApp] Copying: E:\\progy\\lib\\site-packages\\jupyter_contrib_nbextensions\\nbextensions\\tree-filter\\demo.gif -> C:\\ProgramData\\jupyter\\nbextensions\\tree-filter\\demo.gif\n",
      "[I 15:10:37 InstallContribNbextensionsApp] Copying: E:\\progy\\lib\\site-packages\\jupyter_contrib_nbextensions\\nbextensions\\tree-filter\\index.js -> C:\\ProgramData\\jupyter\\nbextensions\\tree-filter\\index.js\n",
      "[I 15:10:37 InstallContribNbextensionsApp] Copying: E:\\progy\\lib\\site-packages\\jupyter_contrib_nbextensions\\nbextensions\\tree-filter\\readme.md -> C:\\ProgramData\\jupyter\\nbextensions\\tree-filter\\readme.md\n",
      "[I 15:10:37 InstallContribNbextensionsApp] Copying: E:\\progy\\lib\\site-packages\\jupyter_contrib_nbextensions\\nbextensions\\tree-filter\\tree-filter.yaml -> C:\\ProgramData\\jupyter\\nbextensions\\tree-filter\\tree-filter.yaml\n",
      "[I 15:10:37 InstallContribNbextensionsApp] - Validating: ok\n",
      "[I 15:10:37 InstallContribNbextensionsApp] Installing E:\\progy\\lib\\site-packages\\jupyter_contrib_nbextensions\\nbextensions\\varInspector -> varInspector\n",
      "[I 15:10:37 InstallContribNbextensionsApp] Making directory: C:\\ProgramData\\jupyter\\nbextensions\\varInspector\\\n",
      "[I 15:10:37 InstallContribNbextensionsApp] Copying: E:\\progy\\lib\\site-packages\\jupyter_contrib_nbextensions\\nbextensions\\varInspector\\demo.gif -> C:\\ProgramData\\jupyter\\nbextensions\\varInspector\\demo.gif\n",
      "[I 15:10:37 InstallContribNbextensionsApp] Copying: E:\\progy\\lib\\site-packages\\jupyter_contrib_nbextensions\\nbextensions\\varInspector\\icon.png -> C:\\ProgramData\\jupyter\\nbextensions\\varInspector\\icon.png\n",
      "[I 15:10:37 InstallContribNbextensionsApp] Copying: E:\\progy\\lib\\site-packages\\jupyter_contrib_nbextensions\\nbextensions\\varInspector\\jquery.tablesorter.min.js -> C:\\ProgramData\\jupyter\\nbextensions\\varInspector\\jquery.tablesorter.min.js\n",
      "[I 15:10:37 InstallContribNbextensionsApp] Copying: E:\\progy\\lib\\site-packages\\jupyter_contrib_nbextensions\\nbextensions\\varInspector\\main.css -> C:\\ProgramData\\jupyter\\nbextensions\\varInspector\\main.css\n",
      "[I 15:10:37 InstallContribNbextensionsApp] Copying: E:\\progy\\lib\\site-packages\\jupyter_contrib_nbextensions\\nbextensions\\varInspector\\main.js -> C:\\ProgramData\\jupyter\\nbextensions\\varInspector\\main.js\n",
      "[I 15:10:37 InstallContribNbextensionsApp] Copying: E:\\progy\\lib\\site-packages\\jupyter_contrib_nbextensions\\nbextensions\\varInspector\\README.md -> C:\\ProgramData\\jupyter\\nbextensions\\varInspector\\README.md\n",
      "[I 15:10:37 InstallContribNbextensionsApp] Copying: E:\\progy\\lib\\site-packages\\jupyter_contrib_nbextensions\\nbextensions\\varInspector\\tablesorter_LICENSE.txt -> C:\\ProgramData\\jupyter\\nbextensions\\varInspector\\tablesorter_LICENSE.txt\n",
      "[I 15:10:37 InstallContribNbextensionsApp] Copying: E:\\progy\\lib\\site-packages\\jupyter_contrib_nbextensions\\nbextensions\\varInspector\\varInspector.yaml -> C:\\ProgramData\\jupyter\\nbextensions\\varInspector\\varInspector.yaml\n",
      "[I 15:10:37 InstallContribNbextensionsApp] Copying: E:\\progy\\lib\\site-packages\\jupyter_contrib_nbextensions\\nbextensions\\varInspector\\var_list.py -> C:\\ProgramData\\jupyter\\nbextensions\\varInspector\\var_list.py\n",
      "[I 15:10:37 InstallContribNbextensionsApp] Copying: E:\\progy\\lib\\site-packages\\jupyter_contrib_nbextensions\\nbextensions\\varInspector\\var_list.r -> C:\\ProgramData\\jupyter\\nbextensions\\varInspector\\var_list.r\n",
      "[I 15:10:37 InstallContribNbextensionsApp] Making directory: C:\\ProgramData\\jupyter\\nbextensions\\varInspector\\__pycache__\n",
      "[I 15:10:37 InstallContribNbextensionsApp] Copying: E:\\progy\\lib\\site-packages\\jupyter_contrib_nbextensions\\nbextensions\\varInspector\\__pycache__\\var_list.cpython-38.pyc -> C:\\ProgramData\\jupyter\\nbextensions\\varInspector\\__pycache__\\var_list.cpython-38.pyc\n",
      "[I 15:10:37 InstallContribNbextensionsApp] - Validating: ok\n",
      "[I 15:10:37 InstallContribNbextensionsApp] Installing E:\\progy\\lib\\site-packages\\jupyter_contrib_nbextensions\\nbextensions\\zenmode -> zenmode\n",
      "[I 15:10:37 InstallContribNbextensionsApp] Making directory: C:\\ProgramData\\jupyter\\nbextensions\\zenmode\\\n",
      "[I 15:10:37 InstallContribNbextensionsApp] Copying: E:\\progy\\lib\\site-packages\\jupyter_contrib_nbextensions\\nbextensions\\zenmode\\main.css -> C:\\ProgramData\\jupyter\\nbextensions\\zenmode\\main.css\n",
      "[I 15:10:37 InstallContribNbextensionsApp] Copying: E:\\progy\\lib\\site-packages\\jupyter_contrib_nbextensions\\nbextensions\\zenmode\\main.js -> C:\\ProgramData\\jupyter\\nbextensions\\zenmode\\main.js\n",
      "[I 15:10:37 InstallContribNbextensionsApp] Copying: E:\\progy\\lib\\site-packages\\jupyter_contrib_nbextensions\\nbextensions\\zenmode\\README.md -> C:\\ProgramData\\jupyter\\nbextensions\\zenmode\\README.md\n",
      "[I 15:10:37 InstallContribNbextensionsApp] Copying: E:\\progy\\lib\\site-packages\\jupyter_contrib_nbextensions\\nbextensions\\zenmode\\zenmode.yaml -> C:\\ProgramData\\jupyter\\nbextensions\\zenmode\\zenmode.yaml\n",
      "[I 15:10:37 InstallContribNbextensionsApp] Making directory: C:\\ProgramData\\jupyter\\nbextensions\\zenmode\\images\n",
      "[I 15:10:37 InstallContribNbextensionsApp] Copying: E:\\progy\\lib\\site-packages\\jupyter_contrib_nbextensions\\nbextensions\\zenmode\\images\\back1.jpg -> C:\\ProgramData\\jupyter\\nbextensions\\zenmode\\images\\back1.jpg\n",
      "[I 15:10:37 InstallContribNbextensionsApp] Copying: E:\\progy\\lib\\site-packages\\jupyter_contrib_nbextensions\\nbextensions\\zenmode\\images\\back11.jpg -> C:\\ProgramData\\jupyter\\nbextensions\\zenmode\\images\\back11.jpg\n",
      "[I 15:10:37 InstallContribNbextensionsApp] Copying: E:\\progy\\lib\\site-packages\\jupyter_contrib_nbextensions\\nbextensions\\zenmode\\images\\back12.jpg -> C:\\ProgramData\\jupyter\\nbextensions\\zenmode\\images\\back12.jpg\n",
      "[I 15:10:37 InstallContribNbextensionsApp] Copying: E:\\progy\\lib\\site-packages\\jupyter_contrib_nbextensions\\nbextensions\\zenmode\\images\\back2.jpg -> C:\\ProgramData\\jupyter\\nbextensions\\zenmode\\images\\back2.jpg\n",
      "[I 15:10:37 InstallContribNbextensionsApp] Copying: E:\\progy\\lib\\site-packages\\jupyter_contrib_nbextensions\\nbextensions\\zenmode\\images\\back21.jpg -> C:\\ProgramData\\jupyter\\nbextensions\\zenmode\\images\\back21.jpg\n",
      "[I 15:10:37 InstallContribNbextensionsApp] Copying: E:\\progy\\lib\\site-packages\\jupyter_contrib_nbextensions\\nbextensions\\zenmode\\images\\back22.jpg -> C:\\ProgramData\\jupyter\\nbextensions\\zenmode\\images\\back22.jpg\n",
      "[I 15:10:37 InstallContribNbextensionsApp] Copying: E:\\progy\\lib\\site-packages\\jupyter_contrib_nbextensions\\nbextensions\\zenmode\\images\\back3.jpg -> C:\\ProgramData\\jupyter\\nbextensions\\zenmode\\images\\back3.jpg\n",
      "[I 15:10:37 InstallContribNbextensionsApp] Copying: E:\\progy\\lib\\site-packages\\jupyter_contrib_nbextensions\\nbextensions\\zenmode\\images\\ipynblogo0.png -> C:\\ProgramData\\jupyter\\nbextensions\\zenmode\\images\\ipynblogo0.png\n",
      "[I 15:10:37 InstallContribNbextensionsApp] Copying: E:\\progy\\lib\\site-packages\\jupyter_contrib_nbextensions\\nbextensions\\zenmode\\images\\ipynblogo1.png -> C:\\ProgramData\\jupyter\\nbextensions\\zenmode\\images\\ipynblogo1.png\n",
      "[I 15:10:37 InstallContribNbextensionsApp] - Validating: ok\n",
      "[I 15:10:37 InstallContribNbextensionsApp] Installing E:\\progy\\lib\\site-packages\\jupyter_highlight_selected_word\\static\\highlight_selected_word -> highlight_selected_word\n",
      "[I 15:10:37 InstallContribNbextensionsApp] Making directory: C:\\ProgramData\\jupyter\\nbextensions\\highlight_selected_word\\\n",
      "[I 15:10:37 InstallContribNbextensionsApp] Copying: E:\\progy\\lib\\site-packages\\jupyter_highlight_selected_word\\static\\highlight_selected_word\\configurator.yaml -> C:\\ProgramData\\jupyter\\nbextensions\\highlight_selected_word\\configurator.yaml\n",
      "[I 15:10:37 InstallContribNbextensionsApp] Copying: E:\\progy\\lib\\site-packages\\jupyter_highlight_selected_word\\static\\highlight_selected_word\\main.js -> C:\\ProgramData\\jupyter\\nbextensions\\highlight_selected_word\\main.js\n",
      "[I 15:10:37 InstallContribNbextensionsApp] Copying: E:\\progy\\lib\\site-packages\\jupyter_highlight_selected_word\\static\\highlight_selected_word\\README.md -> C:\\ProgramData\\jupyter\\nbextensions\\highlight_selected_word\\README.md\n",
      "[I 15:10:37 InstallContribNbextensionsApp] - Validating: ok\n",
      "[I 15:10:37 InstallContribNbextensionsApp] Installing jupyter_contrib_nbextensions items to config in C:\\ProgramData\\jupyter\n",
      "Enabling: jupyter_nbextensions_configurator\n",
      "- Writing config: C:\\ProgramData\\jupyter\n",
      "    - Validating...\n",
      "      jupyter_nbextensions_configurator 0.6.1 ok\n",
      "Enabling notebook nbextension nbextensions_configurator/config_menu/main...\n",
      "Enabling tree nbextension nbextensions_configurator/tree_tab/main...\n",
      "[I 15:10:37 InstallContribNbextensionsApp] Enabling notebook extension contrib_nbextensions_help_item/main...\n",
      "[I 15:10:37 InstallContribNbextensionsApp]       - Validating: ok\n",
      "[I 15:10:37 InstallContribNbextensionsApp] - Editing config: C:\\ProgramData\\jupyter\\jupyter_nbconvert_config.json\n",
      "[I 15:10:37 InstallContribNbextensionsApp] --  Configuring nbconvert template path\n",
      "[I 15:10:37 InstallContribNbextensionsApp] --  Configuring nbconvert preprocessors\n",
      "[I 15:10:37 InstallContribNbextensionsApp] - Writing config: C:\\ProgramData\\jupyter\\jupyter_nbconvert_config.json\n",
      "[I 15:10:37 InstallContribNbextensionsApp] --  Writing updated config file C:\\ProgramData\\jupyter\\jupyter_nbconvert_config.json\n"
     ]
    }
   ],
   "source": [
    "#pip install jupyter_contrib_nbextensions && jupyter contrib nbextension install "
   ]
  },
  {
   "cell_type": "markdown",
   "metadata": {
    "heading_collapsed": true
   },
   "source": [
    "# Начало"
   ]
  },
  {
   "cell_type": "code",
   "execution_count": 6,
   "metadata": {
    "hidden": true
   },
   "outputs": [
    {
     "name": "stdout",
     "output_type": "stream",
     "text": [
      "Параметры квадрата: \n",
      "    сторона - 3,\n",
      "    периметр - 12,\n",
      "    площадь - 9.\n"
     ]
    }
   ],
   "source": [
    "out = '''Параметры квадрата: \n",
    "    сторона - 3,\n",
    "    периметр - 12,\n",
    "    площадь - 9.'''\n",
    "print(out)"
   ]
  },
  {
   "cell_type": "code",
   "execution_count": 4,
   "metadata": {
    "hidden": true
   },
   "outputs": [
    {
     "ename": "TypeError",
     "evalue": "can't multiply sequence by non-int of type 'float'",
     "output_type": "error",
     "traceback": [
      "\u001b[1;31m---------------------------------------------------------------------------\u001b[0m",
      "\u001b[1;31mTypeError\u001b[0m                                 Traceback (most recent call last)",
      "\u001b[1;32m<ipython-input-4-9c73a582eb98>\u001b[0m in \u001b[0;36m<module>\u001b[1;34m\u001b[0m\n\u001b[1;32m----> 1\u001b[1;33m \u001b[0mprint\u001b[0m\u001b[1;33m(\u001b[0m\u001b[0mout\u001b[0m \u001b[1;33m*\u001b[0m \u001b[1;36m2.0\u001b[0m\u001b[1;33m)\u001b[0m\u001b[1;33m\u001b[0m\u001b[1;33m\u001b[0m\u001b[0m\n\u001b[0m",
      "\u001b[1;31mTypeError\u001b[0m: can't multiply sequence by non-int of type 'float'"
     ]
    }
   ],
   "source": [
    "print(out * 2.0)"
   ]
  },
  {
   "cell_type": "code",
   "execution_count": 1,
   "metadata": {
    "hidden": true
   },
   "outputs": [
    {
     "ename": "SyntaxError",
     "evalue": "invalid syntax (<ipython-input-1-b58d07d45d51>, line 1)",
     "output_type": "error",
     "traceback": [
      "\u001b[1;36m  File \u001b[1;32m\"<ipython-input-1-b58d07d45d51>\"\u001b[1;36m, line \u001b[1;32m1\u001b[0m\n\u001b[1;33m    *(name, =, 'Clint, Eastwood')\u001b[0m\n\u001b[1;37m            ^\u001b[0m\n\u001b[1;31mSyntaxError\u001b[0m\u001b[1;31m:\u001b[0m invalid syntax\n"
     ]
    }
   ],
   "source": [
    "'''\n",
    "name = 'Clint Eastwood'\n",
    "print(name[10:])\n",
    "'''"
   ]
  },
  {
   "cell_type": "code",
   "execution_count": 6,
   "metadata": {
    "hidden": true
   },
   "outputs": [
    {
     "name": "stdout",
     "output_type": "stream",
     "text": [
      "Eas\n"
     ]
    }
   ],
   "source": [
    "name = 'Clint Eastwood'\n",
    "print(name[6:9]) "
   ]
  },
  {
   "cell_type": "code",
   "execution_count": 7,
   "metadata": {
    "hidden": true
   },
   "outputs": [
    {
     "name": "stdout",
     "output_type": "stream",
     "text": [
      "Clint\n"
     ]
    }
   ],
   "source": [
    "name = 'Clint Eastwood'\n",
    "print(name[:5]) "
   ]
  },
  {
   "cell_type": "code",
   "execution_count": 8,
   "metadata": {
    "hidden": true
   },
   "outputs": [
    {
     "name": "stdout",
     "output_type": "stream",
     "text": [
      "\n"
     ]
    }
   ],
   "source": [
    "name = 'Clint Eastwood'\n",
    "print(name[100:]) "
   ]
  },
  {
   "cell_type": "code",
   "execution_count": 3,
   "metadata": {
    "hidden": true
   },
   "outputs": [
    {
     "name": "stdout",
     "output_type": "stream",
     "text": [
      "['C1alint', 'Calint', 'Clint', 'Eastwood']\n"
     ]
    }
   ],
   "source": [
    "name = ['Eastwood', 'Clint', 'Calint', 'C1alint']\n",
    "name.sort()\n",
    "print(name)"
   ]
  },
  {
   "cell_type": "code",
   "execution_count": 4,
   "metadata": {
    "hidden": true
   },
   "outputs": [],
   "source": [
    "import math \n",
    "\n",
    "fact = 1\n",
    "\n",
    "for i in range(1, 11):\n",
    "    fact *= i "
   ]
  },
  {
   "cell_type": "code",
   "execution_count": 5,
   "metadata": {
    "hidden": true
   },
   "outputs": [
    {
     "name": "stdout",
     "output_type": "stream",
     "text": [
      "3628800\n"
     ]
    }
   ],
   "source": [
    "print(fact)"
   ]
  },
  {
   "cell_type": "code",
   "execution_count": 5,
   "metadata": {
    "hidden": true
   },
   "outputs": [
    {
     "name": "stdout",
     "output_type": "stream",
     "text": [
      "950.0\n"
     ]
    }
   ],
   "source": [
    "a = 1000\n",
    "a -= a * 0.05\n",
    "print(a)"
   ]
  },
  {
   "cell_type": "code",
   "execution_count": 1,
   "metadata": {
    "hidden": true
   },
   "outputs": [],
   "source": [
    "months = [[1, 'январь'], [2, 'февраль'], [3, 'март'], [4, 'апрель'], [5, 'май'], [6, 'июнь'], [7, 'июль'], [8, 'август'], [9, 'сентябрь'], [10, 'октябрь'], [11, 'ноябрь'], [12, 'декабрь']]\n",
    "\n",
    "def number_to_month(data, num):\n",
    "    for row in data:\n",
    "        if(num == row[0]):\n",
    "            return row[1]\n",
    "    else:\n",
    "        return 'Такого месяца нет'\n",
    "    print (\"Этот код никогда не выполнится\")"
   ]
  },
  {
   "cell_type": "code",
   "execution_count": 4,
   "metadata": {
    "hidden": true
   },
   "outputs": [
    {
     "name": "stdout",
     "output_type": "stream",
     "text": [
      "Такого месяца нет\n"
     ]
    }
   ],
   "source": [
    "month = number_to_month(months, 89)\n",
    "print(month)"
   ]
  },
  {
   "cell_type": "code",
   "execution_count": 9,
   "metadata": {
    "hidden": true
   },
   "outputs": [],
   "source": [
    "time_string = '12:35'\n",
    "time = time_string.split(':')"
   ]
  },
  {
   "cell_type": "markdown",
   "metadata": {
    "hidden": true
   },
   "source": [
    "time"
   ]
  },
  {
   "cell_type": "code",
   "execution_count": 3,
   "metadata": {
    "hidden": true
   },
   "outputs": [],
   "source": [
    "nba_players = {\n",
    "    'Джеймс Харден': [2191, 2818, 2335],\n",
    "    'Леброн Джеймс': [2251, 1505, 1698],\n",
    "    'Дэмиан Лиллард': [1962, 2067, 2009],\n",
    "}"
   ]
  },
  {
   "cell_type": "code",
   "execution_count": 4,
   "metadata": {
    "hidden": true
   },
   "outputs": [
    {
     "name": "stdout",
     "output_type": "stream",
     "text": [
      "7344\n",
      "5454\n",
      "6038\n"
     ]
    }
   ],
   "source": [
    "for name, point in nba_players.items():\n",
    "    print(sum(point))"
   ]
  },
  {
   "cell_type": "code",
   "execution_count": null,
   "metadata": {
    "hidden": true
   },
   "outputs": [],
   "source": []
  },
  {
   "cell_type": "code",
   "execution_count": 5,
   "metadata": {
    "hidden": true
   },
   "outputs": [
    {
     "data": {
      "text/plain": [
       "'Дж. Оруэлл'"
      ]
     },
     "metadata": {},
     "output_type": "display_data"
    },
    {
     "data": {
      "text/plain": [
       "'1984'"
      ]
     },
     "metadata": {},
     "output_type": "display_data"
    },
    {
     "data": {
      "text/plain": [
       "'Лев Толстой'"
      ]
     },
     "metadata": {},
     "output_type": "display_data"
    },
    {
     "data": {
      "text/plain": [
       "'Война и мир'"
      ]
     },
     "metadata": {},
     "output_type": "display_data"
    },
    {
     "data": {
      "text/plain": [
       "'Ральф Эллисон'"
      ]
     },
     "metadata": {},
     "output_type": "display_data"
    },
    {
     "data": {
      "text/plain": [
       "'Человек-невидимка'"
      ]
     },
     "metadata": {},
     "output_type": "display_data"
    },
    {
     "data": {
      "text/plain": [
       "'Антуан де Сент-Экзюпери'"
      ]
     },
     "metadata": {},
     "output_type": "display_data"
    },
    {
     "data": {
      "text/plain": [
       "'Маленький принц'"
      ]
     },
     "metadata": {},
     "output_type": "display_data"
    }
   ],
   "source": [
    "books = {\n",
    "    'Дж. Оруэлл': '1984',\n",
    "    'Лев Толстой': 'Война и мир',\n",
    "    'Ральф Эллисон': 'Человек-невидимка',\n",
    "    'Антуан де Сент-Экзюпери': 'Маленький принц'\n",
    "}\n",
    "\n",
    "for author, title in books.items():\n",
    "    display(author, title) "
   ]
  },
  {
   "cell_type": "code",
   "execution_count": 2,
   "metadata": {
    "hidden": true
   },
   "outputs": [
    {
     "data": {
      "text/plain": [
       "276.0"
      ]
     },
     "execution_count": 2,
     "metadata": {},
     "output_type": "execute_result"
    }
   ],
   "source": [
    "(254 + 237 + 337) / 3"
   ]
  },
  {
   "cell_type": "code",
   "execution_count": 3,
   "metadata": {
    "hidden": true
   },
   "outputs": [
    {
     "data": {
      "text/plain": [
       "2.1000000000000002e-05"
      ]
     },
     "execution_count": 3,
     "metadata": {},
     "output_type": "execute_result"
    }
   ],
   "source": [
    "0.000000001 * 21000"
   ]
  },
  {
   "cell_type": "code",
   "execution_count": 6,
   "metadata": {
    "hidden": true
   },
   "outputs": [
    {
     "data": {
      "text/plain": [
       "0.15345"
      ]
     },
     "execution_count": 6,
     "metadata": {},
     "output_type": "execute_result"
    }
   ],
   "source": [
    "0.15387 - (0.000000001 * 21000 * 20)"
   ]
  },
  {
   "cell_type": "markdown",
   "metadata": {
    "heading_collapsed": true
   },
   "source": [
    "# Расчет времени выполнения урока"
   ]
  },
  {
   "cell_type": "code",
   "execution_count": 10,
   "metadata": {
    "hidden": true
   },
   "outputs": [],
   "source": [
    "import random\n",
    "import pandas as pd\n",
    "\n",
    "# Генерируем случайным образом время на занятие\n",
    "def lesson_time(min, max):\n",
    "    return random.randint(min, max)\n",
    "\n",
    "# Подсчитываем общую продолжительность урока из десяти занятий\n",
    "def sum_time_lesson(count_lessons, min, max):\n",
    "    sum_time = 0\n",
    "    for i in range(count_lessons): \n",
    "        value = lesson_time(min, max)\n",
    "        sum_time += value\n",
    "    return sum_time\n",
    "\n",
    "# Генерируем множество уроков и оцениваем средную продолжительность полученных уроков\n",
    "def final_func (count_lessons, min, max):\n",
    "    time_lessons = []\n",
    "    for i in range(10000):\n",
    "        time = sum_time_lesson(count_lessons, min, max)\n",
    "        time_lessons.append(time)\n",
    "    \n",
    "    return time_lessons"
   ]
  },
  {
   "cell_type": "markdown",
   "metadata": {
    "hidden": true
   },
   "source": [
    "**Другое решение**"
   ]
  },
  {
   "cell_type": "code",
   "execution_count": 1,
   "metadata": {
    "hidden": true
   },
   "outputs": [],
   "source": [
    "import random\n",
    "import pandas as pd\n",
    "import numpy as np\n",
    "\n",
    "# Генерируем случайным образом время на занятие\n",
    "def lesson_time(min, max):\n",
    "    array=[]\n",
    "    for i in range(max - min + 1):\n",
    "        array.append(i)\n",
    "    return np.random.choice(array, size=1)\n",
    "\n",
    "# Подсчитываем общую продолжительность урока из десяти занятий\n",
    "def sum_time_lesson(count_lessons, min, max):\n",
    "    sum_time = 0\n",
    "    for i in range(count_lessons): \n",
    "        value = lesson_time(min, max)\n",
    "        sum_time += value\n",
    "    return sum_time\n",
    "\n",
    "# Генерируем множество уроков и оцениваем средную продолжительность полученных уроков\n",
    "def final_func (count_lessons, min, max):\n",
    "    time_lessons = []\n",
    "    for i in range(10000):\n",
    "        time = sum_time_lesson(count_lessons, min, max)\n",
    "        time_lessons.append(time)\n",
    "    \n",
    "    return time_lessons"
   ]
  },
  {
   "cell_type": "code",
   "execution_count": 11,
   "metadata": {
    "hidden": true
   },
   "outputs": [
    {
     "data": {
      "text/html": [
       "<div>\n",
       "<style scoped>\n",
       "    .dataframe tbody tr th:only-of-type {\n",
       "        vertical-align: middle;\n",
       "    }\n",
       "\n",
       "    .dataframe tbody tr th {\n",
       "        vertical-align: top;\n",
       "    }\n",
       "\n",
       "    .dataframe thead th {\n",
       "        text-align: right;\n",
       "    }\n",
       "</style>\n",
       "<table border=\"1\" class=\"dataframe\">\n",
       "  <thead>\n",
       "    <tr style=\"text-align: right;\">\n",
       "      <th></th>\n",
       "      <th>0</th>\n",
       "    </tr>\n",
       "  </thead>\n",
       "  <tbody>\n",
       "    <tr>\n",
       "      <th>count</th>\n",
       "      <td>10000.00000</td>\n",
       "    </tr>\n",
       "    <tr>\n",
       "      <th>mean</th>\n",
       "      <td>60.04520</td>\n",
       "    </tr>\n",
       "    <tr>\n",
       "      <th>std</th>\n",
       "      <td>6.30439</td>\n",
       "    </tr>\n",
       "    <tr>\n",
       "      <th>min</th>\n",
       "      <td>41.00000</td>\n",
       "    </tr>\n",
       "    <tr>\n",
       "      <th>25%</th>\n",
       "      <td>56.00000</td>\n",
       "    </tr>\n",
       "    <tr>\n",
       "      <th>50%</th>\n",
       "      <td>60.00000</td>\n",
       "    </tr>\n",
       "    <tr>\n",
       "      <th>75%</th>\n",
       "      <td>65.00000</td>\n",
       "    </tr>\n",
       "    <tr>\n",
       "      <th>max</th>\n",
       "      <td>80.00000</td>\n",
       "    </tr>\n",
       "  </tbody>\n",
       "</table>\n",
       "</div>"
      ],
      "text/plain": [
       "                 0\n",
       "count  10000.00000\n",
       "mean      60.04520\n",
       "std        6.30439\n",
       "min       41.00000\n",
       "25%       56.00000\n",
       "50%       60.00000\n",
       "75%       65.00000\n",
       "max       80.00000"
      ]
     },
     "metadata": {},
     "output_type": "display_data"
    },
    {
     "name": "stdout",
     "output_type": "stream",
     "text": [
      "\n",
      " Среднее время на урок: 0    1.0\n",
      "dtype: float64\n"
     ]
    },
    {
     "data": {
      "image/png": "[encoded data removed]",
      "text/plain": [
       "<Figure size 432x288 with 1 Axes>"
      ]
     },
     "metadata": {
      "needs_background": "light"
     },
     "output_type": "display_data"
    }
   ],
   "source": [
    "# в скобочках (число уроков в теме, минимальное время на урок, максимальное время на урок)\n",
    "result = final_func(4, 10, 20)\n",
    "\n",
    "df_time_lessons = pd.DataFrame(result)\n",
    "df_time_lessons.hist(bins=50)\n",
    "\n",
    "# описательная статистика по сгенерированным данным\n",
    "display(df_time_lessons.describe())\n",
    "\n",
    "# Вывод среднего времени\n",
    "print('\\n', 'Среднее время на урок:', round(df_time_lessons.mean()/60))"
   ]
  },
  {
   "cell_type": "code",
   "execution_count": 9,
   "metadata": {
    "hidden": true
   },
   "outputs": [
    {
     "data": {
      "text/html": [
       "<div>\n",
       "<style scoped>\n",
       "    .dataframe tbody tr th:only-of-type {\n",
       "        vertical-align: middle;\n",
       "    }\n",
       "\n",
       "    .dataframe tbody tr th {\n",
       "        vertical-align: top;\n",
       "    }\n",
       "\n",
       "    .dataframe thead th {\n",
       "        text-align: right;\n",
       "    }\n",
       "</style>\n",
       "<table border=\"1\" class=\"dataframe\">\n",
       "  <thead>\n",
       "    <tr style=\"text-align: right;\">\n",
       "      <th></th>\n",
       "      <th>0</th>\n",
       "    </tr>\n",
       "  </thead>\n",
       "  <tbody>\n",
       "    <tr>\n",
       "      <th>0</th>\n",
       "      <td>17</td>\n",
       "    </tr>\n",
       "    <tr>\n",
       "      <th>1</th>\n",
       "      <td>21</td>\n",
       "    </tr>\n",
       "    <tr>\n",
       "      <th>2</th>\n",
       "      <td>31</td>\n",
       "    </tr>\n",
       "    <tr>\n",
       "      <th>3</th>\n",
       "      <td>16</td>\n",
       "    </tr>\n",
       "    <tr>\n",
       "      <th>4</th>\n",
       "      <td>8</td>\n",
       "    </tr>\n",
       "    <tr>\n",
       "      <th>...</th>\n",
       "      <td>...</td>\n",
       "    </tr>\n",
       "    <tr>\n",
       "      <th>9995</th>\n",
       "      <td>11</td>\n",
       "    </tr>\n",
       "    <tr>\n",
       "      <th>9996</th>\n",
       "      <td>11</td>\n",
       "    </tr>\n",
       "    <tr>\n",
       "      <th>9997</th>\n",
       "      <td>10</td>\n",
       "    </tr>\n",
       "    <tr>\n",
       "      <th>9998</th>\n",
       "      <td>12</td>\n",
       "    </tr>\n",
       "    <tr>\n",
       "      <th>9999</th>\n",
       "      <td>27</td>\n",
       "    </tr>\n",
       "  </tbody>\n",
       "</table>\n",
       "<p>10000 rows × 1 columns</p>\n",
       "</div>"
      ],
      "text/plain": [
       "       0\n",
       "0     17\n",
       "1     21\n",
       "2     31\n",
       "3     16\n",
       "4      8\n",
       "...   ..\n",
       "9995  11\n",
       "9996  11\n",
       "9997  10\n",
       "9998  12\n",
       "9999  27\n",
       "\n",
       "[10000 rows x 1 columns]"
      ]
     },
     "execution_count": 9,
     "metadata": {},
     "output_type": "execute_result"
    }
   ],
   "source": [
    "df_time_lessons"
   ]
  },
  {
   "cell_type": "markdown",
   "metadata": {
    "heading_collapsed": true
   },
   "source": [
    "# Различные расчёты и полезные фичи"
   ]
  },
  {
   "cell_type": "code",
   "execution_count": 12,
   "metadata": {
    "hidden": true
   },
   "outputs": [
    {
     "name": "stdout",
     "output_type": "stream",
     "text": [
      "                      age  time_on_website  made_a_purchase  money_spent\n",
      "age              1.000000        -0.248214        -0.379875     0.363981\n",
      "time_on_website -0.248214         1.000000         0.256575    -0.115563\n",
      "made_a_purchase -0.379875         0.256575         1.000000     0.669435\n",
      "money_spent      0.363981        -0.115563         0.669435     1.000000\n"
     ]
    }
   ],
   "source": [
    "import pandas as pd\n",
    "\n",
    "users_df = pd.DataFrame({\n",
    "    \"age\": [23, 45, 38, 47, 25, 27, 34],\n",
    "    \"time_on_website\": [15, 47, 18, 32, 55, 125, 9],\n",
    "    \"made_a_purchase\": [1, 0, 1, 1, 1, 1, 0],\n",
    "    \"money_spent\": [11.1, 0, 20.9, 31.4, 5.5, 9.7, 0]\n",
    "})\n",
    "\n",
    "print(users_df.corr()) "
   ]
  },
  {
   "cell_type": "code",
   "execution_count": null,
   "metadata": {
    "hidden": true
   },
   "outputs": [],
   "source": []
  },
  {
   "cell_type": "code",
   "execution_count": 1,
   "metadata": {
    "hidden": true
   },
   "outputs": [
    {
     "name": "stdout",
     "output_type": "stream",
     "text": [
      "13.34\n"
     ]
    }
   ],
   "source": [
    "non = 1 - 0.29 - 0.25\n",
    "print(non * 0.29 * 100)"
   ]
  },
  {
   "cell_type": "code",
   "execution_count": 14,
   "metadata": {
    "hidden": true
   },
   "outputs": [
    {
     "name": "stdout",
     "output_type": "stream",
     "text": [
      "4.62962962962963\n"
     ]
    }
   ],
   "source": [
    "I = 4\n",
    "II = 3\n",
    "III = 9\n",
    "n = 5\n",
    "\n",
    "print((1 / I) * (1 / II) * (5 / III) * 100)"
   ]
  },
  {
   "cell_type": "code",
   "execution_count": 9,
   "metadata": {
    "hidden": true
   },
   "outputs": [
    {
     "name": "stdout",
     "output_type": "stream",
     "text": [
      "0.006172839506172839\n"
     ]
    }
   ],
   "source": [
    "import numpy as np\n",
    "\n",
    "x_probs = {\n",
    "    '-4': 0.05,\n",
    "    '-2': 0.25,\n",
    "    '0': 0.1,\n",
    "    '1': 0.1,\n",
    "    '5': 0.1,\n",
    "    '7': 0.05,\n",
    "    '15': 0.35,\n",
    "}\n",
    "# Интересная логика представлена ниже при суммировании в одной строке\n",
    "\"\"\"\n",
    "Получается, что в подобной записи int(x_i) - мы обращаемся именно к ключу, преобразуем его из строки в целое число.\n",
    "Затем умножаем на x_probs[x_i] - что значит умножаем на значение по заданному ключу.\n",
    "Таким хитрым образом, если у нас у каждого ключа есть одно значение, то мы можем одной строчкой всё перемножить.\n",
    "\"\"\"\n",
    "expectation = sum([int(x_i) * x_probs[x_i] for x_i in x_probs])\n",
    "\n",
    "expectation_square = sum([int(x_i) * int(x_i) * x_probs[x_i] for x_i in x_probs])\n",
    "\n",
    "variance = expectation_square - expectation**2\n",
    "\n",
    "print('Математическое ожидание равно', expectation)\n",
    "print('Дисперсия равна', variance)"
   ]
  },
  {
   "cell_type": "code",
   "execution_count": 18,
   "metadata": {
    "hidden": true
   },
   "outputs": [
    {
     "ename": "TypeError",
     "evalue": "unsupported operand type(s) for +: 'int' and 'list'",
     "output_type": "error",
     "traceback": [
      "\u001b[1;31m---------------------------------------------------------------------------\u001b[0m",
      "\u001b[1;31mTypeError\u001b[0m                                 Traceback (most recent call last)",
      "\u001b[1;32m<ipython-input-18-3d5a3c953596>\u001b[0m in \u001b[0;36m<module>\u001b[1;34m\u001b[0m\n\u001b[0;32m      3\u001b[0m     \u001b[1;34m'3'\u001b[0m\u001b[1;33m:\u001b[0m \u001b[1;33m[\u001b[0m\u001b[1;36m3\u001b[0m\u001b[1;33m,\u001b[0m \u001b[1;36m4\u001b[0m\u001b[1;33m]\u001b[0m\u001b[1;33m,\u001b[0m\u001b[1;33m\u001b[0m\u001b[1;33m\u001b[0m\u001b[0m\n\u001b[0;32m      4\u001b[0m }\n\u001b[1;32m----> 5\u001b[1;33m \u001b[0mprint\u001b[0m\u001b[1;33m(\u001b[0m\u001b[0msum\u001b[0m\u001b[1;33m(\u001b[0m\u001b[1;33m[\u001b[0m\u001b[0mint\u001b[0m\u001b[1;33m(\u001b[0m\u001b[0mx_i\u001b[0m\u001b[1;33m)\u001b[0m \u001b[1;33m*\u001b[0m \u001b[0mdictor\u001b[0m\u001b[1;33m[\u001b[0m\u001b[0mx_i\u001b[0m\u001b[1;33m]\u001b[0m \u001b[1;32mfor\u001b[0m \u001b[0mx_i\u001b[0m \u001b[1;32min\u001b[0m \u001b[0mdictor\u001b[0m\u001b[1;33m]\u001b[0m\u001b[1;33m)\u001b[0m\u001b[1;33m)\u001b[0m\u001b[1;33m\u001b[0m\u001b[1;33m\u001b[0m\u001b[0m\n\u001b[0m",
      "\u001b[1;31mTypeError\u001b[0m: unsupported operand type(s) for +: 'int' and 'list'"
     ]
    }
   ],
   "source": [
    "dictor = {\n",
    "    '2': [2, 3],\n",
    "    '3': [3, 4],\n",
    "}\n",
    "print(sum([int(x_i) * dictor[x_i] for x_i in dictor]))"
   ]
  },
  {
   "cell_type": "code",
   "execution_count": 2,
   "metadata": {
    "hidden": true
   },
   "outputs": [],
   "source": [
    "from matplotlib import pyplot as plt\n",
    "from math import factorial"
   ]
  },
  {
   "cell_type": "code",
   "execution_count": 22,
   "metadata": {
    "hidden": true
   },
   "outputs": [
    {
     "data": {
      "text/plain": [
       "<BarContainer object of 7 artists>"
      ]
     },
     "execution_count": 22,
     "metadata": {},
     "output_type": "execute_result"
    },
    {
     "data": {
      "image/png": "[encoded data removed]",
      "text/plain": [
       "<Figure size 432x288 with 1 Axes>"
      ]
     },
     "metadata": {
      "needs_background": "light"
     },
     "output_type": "display_data"
    }
   ],
   "source": [
    "\"\"\"\n",
    "Формулировка задачи:\n",
    "Питон Петя решил после питонопитомника поступить в питоноакадемию. \n",
    "Для этого ему надо сдать шесть разных (не зависящих друг от друга) экзаменов. \n",
    "Петя думает, что он отлично подготовился: вероятность завалить каждый из этих экзаменов, \n",
    "судя по пробным вариантам, для него равна 15%.\n",
    "Постройте распределение вероятностей для случайной величины «количество заваленных Петей экзаменов» \n",
    "и гистограмму для нее.\n",
    "\"\"\"\n",
    "\n",
    "from matplotlib import pyplot as plt\n",
    "from math import factorial\n",
    "\n",
    "n_exams = 6 # вставьте ваш код сюда: сколько экзаменов надо сдать?\n",
    "failure_rate = 0.15 # вставьте ваш код сюда: какова вероятность завалить один экзамен?\n",
    "\n",
    "# вставьте ваш код сюда: создайте список distr, в котором будете хранить значения распределения\n",
    "distr = []\n",
    "\n",
    "for k in range(0, n_exams + 1):\n",
    "    # вставьте ваш код сюда: посчитайте вероятность завалить \n",
    "    # 0 экзаменов, 1 экзамен и так далее до 6\n",
    "    \n",
    "    choose = factorial(n_exams) / (factorial(k) * factorial(n_exams - k))\n",
    "    prob = choose * failure_rate**k * (1 - failure_rate)**(n_exams - k)\n",
    "    distr.append(prob)\n",
    "    \n",
    "# построение гистограммы распределения вероятностей\n",
    "plt.bar(range(0,n_exams+1), distr)"
   ]
  },
  {
   "cell_type": "code",
   "execution_count": 7,
   "metadata": {
    "hidden": true
   },
   "outputs": [
    {
     "name": "stdout",
     "output_type": "stream",
     "text": [
      "0.08284191945650154\n"
     ]
    },
    {
     "data": {
      "text/plain": [
       "'\\nВероятность случайно получить 715715 переходов вместо 750750 — небольшая, \\nпримерно %8.3%. Однако не настолько маленькая, чтобы это событие практически не случалось.\\nС учётом этой вероятности можно утверждать, что из каждых 100 блогеров, \\nчей контент заслужил дополнительного продвижения, восемь будут получать 715 кликов или меньше.\\nПолучается, это совсем не редкое событие, и претензии блогера неуместны.\\n'"
      ]
     },
     "execution_count": 7,
     "metadata": {},
     "output_type": "execute_result"
    }
   ],
   "source": [
    "\"\"\"\n",
    "К примеру, на краудсорсинг-сервисе блогеры собирают донаты. \n",
    "Авторам лучшего контента вы дарите дополнительное продвижение: 5000 показов рекламы их творчества на главной странице \n",
    "сервиса. Блогеры довольны — с показов рекламы на их страницы переходит 15% пользователей. \n",
    "Это по 750 переходов с 5000 показов.\n",
    "Один блогер — автор лучшего контента — получил лишь 715 переходов вместо ожидаемых 750. \n",
    "И возмутился, ведь в прошлый раз переходов было больше. \n",
    "Обратившись к статистике, разрешите конфликт с создателем контента. \n",
    "Насколько вероятно получить такое или меньшее число переходов?\n",
    "Каждый пользователь видит рекламу и с вероятностью 15% кликает по ней. \n",
    "Предполагая, что пользователи делают это независимо, получаем биномиальное распределение с n=5000 и p=0.15. \n",
    "Аппроксимируем биномиальное нормальным распределением. \n",
    "Это значит найти такое нормальное распределение, которое максимально близко описывает это биномиальное, \n",
    "задав ему такие же среднее и дисперсию, как у биномиального.\n",
    "Найдём вероятность получить 715 кликов или меньше, применив метод cdf():\n",
    "\"\"\"\n",
    "\n",
    "from scipy import stats as st\n",
    "import math as mt\n",
    "\n",
    "binom_n = 5000\n",
    "binom_p = 0.15\n",
    "\n",
    "bloger_clicks = 715\n",
    "\n",
    "mu = binom_n * binom_p\n",
    "sigma = mt.sqrt(binom_n * binom_p * (1 - binom_p))\n",
    "\n",
    "p_clicks = st.norm(mu, sigma).cdf(bloger_clicks)\n",
    "print(p_clicks)\n",
    "\n",
    "\"\"\"\n",
    "Вероятность случайно получить 715715 переходов вместо 750750 — небольшая, \n",
    "примерно %8.3%. Однако не настолько маленькая, чтобы это событие практически не случалось.\n",
    "С учётом этой вероятности можно утверждать, что из каждых 100 блогеров, \n",
    "чей контент заслужил дополнительного продвижения, восемь будут получать 715 кликов или меньше.\n",
    "Получается, это совсем не редкое событие, и претензии блогера неуместны.\n",
    "\"\"\""
   ]
  },
  {
   "cell_type": "code",
   "execution_count": 8,
   "metadata": {
    "code_folding": [],
    "hidden": true
   },
   "outputs": [
    {
     "name": "stdout",
     "output_type": "stream",
     "text": [
      "2.3000000000000003\n"
     ]
    }
   ],
   "source": [
    "x = {1: 0.1, 2: 0.5, 3: 0.4} \n",
    "\n",
    "def get_mean(x):\n",
    "    mean = 0\n",
    "    for i in x:\n",
    "        mean += i * x[i]\n",
    "    return mean \n",
    "\n",
    "print(get_mean(x))"
   ]
  },
  {
   "cell_type": "code",
   "execution_count": 3,
   "metadata": {
    "hidden": true
   },
   "outputs": [],
   "source": [
    "from matplotlib import pyplot as plt\n",
    "from math import factorial"
   ]
  },
  {
   "cell_type": "code",
   "execution_count": 4,
   "metadata": {
    "hidden": true
   },
   "outputs": [
    {
     "data": {
      "text/plain": [
       "11175.0"
      ]
     },
     "execution_count": 4,
     "metadata": {},
     "output_type": "execute_result"
    }
   ],
   "source": [
    "factorial(150) / (factorial(2) * factorial(150 - 2))"
   ]
  },
  {
   "cell_type": "code",
   "execution_count": null,
   "metadata": {
    "hidden": true
   },
   "outputs": [],
   "source": [
    "#Пример как можно в цикле for итерировать сразу по нескольким массивам\n",
    "def error_count(answers, predictions):\n",
    "    count = 0\n",
    "    for ans, predict in zip(answers, predictions):\n",
    "        if(ans != predict):\n",
    "            count += 1\n",
    "    return count"
   ]
  },
  {
   "cell_type": "code",
   "execution_count": 1,
   "metadata": {
    "hidden": true
   },
   "outputs": [
    {
     "name": "stdout",
     "output_type": "stream",
     "text": [
      "14249.25\n"
     ]
    }
   ],
   "source": [
    "predicts = [623, 253, 150, 237]\n",
    "original = [649, 253, 370, 148]\n",
    "\n",
    "result = 0\n",
    "\n",
    "for pred, orig in zip(predicts, original):\n",
    "    result += (pred - orig) ** 2\n",
    "    \n",
    "print(result / len(predicts))"
   ]
  },
  {
   "cell_type": "code",
   "execution_count": 2,
   "metadata": {
    "hidden": true
   },
   "outputs": [],
   "source": [
    "import pandas as pd"
   ]
  },
  {
   "cell_type": "code",
   "execution_count": 3,
   "metadata": {
    "code_folding": [],
    "hidden": true
   },
   "outputs": [],
   "source": [
    "samples_A = pd.Series([\n",
    "     98.24,  97.77,  95.56,  99.49, 101.4 , 105.35,  95.83,  93.02,\n",
    "    101.37,  95.66,  98.34, 100.75, 104.93,  97.  ,  95.46, 100.03,\n",
    "    102.34,  98.23,  97.05,  97.76,  98.63,  98.82,  99.51,  99.31,\n",
    "     98.58,  96.84,  93.71, 101.38, 100.6 , 103.68, 104.78, 101.51,\n",
    "    100.89, 102.27,  99.87,  94.83,  95.95, 105.2 ,  97.  ,  95.54,\n",
    "     98.38,  99.81, 103.34, 101.14, 102.19,  94.77,  94.74,  99.56,\n",
    "    102.  , 100.95, 102.19, 103.75, 103.65,  95.07, 103.53, 100.42,\n",
    "     98.09,  94.86, 101.47, 103.07, 100.15, 100.32, 100.89, 101.23,\n",
    "     95.95, 103.69, 100.09,  96.28,  96.11,  97.63,  99.45, 100.81,\n",
    "    102.18,  94.92,  98.89, 101.48, 101.29,  94.43, 101.55,  95.85,\n",
    "    100.16,  97.49, 105.17, 104.83, 101.9 , 100.56, 104.91,  94.17,\n",
    "    103.48, 100.55, 102.66, 100.62,  96.93, 102.67, 101.27,  98.56,\n",
    "    102.41, 100.69,  99.67, 100.99])"
   ]
  },
  {
   "cell_type": "code",
   "execution_count": 24,
   "metadata": {
    "hidden": true
   },
   "outputs": [
    {
     "data": {
      "text/plain": [
       "0     98.24\n",
       "1     97.77\n",
       "2     95.56\n",
       "3     99.49\n",
       "4    101.40\n",
       "dtype: float64"
      ]
     },
     "execution_count": 24,
     "metadata": {},
     "output_type": "execute_result"
    }
   ],
   "source": [
    "samples_A[: 5]"
   ]
  },
  {
   "cell_type": "code",
   "execution_count": 4,
   "metadata": {
    "hidden": true
   },
   "outputs": [
    {
     "data": {
      "text/plain": [
       "RangeIndex(start=0, stop=7, step=1)"
      ]
     },
     "execution_count": 4,
     "metadata": {},
     "output_type": "execute_result"
    }
   ],
   "source": [
    "# Пример Кросс валидации в ручную\n",
    "\n",
    "# Не запускать, просто как пример\n",
    "\n",
    "#data = pd.read_csv('/datasets/heart.csv')\n",
    "features = data.drop(['target'], axis=1)\n",
    "target = data['target']\n",
    "\n",
    "scores = []\n",
    "\n",
    "# зададим размер блока, если их всего три\n",
    "sample_size = int(len(data)/3)\n",
    "\n",
    "for i in range(0, len(data), sample_size):\n",
    "\n",
    "    valid_indexes = data.iloc[i: i + sample_size].index\n",
    "    train_indexes = (data.iloc[:i] + data.iloc[i + sample_size:]).index\n",
    "    \n",
    "    features_train = features.iloc[train_indexes]\n",
    "    features_valid = features.iloc[valid_indexes]\n",
    "    target_train = target.iloc[train_indexes]\n",
    "    target_valid = target.iloc[valid_indexes]\n",
    "\n",
    "    model = DecisionTreeClassifier(random_state=0)\n",
    "    model = model.fit(features_train, target_train)\n",
    "    score = model.score(features_valid, target_valid)\n",
    "    \n",
    "    scores.append(score)\n",
    "\n",
    "\n",
    "final_score = np.mean(scores)\n",
    "print('Средняя оценка качества модели:', final_score)"
   ]
  },
  {
   "cell_type": "code",
   "execution_count": null,
   "metadata": {
    "hidden": true
   },
   "outputs": [],
   "source": []
  },
  {
   "cell_type": "markdown",
   "metadata": {},
   "source": [
    "# Иное"
   ]
  },
  {
   "cell_type": "code",
   "execution_count": null,
   "metadata": {},
   "outputs": [],
   "source": [
    "!CMD"
   ]
  },
  {
   "cell_type": "code",
   "execution_count": null,
   "metadata": {},
   "outputs": [],
   "source": []
  }
 ],
 "metadata": {
  "celltoolbar": "Raw Cell Format",
  "kernelspec": {
   "display_name": "Python 3",
   "language": "python",
   "name": "python3"
  },
  "language_info": {
   "codemirror_mode": {
    "name": "ipython",
    "version": 3
   },
   "file_extension": ".py",
   "mimetype": "text/x-python",
   "name": "python",
   "nbconvert_exporter": "python",
   "pygments_lexer": "ipython3",
   "version": "3.8.5"
  },
  "toc": {
   "base_numbering": 1,
   "nav_menu": {
    "height": "365px",
    "width": "193px"
   },
   "number_sections": true,
   "sideBar": true,
   "skip_h1_title": false,
   "title_cell": "Table of Contents",
   "title_sidebar": "Contents",
   "toc_cell": false,
   "toc_position": {
    "height": "calc(100% - 180px)",
    "left": "10px",
    "top": "150px",
    "width": "439px"
   },
   "toc_section_display": true,
   "toc_window_display": true
  }
 },
 "nbformat": 4,
 "nbformat_minor": 4
}
